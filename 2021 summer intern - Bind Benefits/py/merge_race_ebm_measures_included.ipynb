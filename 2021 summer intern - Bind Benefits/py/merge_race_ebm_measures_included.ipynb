{
 "cells": [
  {
   "cell_type": "code",
   "execution_count": null,
   "metadata": {},
   "outputs": [],
   "source": [
    "#%%timeit #calculate runtime jupyter \n",
    "import warnings\n",
    "warnings.filterwarnings('ignore')\n",
    "import pandas as pd\n",
    "import timeit\n",
    "import random\n",
    "import sys\n",
   ]
  },
  {
   "cell_type": "code",
   "execution_count": null,
   "metadata": {},
   "outputs": [],
   "source": [
    "# presto access credentials\n",
    "username = input('Enter your jumpcloud username: ')\n",
    "print('Enter your password:')\n",
    "conn = pymei.connect.presto(username=username, phi=True, starburst=True)"
   ]
  },
  {
   "cell_type": "code",
   "execution_count": null,
   "metadata": {},
   "outputs": [],
   "source": []
  },
  {
   "cell_type": "code",
   "execution_count": null,
   "metadata": {},
   "outputs": [],
   "source": [
    "# join all the ebm, race, ndi in 1 query: \n",
    "\n",
    "start = timeit.default_timer()\n",
    "\n",
    "query1 = '''with race_data as (\n",
    "\tselect \n",
    "\t\trace.*,\n",
    "\t\tm.member_number,\n",
    "\t\tm.dob,\n",
    "\t\tm.gender,\n",
    "\t\tfloor(date_diff('DAY', m.dob, current_date) / 365.25) as age\n",
    "\tfrom hive.data_science_analytics.race_predict_v3_parquet race\n",
    "\tleft join hive.data_layer_prod.bind_vw_latest_member as m on race.member_id = m.member_id\n",
    "),\n",
    "milliman_data as (\n",
    "select\n",
    "  dim_member.member_id as member_number,\n",
    "  dim_ebm.ebm_measure_label,\n",
    "  dim_ebm.ci_measure_cat,\n",
    "  fact_ebm.numerator,\n",
    "  fact_ebm.denominator,\n",
    "  dim_date_ebm.yearmo_name\n",
    "    from milliman_current.qe.fact_ebm as fact_ebm\n",
    "    left join milliman_current.QE.DIM_DATE_EBM as DIM_DATE_EBM on (FACT_EBM.EBM_DATE_INT = DIM_DATE_EBM.YEARMO_KEY)\n",
    "    left join milliman_current.qe.dim_ebm as dim_ebm on fact_ebm.ebm_key = dim_ebm.ebm_key\n",
    "    left join milliman_current.qe.dim_member as dim_member on fact_ebm.member_key = dim_member.member_key\n",
    "    where\n",
    "  (\n",
    "    ebm_measure_label in (\n",
    "--starting here all underuse\n",
    "--'APP_TOTAL_2020 - Use of First-Line Psychosocial Care for Children and Adolescents on Antipsychotics (Total)',\n",
    "'PPC_PN_2020C - Prenatal and Postpartum Care: Prenatal Care',\n",
    "'PPC_PP_2020C - Prenatal and Postpartum Care: Postpartum Care',\n",
    "--'ADD_R1_2020C - Follow-Up Care for Children Prescribed ADHD Medication: Initiation Phase',\n",
    "--'ADD_R2_2020C - Follow-Up Care for Children Prescribed ADHD Medication: Continuation & Maintenance Phase',\n",
    "--'FUA30_TOTAL_2020 - Follow-Up After Emergency Department Visit for Alcohol and Other Drug Abuse or Dependence : 30 days (Overall)',\n",
    "--'FUA7_TOTAL_2020 - Follow-Up After Emergency Department Visit for Alcohol and Other Drug Abuse or Dependence : 07 days (Overall)',\n",
    "--'FUH_30_TOTAL_2020 - Follow-Up After Hospitalization for Mental Illness: Total (30 Days Post-Discharge)',\n",
    "--'FUH_7_TOTAL_2020 - Follow-Up After Hospitalization for Mental Illness: Total (7 Days Post-Discharge)',\n",
    "--'FUM_30_TOTAL_2020 - Follow-Up After Emergency Department Visit for Mental Illness (Total)-30 Day Follow-Up',\n",
    "--'FUM_7_TOTAL_2020 - Follow-Up After Emergency Department Visit for Mental Illness (Total)-7 Day Follow-Up',\n",
    "--'SAA_2020 - Adherence to Antipsychotic Medications for Individuals with Schizophrenia',\n",
    "--'SPC_R1_TOTAL_2020 - Statin Therapy for Patients with Cardiovascular Disease, Rate 1: Received Statin Therapy (Total)',\n",
    "--'SPC_R2_TOTAL_2020 - Statin Therapy for Patients with Cardiovascular Disease, Rate 2: Statin Adherence 80% (Total)',\n",
    "'CDC_A1C_T_2020C - Comprehensive Diabetes Care: Hemoglobin A1c (HbA1c) Testing',\n",
    "'PQA_BB_2018 - Percentage of members 18 years and older who met the PDC threshold of 80% for beta-blockers during the measurement period.',\n",
    "'PQA_RASA_2018 - Percentage of members 18 years and older who met the PDC threshold of 80% for Renin Angiotensin System Antagonists during the measurement period.',\n",
    "--'NYU_EM_ED_PA_2016 - NYU ED Utilization Algorithm: Emergent, ED Care Needed, Preventable/Avoidable',\n",
    "--'NCS_2020 - Non-Recommended Cervical Cancer Screening in Adolescent Females',\n",
    "'BCS_NON_MCR_2020C - Breast Cancer Screening',\n",
    "'CHL_TOTAL_2020C - Chlamydia Screening in Women (Total)',\n",
    "'COL_NON_MCR_2020C - Colorectal Cancer Screening',\n",
    "'IMA_HPV_2020 - Immunizations for Adolescents: HPV Vaccine',\n",
    "'IMA_MEN_2020 - Immunizations for Adolescents: Meningococcal Conjugate or Meningococcal Polysaccharide Vaccine',\n",
    "'IMA_TD_2020 - Immunizations for Adolescents: Tdap Vaccine',\n",
    "--'W15_V00_2020C - Well-Child Visits in the First 15 Months of Life: 0 Visits',\n",
    "--'W15_V01_2020C - Well-Child Visits in the First 15 Months of Life: 1 Visit',\n",
    "--'W15_V02_2020C - Well-Child Visits in the First 15 Months of Life: 2 Visits',\n",
    "--'W15_V03_2020C - Well-Child Visits in the First 15 Months of Life: 3 Visits',\n",
    "--'W15_V04_2020C - Well-Child Visits in the First 15 Months of Life: 4 Visits',\n",
    "--'W15_V05_2020C - Well-Child Visits in the First 15 Months of Life: 5 Visits',\n",
    "--'W15_V06+_2020C - Well-Child Visits in the First 15 Months of Life: 6 or more Visits',\n",
    "'W34_2020C - Well-Child Visits in the Third, Fourth, Fifth and Sixth Years of Life',\n",
    " --starting here all overuse\n",
    "--'NYU_EM_PCT_2016 - NYU ED Utilization Algorithm: Emergent, Primary Care Treatable',\n",
    "'NYU_NON_EM_2016 - NYU ED Utilization Algorithm: Non-Emergent',\n",
    "'AAB_2020C - Avoidance of Antibiotic Treatment for Acute Bronchitis/Bronchiolitis (Total)',\n",
    "--'APC_TOTAL_2019 - Use of Multiple Concurrent Antipsychotics in Children and Adolescents (Total)',\n",
    "'HDO_2020 - Use of Opioids at High Dosage',\n",
    "'LBP_2020C - Use of Imaging Studies for Low Back Pain',\n",
    "'UOP_NUM1_2020 - Use of Opioids from Multiple Providers (Multiple Prescribers)',\n",
    "'UOP_NUM2_2020 - Use of Opioids from Multiple Providers (Multiple Pharmacies)',\n",
    "'UOP_NUM3_2020 - Use of Opioids from Multiple Providers (Multiple Prescribers and Multiple Pharmacies)',\n",
    "'URI_2020C - Appropriate Treatment for Upper Respiratory Infection',\n",
    "'CWP_2020C - Appropriate Testing for Pharyngitis (Total)',\n",
    "'IQI_21_TOTAL_2017 - Cesarean Delivery Rate, Uncomplicated (Overall)'--,\n",
    "--'IQI_34_TOTAL_2017 - Vaginal Birth After Cesarean (VBAC) Rate, All (Overall)'\n",
    "    \t\t\t\t\t  )\n",
    "AND DIM_DATE_EBM.YEARMO_NAME in ('2020-12') --ebm end date in 2020-12\n",
    "  )\n",
    "    )\n",
    " select distinct \n",
    "\t*,\n",
    "\tn.adi_natrank,\n",
    "\tn.adi_staternk \n",
    "from milliman_data mm\n",
    "left join race_data r on r.member_number = mm.member_number\n",
    "left join hive.data_science_analytics.geocoded_members_parquet geo on geo.member_id = r.member_id\n",
    "left join hive.data_science_analytics.ndi_parquet n on n.fips = geo.block_group \n",
    "order by 1,2''' \n",
    "\n",
    "\n",
    "df =  pd.read_sql(query1, conn)\n",
    "\n",
    "stop = timeit.default_timer()\n",
    "print('Time: ', stop - start)\n",
    "\n"
   ]
  },
  {
   "cell_type": "code",
   "execution_count": null,
   "metadata": {},
   "outputs": [],
   "source": [
    "df.head()"
   ]
  },
  {
   "cell_type": "code",
   "execution_count": null,
   "metadata": {},
   "outputs": [],
   "source": [
    "r, c = df.shape\n",
    "print(r,c)"
   ]
  },
  {
   "cell_type": "code",
   "execution_count": null,
   "metadata": {},
   "outputs": [],
   "source": [
    "#check column names\n",
    "for col in df.columns:\n",
    "    print(col)"
   ]
  },
  {
   "cell_type": "code",
   "execution_count": null,
   "metadata": {},
   "outputs": [],
   "source": [
    "#Create under/overuse based on EBM measure label\n",
    "\n",
    "underuse = [\n",
    "#'APP_TOTAL_2020',# - Use of First-Line Psychosocial Care for Children and Adolescents on Antipsychotics (Total)',\n",
    "'PPC_PN_2020C',#  - Prenatal and Postpartum Care: Prenatal Care',\n",
    "'PPC_PP_2020C',#  - Prenatal and Postpartum Care: Postpartum Care',\n",
    "# 'ADD_R1_2020C',#  - Follow-Up Care for Children Prescribed ADHD Medication: Initiation Phase',\n",
    "# 'ADD_R2_2020C',#  - Follow-Up Care for Children Prescribed ADHD Medication: Continuation & Maintenance Phase',\n",
    "# 'FUA30_TOTAL_2020',#  - Follow-Up After Emergency Department Visit for Alcohol and Other Drug Abuse or Dependence : 30 days (Overall)',\n",
    "# 'FUA7_TOTAL_2020',#  - Follow-Up After Emergency Department Visit for Alcohol and Other Drug Abuse or Dependence : 07 days (Overall)',\n",
    "# 'FUH_30_TOTAL_2020',#  - Follow-Up After Hospitalization for Mental Illness: Total (30 Days Post-Discharge)',\n",
    "# 'FUH_7_TOTAL_2020',#  - Follow-Up After Hospitalization for Mental Illness: Total (7 Days Post-Discharge)',\n",
    "# 'FUM_30_TOTAL_2020',#  - Follow-Up After Emergency Department Visit for Mental Illness (Total)-30 Day Follow-Up',\n",
    "# 'FUM_7_TOTAL_2020',#  - Follow-Up After Emergency Department Visit for Mental Illness (Total)-7 Day Follow-Up',\n",
    "# 'SAA_2020',#  - Adherence to Antipsychotic Medications for Individuals with Schizophrenia',\n",
    "# 'SPC_R1_TOTAL_2020',#  - Statin Therapy for Patients with Cardiovascular Disease, Rate 1: Received Statin Therapy (Total)',\n",
    "# 'SPC_R2_TOTAL_2020',#  - Statin Therapy for Patients with Cardiovascular Disease, Rate 2: Statin Adherence 80% (Total)',\n",
    "'CDC_A1C_T_2020C',#  - Comprehensive Diabetes Care: Hemoglobin A1c (HbA1c) Testing',\n",
    "'PQA_BB_2018',#  - Percentage of members 18 years and older who met the PDC threshold of 80% for beta-blockers during the measurement period.',\n",
    "'PQA_RASA_2018',#  - Percentage of members 18 years and older who met the PDC threshold of 80% for Renin Angiotensin System Antagonists during the measurement period.',\n",
    "#'NYU_EM_ED_PA_2016',#  - NYU ED Utilization Algorithm: Emergent, ED Care Needed, Preventable/Avoidable',\n",
    "#'NCS_2020',#  - Non-Recommended Cervical Cancer Screening in Adolescent Females',\n",
    "'BCS_NON_MCR_2020C',#  - Breast Cancer Screening',\n",
    "'CHL_TOTAL_2020C',#  - Chlamydia Screening in Women (Total)',\n",
    "'COL_NON_MCR_2020C',#  - Colorectal Cancer Screening',\n",
    "'IMA_HPV_2020',#  - Immunizations for Adolescents: HPV Vaccine',\n",
    "'IMA_MEN_2020',#  - Immunizations for Adolescents: Meningococcal Conjugate or Meningococcal Polysaccharide Vaccine',\n",
    "'IMA_TD_2020',#  - Immunizations for Adolescents: Tdap Vaccine',\n",
    "# 'W15_V00_2020C',#  - Well-Child Visits in the First 15 Months of Life: 0 Visits',\n",
    "# 'W15_V01_2020C',#  - Well-Child Visits in the First 15 Months of Life: 1 Visit',\n",
    "# 'W15_V02_2020C',#  - Well-Child Visits in the First 15 Months of Life: 2 Visits',\n",
    "# 'W15_V03_2020C',#  - Well-Child Visits in the First 15 Months of Life: 3 Visits',\n",
    "# 'W15_V04_2020C',#  - Well-Child Visits in the First 15 Months of Life: 4 Visits',\n",
    "# 'W15_V05_2020C',#  - Well-Child Visits in the First 15 Months of Life: 5 Visits',\n",
    "# 'W15',#_V06+_2020C - Well-Child Visits in the First 15 Months of Life: 6 or more Visits',\n",
    "'W34_2020C'#  - Well-Child Visits in the Third, Fourth, Fifth and Sixth Years of Life'  \t\t\n",
    "           ]\n",
    "           \n",
    "\n",
    "overuse = [\n",
    "#'NYU_EM_PCT_2016',#  - NYU ED Utilization Algorithm: Emergent, Primary Care Treatable',\n",
    "'NYU_NON_EM_2016',#  - NYU ED Utilization Algorithm: Non-Emergent',\n",
    "'AAB_2020C',#  - Avoidance of Antibiotic Treatment for Acute Bronchitis/Bronchiolitis (Total)',\n",
    "#'APC_TOTAL_2019',#  - Use of Multiple Concurrent Antipsychotics in Children and Adolescents (Total)',\n",
    "'HDO_2020',#  - Use of Opioids at High Dosage',\n",
    "'LBP_2020C',#  - Use of Imaging Studies for Low Back Pain',\n",
    "'UOP_NUM1_2020',#  - Use of Opioids from Multiple Providers (Multiple Prescribers)',\n",
    "'UOP_NUM2_2020',#  - Use of Opioids from Multiple Providers (Multiple Pharmacies)',\n",
    "'UOP_NUM3_2020',#  - Use of Opioids from Multiple Providers (Multiple Prescribers and Multiple Pharmacies)',\n",
    "'URI_2020C',#  - Appropriate Treatment for Upper Respiratory Infection',\n",
    "'CWP_2020C',#  - Appropriate Testing for Pharyngitis (Total)',\n",
    "'IQI_21_TOTAL_2017'#,  - Cesarean Delivery Rate, Uncomplicated (Overall)',\n",
    "#'IQI_34_TOTAL_2017'#  - Vaginal Birth After Cesarean (VBAC) Rate, All (Overall)'\n",
    "          ]\n",
    "\n",
    "len(overuse + underuse )"
   ]
  },
  {
   "cell_type": "code",
   "execution_count": null,
   "metadata": {},
   "outputs": [],
   "source": [
    "#create another colum over/underuse based on \n",
    "df['over/underuse'] = pd.np.where(df.ebm_measure_label.str.contains('|'. join(overuse)), \"over\",\n",
    "                      pd.np.where(df.ebm_measure_label.str.contains('|'. join(underuse)), \"under\",\"NA\"\n",
    "                   ))\n",
    "df.head(10)"
   ]
  },
  {
   "cell_type": "code",
   "execution_count": null,
   "metadata": {},
   "outputs": [],
   "source": [
    "df['over/underuse'].value_counts()"
   ]
  },
  {
   "cell_type": "code",
   "execution_count": null,
   "metadata": {},
   "outputs": [],
   "source": [
    "#df['ebm_measure_label'].value_counts()"
   ]
  },
  {
   "cell_type": "code",
   "execution_count": null,
   "metadata": {},
   "outputs": [],
   "source": [
    "#randomly pick a member to check\n",
    "row_num = random.randint(1, r)\n",
    "df.loc[row_num,]"
   ]
  },
  {
   "cell_type": "code",
   "execution_count": null,
   "metadata": {},
   "outputs": [],
   "source": [
    "#check the over/underuse NAs\n",
    "#If everything is correct, the table should be empty - 0 rows\n",
    "\n",
    "na_df= df[df['over/underuse'] == 'NA']\n",
    "na_df.head()"
   ]
  },
  {
   "cell_type": "code",
   "execution_count": null,
   "metadata": {},
   "outputs": [],
   "source": [
    "na_df['ebm_measure_label'].value_counts()"
   ]
  },
  {
   "cell_type": "code",
   "execution_count": null,
   "metadata": {},
   "outputs": [],
   "source": [
    "n = len(pd.unique(df['ebm_measure_label']))\n",
    "  \n",
    "print(\"No.of unique categories under ebm.label :\", \n",
    "      n)"
   ]
  },
  {
   "cell_type": "code",
   "execution_count": null,
   "metadata": {},
   "outputs": [],
   "source": [
    "#save data to csv\n",
    "\n",
    "df.to_csv(r'.../restricted /race_ebm_analysis.csv', index = False)"
   ]
  },
  {
   "cell_type": "code",
   "execution_count": null,
   "metadata": {},
   "outputs": [],
   "source": [
    "#testing the saved data\n",
    "#load the save data\n",
    "test_df = pd.read_csv ('.../restricted /race_ebm_analysis.csv')\n",
    "\n",
    "ra, ca = test_df.shape\n",
    "print(ra,ca)\n"
   ]
  },
  {
   "cell_type": "code",
   "execution_count": null,
   "metadata": {},
   "outputs": [],
   "source": [
    "test_df.head()"
   ]
  },
  {
   "cell_type": "code",
   "execution_count": null,
   "metadata": {},
   "outputs": [],
   "source": []
  },
  {
   "cell_type": "code",
   "execution_count": null,
   "metadata": {},
   "outputs": [],
   "source": []
  },
  {
   "cell_type": "code",
   "execution_count": null,
   "metadata": {},
   "outputs": [],
   "source": []
  },
  {
   "cell_type": "code",
   "execution_count": null,
   "metadata": {},
   "outputs": [],
   "source": []
  },
  {
   "cell_type": "code",
   "execution_count": null,
   "metadata": {},
   "outputs": [],
   "source": []
  },
  {
   "cell_type": "code",
   "execution_count": null,
   "metadata": {},
   "outputs": [],
   "source": []
  }
 ],
 "metadata": {
  "kernelspec": {
   "display_name": "Python 3",
   "language": "python",
   "name": "python3"
  },
  "language_info": {
   "codemirror_mode": {
    "name": "ipython",
    "version": 3
   },
   "file_extension": ".py",
   "mimetype": "text/x-python",
   "name": "python",
   "nbconvert_exporter": "python",
   "pygments_lexer": "ipython3",
   "version": "3.7.3"
  }
 },
 "nbformat": 4,
 "nbformat_minor": 4
}
