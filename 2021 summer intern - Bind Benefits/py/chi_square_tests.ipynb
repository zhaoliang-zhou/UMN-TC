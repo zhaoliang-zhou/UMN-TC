{
 "cells": [
  {
   "cell_type": "code",
   "execution_count": null,
   "metadata": {},
   "outputs": [],
   "source": [
    "#load packages\n",
    "import warnings\n",
    "warnings.filterwarnings('ignore')\n",
    "import pandas as pd\n",
    "import timeit\n",
    "import random\n",
    "import sys\n",
    "from scipy.stats import chisquare\n",
    "from scipy.stats import chi2_contingency\n",
    "import numpy as np\n"
   ]
  },
  {
   "cell_type": "code",
   "execution_count": null,
   "metadata": {},
   "outputs": [],
   "source": [
    "# starburst access credentials. create connection\n",
    "username = input('Enter your jumpcloud username: ')\n",
    "print('Enter your password:')\n"
   ]
  },
  {
   "cell_type": "code",
   "execution_count": null,
   "metadata": {},
   "outputs": [],
   "source": [
    "#load data\n",
    "race_df = pd.read_csv ('.../race_ebm_analysis.csv')\n",
    "over_df = pd.read_csv ('.../overuse_df.csv')\n",
    "under_df = pd.read_csv ('.../underuse_df.csv')\n",
    "\n",
    "\n",
    "#convert data types\n",
    "race_df['over/underuse'] = race_df['over/underuse'].astype('category')\n",
    "race_df['ebm_measure_label'] = race_df['ebm_measure_label'].astype('category')\n",
    "\n",
    "over_df['over/underuse'] = over_df['over/underuse'].astype('category')\n",
    "over_df['ebm_measure_label'] = over_df['ebm_measure_label'].astype('category')\n",
    "\n",
    "under_df['over/underuse'] = under_df['over/underuse'].astype('category')\n",
    "under_df['ebm_measure_label'] = under_df['ebm_measure_label'].astype('category')"
   ]
  },
  {
   "cell_type": "code",
   "execution_count": null,
   "metadata": {},
   "outputs": [],
   "source": []
  },
  {
   "cell_type": "code",
   "execution_count": null,
   "metadata": {},
   "outputs": [],
   "source": [
    "#back-up section \n",
    "#proceed if we need to do the same procedure for the ebm analysis \n",
    "#1. remove NYU measure (from overall race.df and overuse.df). for NYU measures, numerator = fractions\n",
    "\n",
    "#2. convert numerator > 0 (2, or 3) to ==1\n",
    "\n",
    "#remove NYU measures\n",
    "# race_df = race_df[race_df.ci_measure_cat != 'NYU']\n",
    "# over_df = over_df[over_df.ci_measure_cat != 'NYU']\n",
    "\n",
    "# #convert numerator >1 to ==1\n",
    "# race_df.loc[race_df.numerator>1, \"numerator\"] = 1\n",
    "# over_df.loc[over_df.numerator>1, \"numerator\"] = 1\n",
    "\n"
   ]
  },
  {
   "cell_type": "code",
   "execution_count": null,
   "metadata": {},
   "outputs": [],
   "source": [
    "#aggergate level"
   ]
  },
  {
   "cell_type": "code",
   "execution_count": null,
   "metadata": {},
   "outputs": [],
   "source": [
    "#aggergate level - overuse\n",
    "\n",
    "\n",
    "#white\n",
    "#calculate number of rows where numerator > 0 \n",
    "owhite_num_1 = len(race_df[(race_df['predicted_race'] == 'white') & (race_df['numerator'] > 0) & (race_df['over/underuse'] == 'over')])\n",
    "#calcualte sum of numerator\n",
    "#white_num_1 = race_df.loc[(race_df['predicted_race'] == 'white')  & (race_df['over/underuse'] == 'over'), 'numerator'].sum()\n",
    "owhite_num_0 = len(race_df[(race_df['predicted_race'] == 'white') & (race_df['numerator'] ==0)  & (race_df['over/underuse'] == 'over') ])\n",
    "\n",
    "#black\n",
    "#calculate number of rows where numerator > 0 \n",
    "oblack_num_1 = len(race_df[(race_df['predicted_race'] == 'black') & (race_df['numerator'] > 0)  & (race_df['over/underuse'] == 'over')])\n",
    "#calcualte sum of numerator\n",
    "#black_num_1 = race_df.loc[(race_df['predicted_race'] == 'black')  & (race_df['over/underuse'] == 'over'), 'numerator'].sum() \n",
    "oblack_num_0 = len(race_df[(race_df['predicted_race'] == 'black') & (race_df['numerator'] == 0)  & (race_df['over/underuse'] == 'over')])\n",
    "\n",
    "\n",
    "#hispanic\n",
    "#calculate number of rows where numerator > 0 \n",
    "ohispanic_num_1 = len(race_df[(race_df['predicted_race'] == 'hispanic') & (race_df['numerator'] > 0)  & (race_df['over/underuse'] == 'over')])\n",
    "#calcualte sum of numerator\n",
    "#hispanic_num_1 = race_df.loc[(race_df['predicted_race'] == 'hispanic')  & (race_df['over/underuse'] == 'over'), 'numerator'].sum() \n",
    "ohispanic_num_0 = len(race_df[(race_df['predicted_race'] == 'hispanic') & (race_df['numerator'] == 0)  & (race_df['over/underuse'] == 'over')])\n",
    "\n",
    "\n",
    "\n",
    "agg_over_tab = pd.DataFrame(np.array([[owhite_num_1,\n",
    "                                      oblack_num_1,\n",
    "                                      ohispanic_num_1], \n",
    "                                [owhite_num_0,\n",
    "                                oblack_num_0,\n",
    "                                ohispanic_num_0]]),\n",
    "                   columns=['white','black','hispanic'],\n",
    "                   index = ['#num>0', 'num=0'] )\n",
    "\n",
    "agg_over_tab\n"
   ]
  },
  {
   "cell_type": "code",
   "execution_count": null,
   "metadata": {},
   "outputs": [],
   "source": [
    "#aggergate level - underuse\n",
    "\n",
    "\n",
    "#white\n",
    "#calculate number of rows where numerator > 0 \n",
    "uwhite_num_1 = len(race_df[(race_df['predicted_race'] == 'white') & (race_df['numerator'] > 0) & (race_df['over/underuse'] == 'under')])\n",
    "#calcualte sum of numerator\n",
    "#white_num_1 = race_df.loc[(race_df['predicted_race'] == 'white')  & (race_df['over/underuse'] == 'under'), 'numerator'].sum()\n",
    "uwhite_num_0 = len(race_df[(race_df['predicted_race'] == 'white') & (race_df['numerator'] ==0)  & (race_df['over/underuse'] == 'under') ])\n",
    "\n",
    "#black\n",
    "#calculate number of rows where numerator > 0 \n",
    "ublack_num_1 = len(race_df[(race_df['predicted_race'] == 'black') & (race_df['numerator'] > 0)  & (race_df['over/underuse'] == 'under')])\n",
    "#calcualte sum of numerator\n",
    "#black_num_1 = race_df.loc[(race_df['predicted_race'] == 'black')  & (race_df['over/underuse'] == 'under'), 'numerator'].sum() \n",
    "ublack_num_0 = len(race_df[(race_df['predicted_race'] == 'black') & (race_df['numerator'] == 0)  & (race_df['over/underuse'] == 'under')])\n",
    "\n",
    "\n",
    "#hispanic\n",
    "#calculate number of rows where numerator > 0 \n",
    "uhispanic_num_1 = len(race_df[(race_df['predicted_race'] == 'hispanic') & (race_df['numerator'] > 0)  & (race_df['over/underuse'] == 'under')])\n",
    "#calcualte sum of numerator\n",
    "#hispanic_num_1 = race_df.loc[(race_df['predicted_race'] == 'hispanic')  & (race_df['over/underuse'] == 'under'), 'numerator'].sum() \n",
    "uhispanic_num_0 = len(race_df[(race_df['predicted_race'] == 'hispanic') & (race_df['numerator'] == 0)  & (race_df['over/underuse'] == 'under')])\n",
    "\n",
    "\n",
    "\n",
    "agg_under_tab = pd.DataFrame(np.array([[uwhite_num_1,\n",
    "                                      ublack_num_1,\n",
    "                                      uhispanic_num_1], \n",
    "                                [uwhite_num_0,\n",
    "                                ublack_num_0,\n",
    "                                uhispanic_num_0]]),\n",
    "                   columns=['white','black','hispanic'],\n",
    "                   index = ['#num>0', 'num=0'] )\n",
    "\n",
    "agg_under_tab"
   ]
  },
  {
   "cell_type": "code",
   "execution_count": null,
   "metadata": {},
   "outputs": [],
   "source": []
  },
  {
   "cell_type": "code",
   "execution_count": null,
   "metadata": {},
   "outputs": [],
   "source": [
    "over_df['ebm_measure_label'].value_counts()"
   ]
  },
  {
   "cell_type": "code",
   "execution_count": null,
   "metadata": {},
   "outputs": [],
   "source": [
    "over_df['ebm_measure_label'][1]"
   ]
  },
  {
   "cell_type": "code",
   "execution_count": null,
   "metadata": {},
   "outputs": [],
   "source": [
    "chi2_contingency(agg_over_tab)"
   ]
  },
  {
   "cell_type": "code",
   "execution_count": null,
   "metadata": {},
   "outputs": [],
   "source": [
    "# 1 index for p-value\n",
    "chi2_contingency(agg_over_tab)[1]"
   ]
  },
  {
   "cell_type": "code",
   "execution_count": null,
   "metadata": {},
   "outputs": [],
   "source": [
    "chi2_contingency(agg_under_tab)"
   ]
  },
  {
   "cell_type": "code",
   "execution_count": null,
   "metadata": {},
   "outputs": [],
   "source": [
    "# 1 index for p-value\n",
    "chi2_contingency(agg_under_tab)[1]"
   ]
  },
  {
   "cell_type": "code",
   "execution_count": null,
   "metadata": {},
   "outputs": [],
   "source": []
  },
  {
   "cell_type": "code",
   "execution_count": null,
   "metadata": {},
   "outputs": [],
   "source": [
    "#specific level - overuse"
   ]
  },
  {
   "cell_type": "code",
   "execution_count": null,
   "metadata": {},
   "outputs": [],
   "source": []
  },
  {
   "cell_type": "code",
   "execution_count": null,
   "metadata": {},
   "outputs": [],
   "source": [
    "#specific level - underuse"
   ]
  },
  {
   "cell_type": "code",
   "execution_count": null,
   "metadata": {},
   "outputs": [],
   "source": []
  }
 ],
 "metadata": {
  "kernelspec": {
   "display_name": "Python 3",
   "language": "python",
   "name": "python3"
  },
  "language_info": {
   "codemirror_mode": {
    "name": "ipython",
    "version": 3
   },
   "file_extension": ".py",
   "mimetype": "text/x-python",
   "name": "python",
   "nbconvert_exporter": "python",
   "pygments_lexer": "ipython3",
   "version": "3.7.3"
  }
 },
 "nbformat": 4,
 "nbformat_minor": 4
}
