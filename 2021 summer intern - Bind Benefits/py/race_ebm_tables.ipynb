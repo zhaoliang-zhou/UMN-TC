{
 "cells": [
  {
   "cell_type": "code",
   "execution_count": null,
   "metadata": {},
   "outputs": [],
   "source": [
    "#load packages\n",
    "import warnings\n",
    "warnings.filterwarnings('ignore')\n",
    "import pandas as pd\n",
    "import timeit\n",
    "import random\n",
    "import numpy as np\n"
   ]
  },
  {
   "cell_type": "code",
   "execution_count": null,
   "metadata": {},
   "outputs": [],
   "source": [
    "# starburst access credentials. create connection\n",
    "username = input('Enter your jumpcloud username: ')\n",
    "print('Enter your password:')\n",
    "conn = ...connect.presto(username=username, phi=True, starburst=True)"
   ]
  },
  {
   "cell_type": "code",
   "execution_count": null,
   "metadata": {},
   "outputs": [],
   "source": [
    "#load data\n",
    "race_df = pd.read_csv ('.../restricted /race_ebm_analysis.csv')\n",
    "\n"
   ]
  },
  {
   "cell_type": "code",
   "execution_count": null,
   "metadata": {},
   "outputs": [],
   "source": [
    "\n"
   ]
  },
  {
   "cell_type": "code",
   "execution_count": null,
   "metadata": {},
   "outputs": [],
   "source": []
  },
  {
   "cell_type": "code",
   "execution_count": null,
   "metadata": {},
   "outputs": [],
   "source": [
    "#convert data types\n",
    "race_df['over/underuse'] = race_df['over/underuse'].astype('category')\n",
    "race_df['ebm_measure_label'] = race_df['ebm_measure_label'].astype('category')"
   ]
  },
  {
   "cell_type": "code",
   "execution_count": null,
   "metadata": {},
   "outputs": [],
   "source": [
    "race_df.dtypes['over/underuse']"
   ]
  },
  {
   "cell_type": "code",
   "execution_count": null,
   "metadata": {},
   "outputs": [],
   "source": []
  },
  {
   "cell_type": "code",
   "execution_count": null,
   "metadata": {},
   "outputs": [],
   "source": [
    "r, c = race_df.shape\n",
    "print(r,c)"
   ]
  },
  {
   "cell_type": "code",
   "execution_count": null,
   "metadata": {},
   "outputs": [],
   "source": [
    "race_df['over/underuse'].value_counts()"
   ]
  },
  {
   "cell_type": "code",
   "execution_count": null,
   "metadata": {},
   "outputs": [],
   "source": [
    "#check column names\n",
    "for col in race_df.columns:\n",
    "    print(col)"
   ]
  },
  {
   "cell_type": "code",
   "execution_count": null,
   "metadata": {},
   "outputs": [],
   "source": []
  },
  {
   "cell_type": "code",
   "execution_count": null,
   "metadata": {},
   "outputs": [],
   "source": [
    "# simple table of count by race\n",
    "race_df['predicted_race'].value_counts(normalize = True)"
   ]
  },
  {
   "cell_type": "code",
   "execution_count": null,
   "metadata": {},
   "outputs": [],
   "source": []
  },
  {
   "cell_type": "code",
   "execution_count": null,
   "metadata": {},
   "outputs": [],
   "source": []
  },
  {
   "cell_type": "code",
   "execution_count": null,
   "metadata": {},
   "outputs": [],
   "source": []
  },
  {
   "cell_type": "code",
   "execution_count": null,
   "metadata": {},
   "outputs": [],
   "source": []
  },
  {
   "cell_type": "code",
   "execution_count": null,
   "metadata": {},
   "outputs": [],
   "source": [
    "#iterative testing with groupby function for the over/underuse "
   ]
  },
  {
   "cell_type": "code",
   "execution_count": null,
   "metadata": {},
   "outputs": [],
   "source": [
    "#create final table numerator/denominator\n",
    "\n",
    "g = race_df.groupby('over/underuse')\n",
    "\n",
    "#white:\n",
    "white_list = g.apply(lambda x: x[x['predicted_race'] == 'white']['numerator'].sum()) / g.apply(lambda x: x[x['predicted_race'] == 'white']['denominator'].sum())\n",
    "\n",
    "#black:\n",
    "black_list = g.apply(lambda x: x[x['predicted_race'] == 'black']['numerator'].sum()) / g.apply(lambda x: x[x['predicted_race'] == 'black']['denominator'].sum())\n",
    "\n",
    "#hispanic\n",
    "hispanic_list = g.apply(lambda x: x[x['predicted_race'] == 'hispanic']['numerator'].sum()) / g.apply(lambda x: x[x['predicted_race'] == 'hispanic']['denominator'].sum())\n",
    "\n",
    "#api:\n",
    "api_list = g.apply(lambda x: x[x['predicted_race'] == 'api']['numerator'].sum()) / g.apply(lambda x: x[x['predicted_race'] == 'api']['denominator'].sum())\n",
    "\n",
    "#aian:\n",
    "aian_list = g.apply(lambda x: x[x['predicted_race'] == 'aian']['numerator'].sum()) / g.apply(lambda x: x[x['predicted_race'] == 'aian']['denominator'].sum())\n",
    "\n",
    "#2prace\n",
    "prace_list = g.apply(lambda x: x[x['predicted_race'] == '2prace']['numerator'].sum()) / g.apply(lambda x: x[x['predicted_race'] == '2prace']['denominator'].sum())\n",
    "\n",
    "tab2_df = pd.DataFrame(np.array([[white_list[0], \n",
    "                                 black_list[0], \n",
    "                                 hispanic_list[0], \n",
    "                                 api_list[0], \n",
    "                                 aian_list[0], \n",
    "                                 prace_list[0]], #overuse\n",
    "                                [white_list[1], \n",
    "                                 black_list[1], \n",
    "                                 hispanic_list[1], \n",
    "                                 api_list[1], \n",
    "                                 aian_list[1], \n",
    "                                 prace_list[1]]]),#underuse\n",
    "                   columns=['white', 'black', 'hispanic', 'api', 'aian', '2prace'],\n",
    "                   index = ['over', 'under'] )\n",
    "tab2_df\n"
   ]
  },
  {
   "cell_type": "code",
   "execution_count": null,
   "metadata": {},
   "outputs": [],
   "source": []
  },
  {
   "cell_type": "code",
   "execution_count": null,
   "metadata": {},
   "outputs": [],
   "source": [
    "g.apply(lambda x: x[x['predicted_race'] == 'white']['denominator'].sum())"
   ]
  },
  {
   "cell_type": "code",
   "execution_count": null,
   "metadata": {},
   "outputs": [],
   "source": [
    "g.apply(lambda x: x[x['predicted_race'] == 'black']['denominator'].sum())"
   ]
  },
  {
   "cell_type": "code",
   "execution_count": null,
   "metadata": {},
   "outputs": [],
   "source": [
    "g.apply(lambda x: x[x['predicted_race'] == 'hispanic']['denominator'].sum())"
   ]
  },
  {
   "cell_type": "code",
   "execution_count": null,
   "metadata": {},
   "outputs": [],
   "source": [
    "g.apply(lambda x: x[x['predicted_race'] == 'api']['denominator'].sum())"
   ]
  },
  {
   "cell_type": "code",
   "execution_count": null,
   "metadata": {},
   "outputs": [],
   "source": [
    "g.apply(lambda x: x[x['predicted_race'] == 'aian']['denominator'].sum())"
   ]
  },
  {
   "cell_type": "code",
   "execution_count": null,
   "metadata": {},
   "outputs": [],
   "source": [
    "g.apply(lambda x: x[x['predicted_race'] == '2prace']['denominator'].sum())"
   ]
  },
  {
   "cell_type": "code",
   "execution_count": null,
   "metadata": {},
   "outputs": [],
   "source": []
  },
  {
   "cell_type": "code",
   "execution_count": null,
   "metadata": {},
   "outputs": [],
   "source": [
    "#Section 2"
   ]
  },
  {
   "cell_type": "code",
   "execution_count": null,
   "metadata": {},
   "outputs": [],
   "source": [
    "#For specific measures"
   ]
  },
  {
   "cell_type": "code",
   "execution_count": null,
   "metadata": {},
   "outputs": [],
   "source": [
    "#overuse measures\n",
    "# first create a subset data - only contains overuse measures \n",
    "\n",
    "\n",
    "overuse_df = race_df[race_df['over/underuse'] == 'over']\n",
    "#check dimension\n",
    "r_over, c_over = overuse_df.shape\n",
    "print(r_over,c_over)\n"
   ]
  },
  {
   "cell_type": "code",
   "execution_count": null,
   "metadata": {},
   "outputs": [],
   "source": [
    "#save as a csv. Id do not save, the result below will show other ebm measure leabels but with values 0\n",
    "overuse_df.to_csv(r'.../restricted /overuse_df.csv', index = False)"
   ]
  },
  {
   "cell_type": "code",
   "execution_count": null,
   "metadata": {},
   "outputs": [],
   "source": [
    "over_df = pd.read_csv ('.../restricted /overuse_df.csv')"
   ]
  },
  {
   "cell_type": "code",
   "execution_count": null,
   "metadata": {},
   "outputs": [],
   "source": [
    "over_df.head(5)"
   ]
  },
  {
   "cell_type": "code",
   "execution_count": null,
   "metadata": {},
   "outputs": [],
   "source": []
  },
  {
   "cell_type": "code",
   "execution_count": null,
   "metadata": {},
   "outputs": [],
   "source": [
    "over_df['over/underuse'].value_counts()"
   ]
  },
  {
   "cell_type": "code",
   "execution_count": null,
   "metadata": {},
   "outputs": [],
   "source": [
    "over_df['ebm_measure_label'].value_counts()"
   ]
  },
  {
   "cell_type": "code",
   "execution_count": null,
   "metadata": {},
   "outputs": [],
   "source": []
  },
  {
   "cell_type": "code",
   "execution_count": null,
   "metadata": {},
   "outputs": [],
   "source": [
    "#create a table for overuse measures by race\n",
    "over_g = over_df.groupby('ebm_measure_label')\n",
    "\n",
    "#white:\n",
    "white_list_over = over_g.apply(lambda x: x[x['predicted_race'] == 'white']['numerator'].sum()) / over_g.apply(lambda x: x[x['predicted_race'] == 'white']['denominator'].sum())\n",
    "\n",
    "#black:\n",
    "black_list_over = over_g.apply(lambda x: x[x['predicted_race'] == 'black']['numerator'].sum()) / over_g.apply(lambda x: x[x['predicted_race'] == 'black']['denominator'].sum())\n",
    "\n",
    "#hispanic\n",
    "hispanic_list_over = over_g.apply(lambda x: x[x['predicted_race'] == 'hispanic']['numerator'].sum()) / over_g.apply(lambda x: x[x['predicted_race'] == 'hispanic']['denominator'].sum())\n",
    "\n",
    "#api:\n",
    "api_list_over = over_g.apply(lambda x: x[x['predicted_race'] == 'api']['numerator'].sum()) / over_g.apply(lambda x: x[x['predicted_race'] == 'api']['denominator'].sum())\n",
    "\n",
    "#aian:\n",
    "aian_list_over = over_g.apply(lambda x: x[x['predicted_race'] == 'aian']['numerator'].sum()) / over_g.apply(lambda x: x[x['predicted_race'] == 'aian']['denominator'].sum())\n",
    "\n",
    "#2prace\n",
    "prace_list_over = over_g.apply(lambda x: x[x['predicted_race'] == '2prace']['numerator'].sum()) / over_g.apply(lambda x: x[x['predicted_race'] == '2prace']['denominator'].sum())\n",
    "\n",
    "\n",
    "\n"
   ]
  },
  {
   "cell_type": "code",
   "execution_count": null,
   "metadata": {},
   "outputs": [],
   "source": []
  },
  {
   "cell_type": "code",
   "execution_count": null,
   "metadata": {},
   "outputs": [],
   "source": [
    "over_g.apply(lambda x: x[x['predicted_race'] == 'white']['denominator'].sum())"
   ]
  },
  {
   "cell_type": "code",
   "execution_count": null,
   "metadata": {},
   "outputs": [],
   "source": [
    "over_g.apply(lambda x: x[x['predicted_race'] == 'black']['denominator'].sum())"
   ]
  },
  {
   "cell_type": "code",
   "execution_count": null,
   "metadata": {},
   "outputs": [],
   "source": [
    "over_g.apply(lambda x: x[x['predicted_race'] == 'hispanic']['denominator'].sum())"
   ]
  },
  {
   "cell_type": "code",
   "execution_count": null,
   "metadata": {},
   "outputs": [],
   "source": [
    "over_g.apply(lambda x: x[x['predicted_race'] == 'api']['denominator'].sum())"
   ]
  },
  {
   "cell_type": "code",
   "execution_count": null,
   "metadata": {},
   "outputs": [],
   "source": [
    "over_g.apply(lambda x: x[x['predicted_race'] == 'aian']['denominator'].sum())"
   ]
  },
  {
   "cell_type": "code",
   "execution_count": null,
   "metadata": {},
   "outputs": [],
   "source": [
    "over_g.apply(lambda x: x[x['predicted_race'] == '2prace']['denominator'].sum())"
   ]
  },
  {
   "cell_type": "code",
   "execution_count": null,
   "metadata": {},
   "outputs": [],
   "source": []
  },
  {
   "cell_type": "code",
   "execution_count": null,
   "metadata": {},
   "outputs": [],
   "source": []
  },
  {
   "cell_type": "code",
   "execution_count": null,
   "metadata": {},
   "outputs": [],
   "source": []
  },
  {
   "cell_type": "code",
   "execution_count": null,
   "metadata": {},
   "outputs": [],
   "source": []
  },
  {
   "cell_type": "code",
   "execution_count": null,
   "metadata": {},
   "outputs": [],
   "source": [
    "#putting all into one table\n",
    "over_tab = pd.concat([white_list_over, black_list_over,hispanic_list_over, api_list_over, aian_list_over, prace_list_over], axis=1)\n",
    "over_tab.columns = ['White', 'Black', 'Hispanic', 'API', 'AIAN', '2prace']\n",
    "over_tab"
   ]
  },
  {
   "cell_type": "code",
   "execution_count": null,
   "metadata": {},
   "outputs": [],
   "source": []
  },
  {
   "cell_type": "code",
   "execution_count": null,
   "metadata": {},
   "outputs": [],
   "source": []
  },
  {
   "cell_type": "code",
   "execution_count": null,
   "metadata": {},
   "outputs": [],
   "source": []
  },
  {
   "cell_type": "code",
   "execution_count": null,
   "metadata": {},
   "outputs": [],
   "source": [
    "#underuse measures"
   ]
  },
  {
   "cell_type": "code",
   "execution_count": null,
   "metadata": {},
   "outputs": [],
   "source": [
    "#subset underuse data"
   ]
  },
  {
   "cell_type": "code",
   "execution_count": null,
   "metadata": {},
   "outputs": [],
   "source": [
    "underuse_df = race_df[race_df['over/underuse'] == 'under']\n",
    "#check dimension\n",
    "r_under, c_under = underuse_df.shape\n",
    "print(r_under,c_under)\n"
   ]
  },
  {
   "cell_type": "code",
   "execution_count": null,
   "metadata": {},
   "outputs": [],
   "source": [
    "underuse_df.to_csv(r'.../restricted /underuse_df.csv', index = False)"
   ]
  },
  {
   "cell_type": "code",
   "execution_count": null,
   "metadata": {},
   "outputs": [],
   "source": [
    "under_df = pd.read_csv ('.../restricted /underuse_df.csv')"
   ]
  },
  {
   "cell_type": "code",
   "execution_count": null,
   "metadata": {},
   "outputs": [],
   "source": [
    "under_df.head(5)"
   ]
  },
  {
   "cell_type": "code",
   "execution_count": null,
   "metadata": {},
   "outputs": [],
   "source": [
    "under_df['over/underuse'].value_counts()"
   ]
  },
  {
   "cell_type": "code",
   "execution_count": null,
   "metadata": {},
   "outputs": [],
   "source": [
    "under_df['ebm_measure_label'].value_counts()"
   ]
  },
  {
   "cell_type": "code",
   "execution_count": null,
   "metadata": {},
   "outputs": [],
   "source": [
    "\n",
    "under_g = under_df.groupby('ebm_measure_label')\n",
    "\n",
    "#white:\n",
    "white_list_under = under_g.apply(lambda x: x[x['predicted_race'] == 'white']['numerator'].sum()) / under_g.apply(lambda x: x[x['predicted_race'] == 'white']['denominator'].sum())\n",
    "\n",
    "#black:\n",
    "black_list_under = under_g.apply(lambda x: x[x['predicted_race'] == 'black']['numerator'].sum()) / under_g.apply(lambda x: x[x['predicted_race'] == 'black']['denominator'].sum())\n",
    "\n",
    "#hispanic\n",
    "hispanic_list_under = under_g.apply(lambda x: x[x['predicted_race'] == 'hispanic']['numerator'].sum()) / under_g.apply(lambda x: x[x['predicted_race'] == 'hispanic']['denominator'].sum())\n",
    "\n",
    "#api:\n",
    "api_list_under = under_g.apply(lambda x: x[x['predicted_race'] == 'api']['numerator'].sum()) / under_g.apply(lambda x: x[x['predicted_race'] == 'api']['denominator'].sum())\n",
    "\n",
    "#aian:\n",
    "aian_list_under = under_g.apply(lambda x: x[x['predicted_race'] == 'aian']['numerator'].sum()) / under_g.apply(lambda x: x[x['predicted_race'] == 'aian']['denominator'].sum())\n",
    "\n",
    "#2prace\n",
    "prace_list_under = under_g.apply(lambda x: x[x['predicted_race'] == '2prace']['numerator'].sum()) / under_g.apply(lambda x: x[x['predicted_race'] == '2prace']['denominator'].sum())\n",
    "\n",
    "\n",
    "\n"
   ]
  },
  {
   "cell_type": "code",
   "execution_count": null,
   "metadata": {},
   "outputs": [],
   "source": [
    "\n"
   ]
  },
  {
   "cell_type": "code",
   "execution_count": null,
   "metadata": {},
   "outputs": [],
   "source": [
    "under_g.apply(lambda x: x[x['predicted_race'] == 'white']['denominator'].sum())"
   ]
  },
  {
   "cell_type": "code",
   "execution_count": null,
   "metadata": {},
   "outputs": [],
   "source": [
    "under_g.apply(lambda x: x[x['predicted_race'] == 'black']['denominator'].sum())"
   ]
  },
  {
   "cell_type": "code",
   "execution_count": null,
   "metadata": {},
   "outputs": [],
   "source": [
    "under_g.apply(lambda x: x[x['predicted_race'] == 'hispanic']['denominator'].sum())"
   ]
  },
  {
   "cell_type": "code",
   "execution_count": null,
   "metadata": {},
   "outputs": [],
   "source": [
    "under_g.apply(lambda x: x[x['predicted_race'] == 'api']['denominator'].sum())"
   ]
  },
  {
   "cell_type": "code",
   "execution_count": null,
   "metadata": {},
   "outputs": [],
   "source": [
    "under_g.apply(lambda x: x[x['predicted_race'] == 'aian']['denominator'].sum())"
   ]
  },
  {
   "cell_type": "code",
   "execution_count": null,
   "metadata": {},
   "outputs": [],
   "source": []
  },
  {
   "cell_type": "code",
   "execution_count": null,
   "metadata": {},
   "outputs": [],
   "source": [
    "under_g.apply(lambda x: x[x['predicted_race'] == '2prace']['denominator'].sum())"
   ]
  },
  {
   "cell_type": "code",
   "execution_count": null,
   "metadata": {},
   "outputs": [],
   "source": []
  },
  {
   "cell_type": "code",
   "execution_count": null,
   "metadata": {},
   "outputs": [],
   "source": []
  },
  {
   "cell_type": "code",
   "execution_count": null,
   "metadata": {},
   "outputs": [],
   "source": []
  },
  {
   "cell_type": "code",
   "execution_count": null,
   "metadata": {},
   "outputs": [],
   "source": []
  },
  {
   "cell_type": "code",
   "execution_count": null,
   "metadata": {},
   "outputs": [],
   "source": []
  },
  {
   "cell_type": "code",
   "execution_count": null,
   "metadata": {},
   "outputs": [],
   "source": [
    "#save the tables to CSV\n",
    "over_tab.to_csv(r'.../restricted /over_tab.csv', index = True)\n",
    "\n",
    "under_tab.to_csv(r'.../restricted /under_tab.csv', index = True)"
   ]
  },
  {
   "cell_type": "code",
   "execution_count": null,
   "metadata": {},
   "outputs": [],
   "source": [
    "tab2_df.to_csv(r'.../restricted /over_under_tab.csv', index = True)"
   ]
  },
  {
   "cell_type": "code",
   "execution_count": null,
   "metadata": {},
   "outputs": [],
   "source": [
    "tab_num_df.to_csv(r'.../restricted /aggregate_numerator_tab.csv', index = True)"
   ]
  },
  {
   "cell_type": "code",
   "execution_count": null,
   "metadata": {},
   "outputs": [],
   "source": []
  },
  {
   "cell_type": "code",
   "execution_count": null,
   "metadata": {},
   "outputs": [],
   "source": []
  }
 ],
 "metadata": {
  "kernelspec": {
   "display_name": "Python 3",
   "language": "python",
   "name": "python3"
  },
  "language_info": {
   "codemirror_mode": {
    "name": "ipython",
    "version": 3
   },
   "file_extension": ".py",
   "mimetype": "text/x-python",
   "name": "python",
   "nbconvert_exporter": "python",
   "pygments_lexer": "ipython3",
   "version": "3.7.3"
  }
 },
 "nbformat": 4,
 "nbformat_minor": 4
}
