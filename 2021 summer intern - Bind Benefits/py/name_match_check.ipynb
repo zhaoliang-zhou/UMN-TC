{
 "cells": [
  {
   "cell_type": "code",
   "execution_count": null,
   "metadata": {},
   "outputs": [],
   "source": [
    "#load packages\n",
    "import warnings\n",
    "warnings.filterwarnings('ignore')\n",
    "import pandas as pd\n",
    "import timeit\n",
    "import random\n",
    "import sys\n",
    "sys.path.append('../../../../DataScience/lib/')\n",
    "import pymei\n",
    "from dev.bind_prod_utils import utils as dev_utils\n",
    "import numpy as np"
   ]
  },
  {
   "cell_type": "code",
   "execution_count": null,
   "metadata": {},
   "outputs": [],
   "source": [
    "# starburst access credentials. create connection\n",
    "username = input('Enter your jumpcloud username: ')\n",
    "print('Enter your password:')\n",
    "conn = pymei.connect.presto(username=username, phi=True, starburst=True)"
   ]
  },
  {
   "cell_type": "code",
   "execution_count": null,
   "metadata": {},
   "outputs": [],
   "source": [
    "#load data: \n",
    "surname_query = \"\"\"\n",
    "        select\n",
    "            coverage_core.member_id as \"member_id\"\n",
    "            , upper(bind_vw_latest_member.last_name) as \"surname\"\n",
    "        from hive.data_layer_prod.bind_vw_member_coverage as coverage_core\n",
    "        left join member.public.member  AS member ON coverage_core.member_id = member.id\n",
    "        left join hive.data_layer_prod.bind_vw_latest_member as bind_vw_latest_member ON member.id = bind_vw_latest_member.id\n",
    "        where 1=1 \n",
    "            and coverage_core.is_core_coverage = true \n",
    "            and coverage_core.is_active_core_member = true \n",
    "            and coverage_core.is_current_plan_year = true\n",
    "        group by 1,2\n",
    "    \"\"\"\n",
    "member_surname = pd.read_sql(surname_query, conn)"
   ]
  },
  {
   "cell_type": "code",
   "execution_count": null,
   "metadata": {},
   "outputs": [],
   "source": [
    "S3_PATH = 's3://bind-prod-data-science-analytics/alexl/'\n",
    "census_surname = pd.read_csv(S3_PATH + 'predict_race/Names_2010Census.csv')"
   ]
  },
  {
   "cell_type": "code",
   "execution_count": null,
   "metadata": {},
   "outputs": [],
   "source": [
    "member_surname=member_surname.rename(columns={'member_id': 'member_id', 'surname': 'name'})"
   ]
  },
  {
   "cell_type": "code",
   "execution_count": null,
   "metadata": {},
   "outputs": [],
   "source": [
    "member_surname"
   ]
  },
  {
   "cell_type": "code",
   "execution_count": null,
   "metadata": {},
   "outputs": [],
   "source": [
    "census_surname.head()"
   ]
  },
  {
   "cell_type": "code",
   "execution_count": null,
   "metadata": {},
   "outputs": [],
   "source": [
    "census_surname = census_surname.iloc[:, 0:2]\n",
    "census_surname"
   ]
  },
  {
   "cell_type": "code",
   "execution_count": null,
   "metadata": {},
   "outputs": [],
   "source": [
    "left_join_df=pd.merge(member_surname, census_surname, on='name', how='left')\n",
    "left_join_df"
   ]
  },
  {
   "cell_type": "code",
   "execution_count": null,
   "metadata": {},
   "outputs": [],
   "source": [
    "na_df = left_join_df[left_join_df['pctwhite'].isna()]\n",
    "na_df"
   ]
  },
  {
   "cell_type": "code",
   "execution_count": null,
   "metadata": {},
   "outputs": [],
   "source": []
  },
  {
   "cell_type": "code",
   "execution_count": null,
   "metadata": {},
   "outputs": [],
   "source": [
    "census_surname['name'] = census_surname['name'].astype(str)\n",
    "census_surname['name'"
   ]
  },
  {
   "cell_type": "code",
   "execution_count": null,
   "metadata": {},
   "outputs": [],
   "source": [
    "mylist = census_surname['name'].astype(str).values.tolist()\n",
    "pattern = '|'.join(mylist)"
   ]
  },
  {
   "cell_type": "code",
   "execution_count": null,
   "metadata": {},
   "outputs": [],
   "source": []
  },
  {
   "cell_type": "code",
   "execution_count": null,
   "metadata": {},
   "outputs": [],
   "source": [
    "import re\n",
    "def pattern_searcher(search_str:str, search_list:str):\n",
    "\n",
    "    search_obj = re.search(search_list, search_str)\n",
    "    if search_obj :\n",
    "        return_str = search_str[search_obj.start(): search_obj.end()]\n",
    "    else:\n",
    "        return_str = 'NA'\n",
    "    return return_str"
   ]
  },
  {
   "cell_type": "code",
   "execution_count": null,
   "metadata": {},
   "outputs": [],
   "source": [
    "na_df['matched_str'] = na_df['name'].apply(lambda x: pattern_searcher(search_str=x, search_list=pattern))"
   ]
  },
  {
   "cell_type": "code",
   "execution_count": null,
   "metadata": {},
   "outputs": [],
   "source": [
    "na_df"
   ]
  },
  {
   "cell_type": "code",
   "execution_count": null,
   "metadata": {},
   "outputs": [],
   "source": [
    "na_df.to_csv ('/home/jupyter-leo.zhou/DataScience/projects/RA_equity_OKR/restricted /na_df.csv')"
   ]
  }
 ],
 "metadata": {
  "kernelspec": {
   "display_name": "Python 3",
   "language": "python",
   "name": "python3"
  },
  "language_info": {
   "codemirror_mode": {
    "name": "ipython",
    "version": 3
   },
   "file_extension": ".py",
   "mimetype": "text/x-python",
   "name": "python",
   "nbconvert_exporter": "python",
   "pygments_lexer": "ipython3",
   "version": "3.7.3"
  }
 },
 "nbformat": 4,
 "nbformat_minor": 4
}
