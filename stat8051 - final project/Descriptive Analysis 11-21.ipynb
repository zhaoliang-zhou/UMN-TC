{
 "cells": [
  {
   "cell_type": "code",
   "execution_count": 47,
   "metadata": {},
   "outputs": [],
   "source": [
    "# Importing packages\n",
    "import numpy as np\n",
    "import pandas as pd\n",
    "import statsmodels.api as sm\n",
    "from patsy import dmatrices\n",
    "import seaborn as sns\n",
    "import matplotlib.pyplot as plt"
   ]
  },
  {
   "cell_type": "code",
   "execution_count": 6,
   "metadata": {},
   "outputs": [],
   "source": [
    "# Importing data\n",
    "df = pd.read_csv('InsNova_train.csv')\n",
    "df['pure_premium'] = df['claim_cost'] / df['exposure']\n",
    "df['avg_cost'] = df['claim_cost'] / np.fmax(df['claim_count'], 1)\n",
    "df['frequency'] = df['claim_count'] / df['exposure']\n",
    "df['veh_value2'] = df['veh_value'] ** 2\n",
    "for i in ['veh_age', 'dr_age']:\n",
    "    df[i] = df[i].astype('category')"
   ]
  },
  {
   "cell_type": "code",
   "execution_count": 7,
   "metadata": {},
   "outputs": [
    {
     "name": "stdout",
     "output_type": "stream",
     "text": [
      "SEDAN    7410\n",
      "HBACK    6347\n",
      "STNWG    5348\n",
      "UTE      1529\n",
      "TRUCK     613\n",
      "HDTOP     524\n",
      "MIBUS     252\n",
      "PANVN     245\n",
      "COUPE     244\n",
      "MCARA      39\n",
      "CONVT      31\n",
      "BUS        19\n",
      "RDSTR       9\n",
      "Name: veh_body, dtype: int64\n",
      "C    6846\n",
      "A    5436\n",
      "B    4445\n",
      "D    2723\n",
      "E    1969\n",
      "F    1191\n",
      "Name: area, dtype: int64\n",
      "3    6667\n",
      "4    6343\n",
      "2    5540\n",
      "1    4060\n",
      "Name: veh_age, dtype: int64\n",
      "F    12850\n",
      "M     9760\n",
      "Name: gender, dtype: int64\n",
      "4    5368\n",
      "3    5266\n",
      "2    4317\n",
      "5    3556\n",
      "6    2216\n",
      "1    1887\n",
      "Name: dr_age, dtype: int64\n"
     ]
    }
   ],
   "source": [
    "for i in ['veh_body', 'area', 'veh_age', 'gender', 'dr_age']:\n",
    "    print(df[i].value_counts())"
   ]
  },
  {
   "cell_type": "code",
   "execution_count": 17,
   "metadata": {},
   "outputs": [
    {
     "data": {
      "text/html": [
       "<div>\n",
       "<style scoped>\n",
       "    .dataframe tbody tr th:only-of-type {\n",
       "        vertical-align: middle;\n",
       "    }\n",
       "\n",
       "    .dataframe tbody tr th {\n",
       "        vertical-align: top;\n",
       "    }\n",
       "\n",
       "    .dataframe thead th {\n",
       "        text-align: right;\n",
       "    }\n",
       "</style>\n",
       "<table border=\"1\" class=\"dataframe\">\n",
       "  <thead>\n",
       "    <tr style=\"text-align: right;\">\n",
       "      <th></th>\n",
       "      <th>veh_value</th>\n",
       "      <th>pure_premium</th>\n",
       "      <th>frequency</th>\n",
       "      <th>avg_cost</th>\n",
       "    </tr>\n",
       "    <tr>\n",
       "      <th>veh_body</th>\n",
       "      <th></th>\n",
       "      <th></th>\n",
       "      <th></th>\n",
       "      <th></th>\n",
       "    </tr>\n",
       "  </thead>\n",
       "  <tbody>\n",
       "    <tr>\n",
       "      <th>BUS</th>\n",
       "      <td>1.683684</td>\n",
       "      <td>215.538244</td>\n",
       "      <td>0.381662</td>\n",
       "      <td>120.955704</td>\n",
       "    </tr>\n",
       "    <tr>\n",
       "      <th>CONVT</th>\n",
       "      <td>7.866452</td>\n",
       "      <td>0.000000</td>\n",
       "      <td>0.000000</td>\n",
       "      <td>0.000000</td>\n",
       "    </tr>\n",
       "    <tr>\n",
       "      <th>COUPE</th>\n",
       "      <td>2.121434</td>\n",
       "      <td>696.678700</td>\n",
       "      <td>0.251474</td>\n",
       "      <td>200.155129</td>\n",
       "    </tr>\n",
       "    <tr>\n",
       "      <th>HBACK</th>\n",
       "      <td>1.265492</td>\n",
       "      <td>506.809952</td>\n",
       "      <td>0.198463</td>\n",
       "      <td>122.841894</td>\n",
       "    </tr>\n",
       "    <tr>\n",
       "      <th>HDTOP</th>\n",
       "      <td>2.177805</td>\n",
       "      <td>592.607805</td>\n",
       "      <td>0.203202</td>\n",
       "      <td>292.221632</td>\n",
       "    </tr>\n",
       "    <tr>\n",
       "      <th>MCARA</th>\n",
       "      <td>2.620256</td>\n",
       "      <td>119.902908</td>\n",
       "      <td>0.291471</td>\n",
       "      <td>40.688583</td>\n",
       "    </tr>\n",
       "    <tr>\n",
       "      <th>MIBUS</th>\n",
       "      <td>1.738373</td>\n",
       "      <td>167.354873</td>\n",
       "      <td>0.079234</td>\n",
       "      <td>129.620990</td>\n",
       "    </tr>\n",
       "    <tr>\n",
       "      <th>PANVN</th>\n",
       "      <td>1.580286</td>\n",
       "      <td>171.756168</td>\n",
       "      <td>0.133385</td>\n",
       "      <td>102.616960</td>\n",
       "    </tr>\n",
       "    <tr>\n",
       "      <th>RDSTR</th>\n",
       "      <td>4.920000</td>\n",
       "      <td>236.776669</td>\n",
       "      <td>0.466407</td>\n",
       "      <td>90.334208</td>\n",
       "    </tr>\n",
       "    <tr>\n",
       "      <th>SEDAN</th>\n",
       "      <td>1.572182</td>\n",
       "      <td>1025.793267</td>\n",
       "      <td>0.243411</td>\n",
       "      <td>122.213148</td>\n",
       "    </tr>\n",
       "    <tr>\n",
       "      <th>STNWG</th>\n",
       "      <td>2.824379</td>\n",
       "      <td>405.402157</td>\n",
       "      <td>0.154048</td>\n",
       "      <td>139.818334</td>\n",
       "    </tr>\n",
       "    <tr>\n",
       "      <th>TRUCK</th>\n",
       "      <td>2.342724</td>\n",
       "      <td>432.561892</td>\n",
       "      <td>0.165944</td>\n",
       "      <td>174.077909</td>\n",
       "    </tr>\n",
       "    <tr>\n",
       "      <th>UTE</th>\n",
       "      <td>2.014042</td>\n",
       "      <td>495.387657</td>\n",
       "      <td>0.140631</td>\n",
       "      <td>142.420659</td>\n",
       "    </tr>\n",
       "  </tbody>\n",
       "</table>\n",
       "</div>"
      ],
      "text/plain": [
       "          veh_value  pure_premium  frequency    avg_cost\n",
       "veh_body                                                \n",
       "BUS        1.683684    215.538244   0.381662  120.955704\n",
       "CONVT      7.866452      0.000000   0.000000    0.000000\n",
       "COUPE      2.121434    696.678700   0.251474  200.155129\n",
       "HBACK      1.265492    506.809952   0.198463  122.841894\n",
       "HDTOP      2.177805    592.607805   0.203202  292.221632\n",
       "MCARA      2.620256    119.902908   0.291471   40.688583\n",
       "MIBUS      1.738373    167.354873   0.079234  129.620990\n",
       "PANVN      1.580286    171.756168   0.133385  102.616960\n",
       "RDSTR      4.920000    236.776669   0.466407   90.334208\n",
       "SEDAN      1.572182   1025.793267   0.243411  122.213148\n",
       "STNWG      2.824379    405.402157   0.154048  139.818334\n",
       "TRUCK      2.342724    432.561892   0.165944  174.077909\n",
       "UTE        2.014042    495.387657   0.140631  142.420659"
      ]
     },
     "execution_count": 17,
     "metadata": {},
     "output_type": "execute_result"
    }
   ],
   "source": [
    "#veh_body\n",
    "df.groupby('veh_body')[['veh_value', 'pure_premium', 'frequency', 'avg_cost']].mean()"
   ]
  },
  {
   "cell_type": "code",
   "execution_count": 31,
   "metadata": {},
   "outputs": [
    {
     "data": {
      "text/html": [
       "<div>\n",
       "<style scoped>\n",
       "    .dataframe tbody tr th:only-of-type {\n",
       "        vertical-align: middle;\n",
       "    }\n",
       "\n",
       "    .dataframe tbody tr th {\n",
       "        vertical-align: top;\n",
       "    }\n",
       "\n",
       "    .dataframe thead th {\n",
       "        text-align: right;\n",
       "    }\n",
       "</style>\n",
       "<table border=\"1\" class=\"dataframe\">\n",
       "  <thead>\n",
       "    <tr style=\"text-align: right;\">\n",
       "      <th></th>\n",
       "      <th>veh_value</th>\n",
       "      <th>pure_premium</th>\n",
       "      <th>frequency</th>\n",
       "      <th>avg_cost</th>\n",
       "    </tr>\n",
       "    <tr>\n",
       "      <th>veh_body</th>\n",
       "      <th></th>\n",
       "      <th></th>\n",
       "      <th></th>\n",
       "      <th></th>\n",
       "    </tr>\n",
       "  </thead>\n",
       "  <tbody>\n",
       "    <tr>\n",
       "      <th>BUS</th>\n",
       "      <td>2.037625</td>\n",
       "      <td>2.485713e+05</td>\n",
       "      <td>0.781228</td>\n",
       "      <td>6.809348e+04</td>\n",
       "    </tr>\n",
       "    <tr>\n",
       "      <th>CONVT</th>\n",
       "      <td>23.609830</td>\n",
       "      <td>0.000000e+00</td>\n",
       "      <td>0.000000</td>\n",
       "      <td>0.000000e+00</td>\n",
       "    </tr>\n",
       "    <tr>\n",
       "      <th>COUPE</th>\n",
       "      <td>6.422677</td>\n",
       "      <td>1.937306e+07</td>\n",
       "      <td>1.248565</td>\n",
       "      <td>1.098848e+06</td>\n",
       "    </tr>\n",
       "    <tr>\n",
       "      <th>HBACK</th>\n",
       "      <td>0.300570</td>\n",
       "      <td>8.856359e+07</td>\n",
       "      <td>1.786398</td>\n",
       "      <td>7.911155e+05</td>\n",
       "    </tr>\n",
       "    <tr>\n",
       "      <th>HDTOP</th>\n",
       "      <td>0.772262</td>\n",
       "      <td>2.845822e+07</td>\n",
       "      <td>0.649728</td>\n",
       "      <td>4.389071e+06</td>\n",
       "    </tr>\n",
       "    <tr>\n",
       "      <th>MCARA</th>\n",
       "      <td>2.556092</td>\n",
       "      <td>2.023036e+05</td>\n",
       "      <td>1.164015</td>\n",
       "      <td>1.499530e+04</td>\n",
       "    </tr>\n",
       "    <tr>\n",
       "      <th>MIBUS</th>\n",
       "      <td>0.529169</td>\n",
       "      <td>1.538059e+06</td>\n",
       "      <td>0.137998</td>\n",
       "      <td>1.377965e+06</td>\n",
       "    </tr>\n",
       "    <tr>\n",
       "      <th>PANVN</th>\n",
       "      <td>0.732136</td>\n",
       "      <td>1.333993e+06</td>\n",
       "      <td>0.281033</td>\n",
       "      <td>4.863448e+05</td>\n",
       "    </tr>\n",
       "    <tr>\n",
       "      <th>RDSTR</th>\n",
       "      <td>3.546050</td>\n",
       "      <td>4.019053e+05</td>\n",
       "      <td>1.125573</td>\n",
       "      <td>4.260314e+04</td>\n",
       "    </tr>\n",
       "    <tr>\n",
       "      <th>SEDAN</th>\n",
       "      <td>1.159373</td>\n",
       "      <td>1.282626e+09</td>\n",
       "      <td>15.118580</td>\n",
       "      <td>8.859868e+05</td>\n",
       "    </tr>\n",
       "    <tr>\n",
       "      <th>STNWG</th>\n",
       "      <td>2.175191</td>\n",
       "      <td>5.816925e+07</td>\n",
       "      <td>0.533938</td>\n",
       "      <td>1.655089e+06</td>\n",
       "    </tr>\n",
       "    <tr>\n",
       "      <th>TRUCK</th>\n",
       "      <td>1.537852</td>\n",
       "      <td>1.383233e+07</td>\n",
       "      <td>1.243157</td>\n",
       "      <td>2.118249e+06</td>\n",
       "    </tr>\n",
       "    <tr>\n",
       "      <th>UTE</th>\n",
       "      <td>1.108813</td>\n",
       "      <td>4.903725e+07</td>\n",
       "      <td>0.897546</td>\n",
       "      <td>1.434518e+06</td>\n",
       "    </tr>\n",
       "  </tbody>\n",
       "</table>\n",
       "</div>"
      ],
      "text/plain": [
       "          veh_value  pure_premium  frequency      avg_cost\n",
       "veh_body                                                  \n",
       "BUS        2.037625  2.485713e+05   0.781228  6.809348e+04\n",
       "CONVT     23.609830  0.000000e+00   0.000000  0.000000e+00\n",
       "COUPE      6.422677  1.937306e+07   1.248565  1.098848e+06\n",
       "HBACK      0.300570  8.856359e+07   1.786398  7.911155e+05\n",
       "HDTOP      0.772262  2.845822e+07   0.649728  4.389071e+06\n",
       "MCARA      2.556092  2.023036e+05   1.164015  1.499530e+04\n",
       "MIBUS      0.529169  1.538059e+06   0.137998  1.377965e+06\n",
       "PANVN      0.732136  1.333993e+06   0.281033  4.863448e+05\n",
       "RDSTR      3.546050  4.019053e+05   1.125573  4.260314e+04\n",
       "SEDAN      1.159373  1.282626e+09  15.118580  8.859868e+05\n",
       "STNWG      2.175191  5.816925e+07   0.533938  1.655089e+06\n",
       "TRUCK      1.537852  1.383233e+07   1.243157  2.118249e+06\n",
       "UTE        1.108813  4.903725e+07   0.897546  1.434518e+06"
      ]
     },
     "execution_count": 31,
     "metadata": {},
     "output_type": "execute_result"
    }
   ],
   "source": [
    "df.groupby('veh_body')[['veh_value', 'pure_premium', 'frequency', 'avg_cost']].var()"
   ]
  },
  {
   "cell_type": "code",
   "execution_count": 18,
   "metadata": {},
   "outputs": [
    {
     "data": {
      "image/png": "[encoded data removed]",
      "text/plain": [
       "<Figure size 432x288 with 1 Axes>"
      ]
     },
     "metadata": {
      "needs_background": "light"
     },
     "output_type": "display_data"
    }
   ],
   "source": [
    "vel_val_boxp = sns.boxplot(x=\"veh_body\", y=\"veh_value\", data=df)"
   ]
  },
  {
   "cell_type": "code",
   "execution_count": 20,
   "metadata": {},
   "outputs": [
    {
     "data": {
      "image/png": "[encoded data removed]",
      "text/plain": [
       "<Figure size 432x288 with 1 Axes>"
      ]
     },
     "metadata": {
      "needs_background": "light"
     },
     "output_type": "display_data"
    }
   ],
   "source": [
    "pure_premium_boxp = sns.boxplot(x=\"veh_body\", y=\"pure_premium\", data=df)"
   ]
  },
  {
   "cell_type": "code",
   "execution_count": 21,
   "metadata": {},
   "outputs": [
    {
     "data": {
      "image/png": "[encoded data removed]",
      "text/plain": [
       "<Figure size 432x288 with 1 Axes>"
      ]
     },
     "metadata": {
      "needs_background": "light"
     },
     "output_type": "display_data"
    }
   ],
   "source": [
    "freq_boxp = sns.boxplot(x=\"veh_body\", y=\"frequency\", data=df)"
   ]
  },
  {
   "cell_type": "code",
   "execution_count": 22,
   "metadata": {},
   "outputs": [
    {
     "data": {
      "image/png": "[encoded data removed]",
      "text/plain": [
       "<Figure size 432x288 with 1 Axes>"
      ]
     },
     "metadata": {
      "needs_background": "light"
     },
     "output_type": "display_data"
    }
   ],
   "source": [
    "avg_cost_boxp = sns.boxplot(x=\"veh_body\", y=\"avg_cost\", data=df)"
   ]
  },
  {
   "cell_type": "code",
   "execution_count": 29,
   "metadata": {},
   "outputs": [
    {
     "data": {
      "text/html": [
       "<div>\n",
       "<style scoped>\n",
       "    .dataframe tbody tr th:only-of-type {\n",
       "        vertical-align: middle;\n",
       "    }\n",
       "\n",
       "    .dataframe tbody tr th {\n",
       "        vertical-align: top;\n",
       "    }\n",
       "\n",
       "    .dataframe thead th {\n",
       "        text-align: right;\n",
       "    }\n",
       "</style>\n",
       "<table border=\"1\" class=\"dataframe\">\n",
       "  <thead>\n",
       "    <tr style=\"text-align: right;\">\n",
       "      <th></th>\n",
       "      <th>pure_premium</th>\n",
       "      <th>frequency</th>\n",
       "      <th>avg_cost</th>\n",
       "    </tr>\n",
       "    <tr>\n",
       "      <th>area</th>\n",
       "      <th></th>\n",
       "      <th></th>\n",
       "      <th></th>\n",
       "    </tr>\n",
       "  </thead>\n",
       "  <tbody>\n",
       "    <tr>\n",
       "      <th>A</th>\n",
       "      <td>3.731538e+07</td>\n",
       "      <td>1.145241</td>\n",
       "      <td>1.427070e+06</td>\n",
       "    </tr>\n",
       "    <tr>\n",
       "      <th>B</th>\n",
       "      <td>7.604687e+07</td>\n",
       "      <td>1.204836</td>\n",
       "      <td>9.151180e+05</td>\n",
       "    </tr>\n",
       "    <tr>\n",
       "      <th>C</th>\n",
       "      <td>6.347865e+07</td>\n",
       "      <td>1.756366</td>\n",
       "      <td>9.084231e+05</td>\n",
       "    </tr>\n",
       "    <tr>\n",
       "      <th>D</th>\n",
       "      <td>3.405808e+09</td>\n",
       "      <td>37.130924</td>\n",
       "      <td>1.044050e+06</td>\n",
       "    </tr>\n",
       "    <tr>\n",
       "      <th>E</th>\n",
       "      <td>1.796679e+07</td>\n",
       "      <td>1.424508</td>\n",
       "      <td>1.028564e+06</td>\n",
       "    </tr>\n",
       "    <tr>\n",
       "      <th>F</th>\n",
       "      <td>1.645373e+08</td>\n",
       "      <td>1.422570</td>\n",
       "      <td>3.405265e+06</td>\n",
       "    </tr>\n",
       "  </tbody>\n",
       "</table>\n",
       "</div>"
      ],
      "text/plain": [
       "      pure_premium  frequency      avg_cost\n",
       "area                                       \n",
       "A     3.731538e+07   1.145241  1.427070e+06\n",
       "B     7.604687e+07   1.204836  9.151180e+05\n",
       "C     6.347865e+07   1.756366  9.084231e+05\n",
       "D     3.405808e+09  37.130924  1.044050e+06\n",
       "E     1.796679e+07   1.424508  1.028564e+06\n",
       "F     1.645373e+08   1.422570  3.405265e+06"
      ]
     },
     "execution_count": 29,
     "metadata": {},
     "output_type": "execute_result"
    }
   ],
   "source": [
    "#by area\n",
    "df.groupby('area')[['pure_premium', 'frequency', 'avg_cost']].mean()"
   ]
  },
  {
   "cell_type": "code",
   "execution_count": 30,
   "metadata": {},
   "outputs": [
    {
     "data": {
      "text/html": [
       "<div>\n",
       "<style scoped>\n",
       "    .dataframe tbody tr th:only-of-type {\n",
       "        vertical-align: middle;\n",
       "    }\n",
       "\n",
       "    .dataframe tbody tr th {\n",
       "        vertical-align: top;\n",
       "    }\n",
       "\n",
       "    .dataframe thead th {\n",
       "        text-align: right;\n",
       "    }\n",
       "</style>\n",
       "<table border=\"1\" class=\"dataframe\">\n",
       "  <thead>\n",
       "    <tr style=\"text-align: right;\">\n",
       "      <th></th>\n",
       "      <th>pure_premium</th>\n",
       "      <th>frequency</th>\n",
       "      <th>avg_cost</th>\n",
       "    </tr>\n",
       "    <tr>\n",
       "      <th>area</th>\n",
       "      <th></th>\n",
       "      <th></th>\n",
       "      <th></th>\n",
       "    </tr>\n",
       "  </thead>\n",
       "  <tbody>\n",
       "    <tr>\n",
       "      <th>A</th>\n",
       "      <td>3.731538e+07</td>\n",
       "      <td>1.145241</td>\n",
       "      <td>1.427070e+06</td>\n",
       "    </tr>\n",
       "    <tr>\n",
       "      <th>B</th>\n",
       "      <td>7.604687e+07</td>\n",
       "      <td>1.204836</td>\n",
       "      <td>9.151180e+05</td>\n",
       "    </tr>\n",
       "    <tr>\n",
       "      <th>C</th>\n",
       "      <td>6.347865e+07</td>\n",
       "      <td>1.756366</td>\n",
       "      <td>9.084231e+05</td>\n",
       "    </tr>\n",
       "    <tr>\n",
       "      <th>D</th>\n",
       "      <td>3.405808e+09</td>\n",
       "      <td>37.130924</td>\n",
       "      <td>1.044050e+06</td>\n",
       "    </tr>\n",
       "    <tr>\n",
       "      <th>E</th>\n",
       "      <td>1.796679e+07</td>\n",
       "      <td>1.424508</td>\n",
       "      <td>1.028564e+06</td>\n",
       "    </tr>\n",
       "    <tr>\n",
       "      <th>F</th>\n",
       "      <td>1.645373e+08</td>\n",
       "      <td>1.422570</td>\n",
       "      <td>3.405265e+06</td>\n",
       "    </tr>\n",
       "  </tbody>\n",
       "</table>\n",
       "</div>"
      ],
      "text/plain": [
       "      pure_premium  frequency      avg_cost\n",
       "area                                       \n",
       "A     3.731538e+07   1.145241  1.427070e+06\n",
       "B     7.604687e+07   1.204836  9.151180e+05\n",
       "C     6.347865e+07   1.756366  9.084231e+05\n",
       "D     3.405808e+09  37.130924  1.044050e+06\n",
       "E     1.796679e+07   1.424508  1.028564e+06\n",
       "F     1.645373e+08   1.422570  3.405265e+06"
      ]
     },
     "execution_count": 30,
     "metadata": {},
     "output_type": "execute_result"
    }
   ],
   "source": [
    "df.groupby('area')[['pure_premium', 'frequency', 'avg_cost']].var()"
   ]
  },
  {
   "cell_type": "code",
   "execution_count": 23,
   "metadata": {},
   "outputs": [
    {
     "data": {
      "image/png": "[encoded data removed]",
      "text/plain": [
       "<Figure size 432x288 with 1 Axes>"
      ]
     },
     "metadata": {
      "needs_background": "light"
     },
     "output_type": "display_data"
    }
   ],
   "source": [
    "area_boxp1 = sns.boxplot(x=\"area\", y=\"pure_premium\", data=df)"
   ]
  },
  {
   "cell_type": "code",
   "execution_count": 24,
   "metadata": {},
   "outputs": [
    {
     "data": {
      "image/png": "[encoded data removed]",
      "text/plain": [
       "<Figure size 432x288 with 1 Axes>"
      ]
     },
     "metadata": {
      "needs_background": "light"
     },
     "output_type": "display_data"
    }
   ],
   "source": [
    "area_boxp2 = sns.boxplot(x=\"area\", y=\"frequency\", data=df)"
   ]
  },
  {
   "cell_type": "code",
   "execution_count": 26,
   "metadata": {},
   "outputs": [
    {
     "data": {
      "image/png": "[encoded data removed]",
      "text/plain": [
       "<Figure size 432x288 with 1 Axes>"
      ]
     },
     "metadata": {
      "needs_background": "light"
     },
     "output_type": "display_data"
    }
   ],
   "source": [
    "area_boxp3 = sns.boxplot(x=\"area\", y=\"avg_cost\", data=df)"
   ]
  },
  {
   "cell_type": "code",
   "execution_count": 72,
   "metadata": {},
   "outputs": [
    {
     "data": {
      "text/html": [
       "<div>\n",
       "<style scoped>\n",
       "    .dataframe tbody tr th:only-of-type {\n",
       "        vertical-align: middle;\n",
       "    }\n",
       "\n",
       "    .dataframe tbody tr th {\n",
       "        vertical-align: top;\n",
       "    }\n",
       "\n",
       "    .dataframe thead th {\n",
       "        text-align: right;\n",
       "    }\n",
       "</style>\n",
       "<table border=\"1\" class=\"dataframe\">\n",
       "  <thead>\n",
       "    <tr style=\"text-align: right;\">\n",
       "      <th></th>\n",
       "      <th>pure_premium</th>\n",
       "      <th>frequency</th>\n",
       "      <th>avg_cost</th>\n",
       "    </tr>\n",
       "    <tr>\n",
       "      <th>veh_age</th>\n",
       "      <th></th>\n",
       "      <th></th>\n",
       "      <th></th>\n",
       "    </tr>\n",
       "  </thead>\n",
       "  <tbody>\n",
       "    <tr>\n",
       "      <th>1</th>\n",
       "      <td>339.569032</td>\n",
       "      <td>0.163668</td>\n",
       "      <td>89.712563</td>\n",
       "    </tr>\n",
       "    <tr>\n",
       "      <th>2</th>\n",
       "      <td>561.852309</td>\n",
       "      <td>0.185089</td>\n",
       "      <td>144.346721</td>\n",
       "    </tr>\n",
       "    <tr>\n",
       "      <th>3</th>\n",
       "      <td>1012.586262</td>\n",
       "      <td>0.217617</td>\n",
       "      <td>140.106270</td>\n",
       "    </tr>\n",
       "    <tr>\n",
       "      <th>4</th>\n",
       "      <td>526.879603</td>\n",
       "      <td>0.205971</td>\n",
       "      <td>145.666032</td>\n",
       "    </tr>\n",
       "  </tbody>\n",
       "</table>\n",
       "</div>"
      ],
      "text/plain": [
       "         pure_premium  frequency    avg_cost\n",
       "veh_age                                     \n",
       "1          339.569032   0.163668   89.712563\n",
       "2          561.852309   0.185089  144.346721\n",
       "3         1012.586262   0.217617  140.106270\n",
       "4          526.879603   0.205971  145.666032"
      ]
     },
     "execution_count": 72,
     "metadata": {},
     "output_type": "execute_result"
    }
   ],
   "source": [
    "#by age\n",
    "df.groupby('veh_age')[['pure_premium', 'frequency', 'avg_cost']].mean()"
   ]
  },
  {
   "cell_type": "code",
   "execution_count": 32,
   "metadata": {},
   "outputs": [
    {
     "data": {
      "text/html": [
       "<div>\n",
       "<style scoped>\n",
       "    .dataframe tbody tr th:only-of-type {\n",
       "        vertical-align: middle;\n",
       "    }\n",
       "\n",
       "    .dataframe tbody tr th {\n",
       "        vertical-align: top;\n",
       "    }\n",
       "\n",
       "    .dataframe thead th {\n",
       "        text-align: right;\n",
       "    }\n",
       "</style>\n",
       "<table border=\"1\" class=\"dataframe\">\n",
       "  <thead>\n",
       "    <tr style=\"text-align: right;\">\n",
       "      <th></th>\n",
       "      <th>pure_premium</th>\n",
       "      <th>frequency</th>\n",
       "      <th>avg_cost</th>\n",
       "    </tr>\n",
       "    <tr>\n",
       "      <th>veh_age</th>\n",
       "      <th></th>\n",
       "      <th></th>\n",
       "      <th></th>\n",
       "    </tr>\n",
       "  </thead>\n",
       "  <tbody>\n",
       "    <tr>\n",
       "      <th>1</th>\n",
       "      <td>4.843337e+07</td>\n",
       "      <td>0.914285</td>\n",
       "      <td>7.249688e+05</td>\n",
       "    </tr>\n",
       "    <tr>\n",
       "      <th>2</th>\n",
       "      <td>1.090533e+08</td>\n",
       "      <td>1.202773</td>\n",
       "      <td>1.791796e+06</td>\n",
       "    </tr>\n",
       "    <tr>\n",
       "      <th>3</th>\n",
       "      <td>1.412187e+09</td>\n",
       "      <td>15.856872</td>\n",
       "      <td>1.094254e+06</td>\n",
       "    </tr>\n",
       "    <tr>\n",
       "      <th>4</th>\n",
       "      <td>4.190673e+07</td>\n",
       "      <td>2.066630</td>\n",
       "      <td>1.072062e+06</td>\n",
       "    </tr>\n",
       "  </tbody>\n",
       "</table>\n",
       "</div>"
      ],
      "text/plain": [
       "         pure_premium  frequency      avg_cost\n",
       "veh_age                                       \n",
       "1        4.843337e+07   0.914285  7.249688e+05\n",
       "2        1.090533e+08   1.202773  1.791796e+06\n",
       "3        1.412187e+09  15.856872  1.094254e+06\n",
       "4        4.190673e+07   2.066630  1.072062e+06"
      ]
     },
     "execution_count": 32,
     "metadata": {},
     "output_type": "execute_result"
    }
   ],
   "source": [
    "df.groupby('veh_age')[['pure_premium', 'frequency', 'avg_cost']].var()"
   ]
  },
  {
   "cell_type": "code",
   "execution_count": 34,
   "metadata": {},
   "outputs": [
    {
     "data": {
      "image/png": "[encoded data removed]",
      "text/plain": [
       "<Figure size 432x288 with 1 Axes>"
      ]
     },
     "metadata": {
      "needs_background": "light"
     },
     "output_type": "display_data"
    }
   ],
   "source": [
    "age_boxp1 = sns.boxplot(x=\"veh_age\", y=\"pure_premium\", data=df)"
   ]
  },
  {
   "cell_type": "code",
   "execution_count": 35,
   "metadata": {},
   "outputs": [
    {
     "data": {
      "image/png": "[encoded data removed]",
      "text/plain": [
       "<Figure size 432x288 with 1 Axes>"
      ]
     },
     "metadata": {
      "needs_background": "light"
     },
     "output_type": "display_data"
    }
   ],
   "source": [
    "age_boxp2 = sns.boxplot(x=\"veh_age\", y=\"frequency\", data=df)"
   ]
  },
  {
   "cell_type": "code",
   "execution_count": 36,
   "metadata": {},
   "outputs": [
    {
     "data": {
      "image/png": "[encoded data removed]",
      "text/plain": [
       "<Figure size 432x288 with 1 Axes>"
      ]
     },
     "metadata": {
      "needs_background": "light"
     },
     "output_type": "display_data"
    }
   ],
   "source": [
    "age_boxp3 = sns.boxplot(x=\"veh_age\", y=\"avg_cost\", data=df)"
   ]
  },
  {
   "cell_type": "code",
   "execution_count": 73,
   "metadata": {},
   "outputs": [
    {
     "data": {
      "text/html": [
       "<div>\n",
       "<style scoped>\n",
       "    .dataframe tbody tr th:only-of-type {\n",
       "        vertical-align: middle;\n",
       "    }\n",
       "\n",
       "    .dataframe tbody tr th {\n",
       "        vertical-align: top;\n",
       "    }\n",
       "\n",
       "    .dataframe thead th {\n",
       "        text-align: right;\n",
       "    }\n",
       "</style>\n",
       "<table border=\"1\" class=\"dataframe\">\n",
       "  <thead>\n",
       "    <tr style=\"text-align: right;\">\n",
       "      <th></th>\n",
       "      <th>pure_premium</th>\n",
       "      <th>frequency</th>\n",
       "      <th>avg_cost</th>\n",
       "    </tr>\n",
       "    <tr>\n",
       "      <th>gender</th>\n",
       "      <th></th>\n",
       "      <th></th>\n",
       "      <th></th>\n",
       "    </tr>\n",
       "  </thead>\n",
       "  <tbody>\n",
       "    <tr>\n",
       "      <th>F</th>\n",
       "      <td>719.031774</td>\n",
       "      <td>0.213803</td>\n",
       "      <td>120.730493</td>\n",
       "    </tr>\n",
       "    <tr>\n",
       "      <th>M</th>\n",
       "      <td>547.608985</td>\n",
       "      <td>0.174165</td>\n",
       "      <td>150.673683</td>\n",
       "    </tr>\n",
       "  </tbody>\n",
       "</table>\n",
       "</div>"
      ],
      "text/plain": [
       "        pure_premium  frequency    avg_cost\n",
       "gender                                     \n",
       "F         719.031774   0.213803  120.730493\n",
       "M         547.608985   0.174165  150.673683"
      ]
     },
     "execution_count": 73,
     "metadata": {},
     "output_type": "execute_result"
    }
   ],
   "source": [
    "#by gender\n",
    "df.groupby('gender')[['pure_premium', 'frequency', 'avg_cost']].mean()"
   ]
  },
  {
   "cell_type": "code",
   "execution_count": 37,
   "metadata": {},
   "outputs": [
    {
     "data": {
      "text/html": [
       "<div>\n",
       "<style scoped>\n",
       "    .dataframe tbody tr th:only-of-type {\n",
       "        vertical-align: middle;\n",
       "    }\n",
       "\n",
       "    .dataframe tbody tr th {\n",
       "        vertical-align: top;\n",
       "    }\n",
       "\n",
       "    .dataframe thead th {\n",
       "        text-align: right;\n",
       "    }\n",
       "</style>\n",
       "<table border=\"1\" class=\"dataframe\">\n",
       "  <thead>\n",
       "    <tr style=\"text-align: right;\">\n",
       "      <th></th>\n",
       "      <th>pure_premium</th>\n",
       "      <th>frequency</th>\n",
       "      <th>avg_cost</th>\n",
       "    </tr>\n",
       "    <tr>\n",
       "      <th>gender</th>\n",
       "      <th></th>\n",
       "      <th></th>\n",
       "      <th></th>\n",
       "    </tr>\n",
       "  </thead>\n",
       "  <tbody>\n",
       "    <tr>\n",
       "      <th>F</th>\n",
       "      <td>7.555557e+08</td>\n",
       "      <td>9.118651</td>\n",
       "      <td>8.549489e+05</td>\n",
       "    </tr>\n",
       "    <tr>\n",
       "      <th>M</th>\n",
       "      <td>7.922475e+07</td>\n",
       "      <td>1.231284</td>\n",
       "      <td>1.637481e+06</td>\n",
       "    </tr>\n",
       "  </tbody>\n",
       "</table>\n",
       "</div>"
      ],
      "text/plain": [
       "        pure_premium  frequency      avg_cost\n",
       "gender                                       \n",
       "F       7.555557e+08   9.118651  8.549489e+05\n",
       "M       7.922475e+07   1.231284  1.637481e+06"
      ]
     },
     "execution_count": 37,
     "metadata": {},
     "output_type": "execute_result"
    }
   ],
   "source": [
    "df.groupby('gender')[['pure_premium', 'frequency', 'avg_cost']].var()"
   ]
  },
  {
   "cell_type": "code",
   "execution_count": 38,
   "metadata": {},
   "outputs": [
    {
     "data": {
      "image/png": "[encoded data removed]",
      "text/plain": [
       "<Figure size 432x288 with 1 Axes>"
      ]
     },
     "metadata": {
      "needs_background": "light"
     },
     "output_type": "display_data"
    }
   ],
   "source": [
    "gender_boxp1 = sns.boxplot(x=\"gender\", y=\"pure_premium\", data=df)"
   ]
  },
  {
   "cell_type": "code",
   "execution_count": 39,
   "metadata": {},
   "outputs": [
    {
     "data": {
      "image/png": "[encoded data removed]",
      "text/plain": [
       "<Figure size 432x288 with 1 Axes>"
      ]
     },
     "metadata": {
      "needs_background": "light"
     },
     "output_type": "display_data"
    }
   ],
   "source": [
    "gender_boxp2 = sns.boxplot(x=\"gender\", y=\"frequency\", data=df)"
   ]
  },
  {
   "cell_type": "code",
   "execution_count": 40,
   "metadata": {},
   "outputs": [
    {
     "data": {
      "image/png": "[encoded data removed]",
      "text/plain": [
       "<Figure size 432x288 with 1 Axes>"
      ]
     },
     "metadata": {
      "needs_background": "light"
     },
     "output_type": "display_data"
    }
   ],
   "source": [
    "gender_boxp3 = sns.boxplot(x=\"gender\", y=\"avg_cost\", data=df)"
   ]
  },
  {
   "cell_type": "code",
   "execution_count": 74,
   "metadata": {},
   "outputs": [
    {
     "data": {
      "text/html": [
       "<div>\n",
       "<style scoped>\n",
       "    .dataframe tbody tr th:only-of-type {\n",
       "        vertical-align: middle;\n",
       "    }\n",
       "\n",
       "    .dataframe tbody tr th {\n",
       "        vertical-align: top;\n",
       "    }\n",
       "\n",
       "    .dataframe thead th {\n",
       "        text-align: right;\n",
       "    }\n",
       "</style>\n",
       "<table border=\"1\" class=\"dataframe\">\n",
       "  <thead>\n",
       "    <tr style=\"text-align: right;\">\n",
       "      <th></th>\n",
       "      <th>pure_premium</th>\n",
       "      <th>frequency</th>\n",
       "      <th>avg_cost</th>\n",
       "    </tr>\n",
       "    <tr>\n",
       "      <th>dr_age</th>\n",
       "      <th></th>\n",
       "      <th></th>\n",
       "      <th></th>\n",
       "    </tr>\n",
       "  </thead>\n",
       "  <tbody>\n",
       "    <tr>\n",
       "      <th>1</th>\n",
       "      <td>2324.219338</td>\n",
       "      <td>0.412778</td>\n",
       "      <td>218.316702</td>\n",
       "    </tr>\n",
       "    <tr>\n",
       "      <th>2</th>\n",
       "      <td>622.918410</td>\n",
       "      <td>0.191636</td>\n",
       "      <td>178.653321</td>\n",
       "    </tr>\n",
       "    <tr>\n",
       "      <th>3</th>\n",
       "      <td>509.327985</td>\n",
       "      <td>0.187703</td>\n",
       "      <td>131.245609</td>\n",
       "    </tr>\n",
       "    <tr>\n",
       "      <th>4</th>\n",
       "      <td>593.970641</td>\n",
       "      <td>0.186409</td>\n",
       "      <td>113.316155</td>\n",
       "    </tr>\n",
       "    <tr>\n",
       "      <th>5</th>\n",
       "      <td>329.879018</td>\n",
       "      <td>0.162081</td>\n",
       "      <td>86.606207</td>\n",
       "    </tr>\n",
       "    <tr>\n",
       "      <th>6</th>\n",
       "      <td>210.142585</td>\n",
       "      <td>0.124355</td>\n",
       "      <td>104.404247</td>\n",
       "    </tr>\n",
       "  </tbody>\n",
       "</table>\n",
       "</div>"
      ],
      "text/plain": [
       "        pure_premium  frequency    avg_cost\n",
       "dr_age                                     \n",
       "1        2324.219338   0.412778  218.316702\n",
       "2         622.918410   0.191636  178.653321\n",
       "3         509.327985   0.187703  131.245609\n",
       "4         593.970641   0.186409  113.316155\n",
       "5         329.879018   0.162081   86.606207\n",
       "6         210.142585   0.124355  104.404247"
      ]
     },
     "execution_count": 74,
     "metadata": {},
     "output_type": "execute_result"
    }
   ],
   "source": [
    "#by dr_age\n",
    "df.groupby('dr_age')[['pure_premium', 'frequency', 'avg_cost']].mean()"
   ]
  },
  {
   "cell_type": "code",
   "execution_count": 41,
   "metadata": {},
   "outputs": [
    {
     "data": {
      "text/html": [
       "<div>\n",
       "<style scoped>\n",
       "    .dataframe tbody tr th:only-of-type {\n",
       "        vertical-align: middle;\n",
       "    }\n",
       "\n",
       "    .dataframe tbody tr th {\n",
       "        vertical-align: top;\n",
       "    }\n",
       "\n",
       "    .dataframe thead th {\n",
       "        text-align: right;\n",
       "    }\n",
       "</style>\n",
       "<table border=\"1\" class=\"dataframe\">\n",
       "  <thead>\n",
       "    <tr style=\"text-align: right;\">\n",
       "      <th></th>\n",
       "      <th>pure_premium</th>\n",
       "      <th>frequency</th>\n",
       "      <th>avg_cost</th>\n",
       "    </tr>\n",
       "    <tr>\n",
       "      <th>dr_age</th>\n",
       "      <th></th>\n",
       "      <th></th>\n",
       "      <th></th>\n",
       "    </tr>\n",
       "  </thead>\n",
       "  <tbody>\n",
       "    <tr>\n",
       "      <th>1</th>\n",
       "      <td>3.553585e+09</td>\n",
       "      <td>48.234725</td>\n",
       "      <td>1.814729e+06</td>\n",
       "    </tr>\n",
       "    <tr>\n",
       "      <th>2</th>\n",
       "      <td>8.968821e+07</td>\n",
       "      <td>1.276048</td>\n",
       "      <td>2.527269e+06</td>\n",
       "    </tr>\n",
       "    <tr>\n",
       "      <th>3</th>\n",
       "      <td>8.116614e+07</td>\n",
       "      <td>1.232990</td>\n",
       "      <td>8.387783e+05</td>\n",
       "    </tr>\n",
       "    <tr>\n",
       "      <th>4</th>\n",
       "      <td>5.316998e+08</td>\n",
       "      <td>3.349397</td>\n",
       "      <td>7.799964e+05</td>\n",
       "    </tr>\n",
       "    <tr>\n",
       "      <th>5</th>\n",
       "      <td>2.742339e+07</td>\n",
       "      <td>2.028492</td>\n",
       "      <td>6.496282e+05</td>\n",
       "    </tr>\n",
       "    <tr>\n",
       "      <th>6</th>\n",
       "      <td>3.443877e+06</td>\n",
       "      <td>0.418953</td>\n",
       "      <td>7.647825e+05</td>\n",
       "    </tr>\n",
       "  </tbody>\n",
       "</table>\n",
       "</div>"
      ],
      "text/plain": [
       "        pure_premium  frequency      avg_cost\n",
       "dr_age                                       \n",
       "1       3.553585e+09  48.234725  1.814729e+06\n",
       "2       8.968821e+07   1.276048  2.527269e+06\n",
       "3       8.116614e+07   1.232990  8.387783e+05\n",
       "4       5.316998e+08   3.349397  7.799964e+05\n",
       "5       2.742339e+07   2.028492  6.496282e+05\n",
       "6       3.443877e+06   0.418953  7.647825e+05"
      ]
     },
     "execution_count": 41,
     "metadata": {},
     "output_type": "execute_result"
    }
   ],
   "source": [
    "df.groupby('dr_age')[['pure_premium', 'frequency', 'avg_cost']].var()"
   ]
  },
  {
   "cell_type": "code",
   "execution_count": 42,
   "metadata": {},
   "outputs": [
    {
     "data": {
      "image/png": "[encoded data removed]",
      "text/plain": [
       "<Figure size 432x288 with 1 Axes>"
      ]
     },
     "metadata": {
      "needs_background": "light"
     },
     "output_type": "display_data"
    }
   ],
   "source": [
    "age_boxp1 = sns.boxplot(x=\"dr_age\", y=\"pure_premium\", data=df)"
   ]
  },
  {
   "cell_type": "code",
   "execution_count": 43,
   "metadata": {},
   "outputs": [
    {
     "data": {
      "image/png": "[encoded data removed]",
      "text/plain": [
       "<Figure size 432x288 with 1 Axes>"
      ]
     },
     "metadata": {
      "needs_background": "light"
     },
     "output_type": "display_data"
    }
   ],
   "source": [
    "age_boxp2 = sns.boxplot(x=\"dr_age\", y=\"frequency\", data=df)"
   ]
  },
  {
   "cell_type": "code",
   "execution_count": 44,
   "metadata": {},
   "outputs": [
    {
     "data": {
      "image/png": "[encoded data removed]",
      "text/plain": [
       "<Figure size 432x288 with 1 Axes>"
      ]
     },
     "metadata": {
      "needs_background": "light"
     },
     "output_type": "display_data"
    }
   ],
   "source": [
    "age_boxp3 = sns.boxplot(x=\"dr_age\", y=\"avg_cost\", data=df)"
   ]
  },
  {
   "cell_type": "code",
   "execution_count": 75,
   "metadata": {},
   "outputs": [
    {
     "data": {
      "text/html": [
       "<div>\n",
       "<style scoped>\n",
       "    .dataframe tbody tr th:only-of-type {\n",
       "        vertical-align: middle;\n",
       "    }\n",
       "\n",
       "    .dataframe tbody tr th {\n",
       "        vertical-align: top;\n",
       "    }\n",
       "\n",
       "    .dataframe thead th {\n",
       "        text-align: right;\n",
       "    }\n",
       "</style>\n",
       "<table border=\"1\" class=\"dataframe\">\n",
       "  <thead>\n",
       "    <tr style=\"text-align: right;\">\n",
       "      <th></th>\n",
       "      <th>id</th>\n",
       "      <th>veh_value</th>\n",
       "      <th>exposure</th>\n",
       "      <th>veh_body</th>\n",
       "      <th>veh_age</th>\n",
       "      <th>gender</th>\n",
       "      <th>area</th>\n",
       "      <th>dr_age</th>\n",
       "      <th>claim_ind</th>\n",
       "      <th>claim_count</th>\n",
       "      <th>claim_cost</th>\n",
       "      <th>pure_premium</th>\n",
       "      <th>avg_cost</th>\n",
       "      <th>frequency</th>\n",
       "      <th>veh_value2</th>\n",
       "    </tr>\n",
       "  </thead>\n",
       "  <tbody>\n",
       "    <tr>\n",
       "      <th>0</th>\n",
       "      <td>3</td>\n",
       "      <td>6.43</td>\n",
       "      <td>0.241898</td>\n",
       "      <td>STNWG</td>\n",
       "      <td>1</td>\n",
       "      <td>M</td>\n",
       "      <td>A</td>\n",
       "      <td>3</td>\n",
       "      <td>0</td>\n",
       "      <td>0</td>\n",
       "      <td>0.000000</td>\n",
       "      <td>0.000000</td>\n",
       "      <td>0.000000</td>\n",
       "      <td>0.000000</td>\n",
       "      <td>41.3449</td>\n",
       "    </tr>\n",
       "    <tr>\n",
       "      <th>1</th>\n",
       "      <td>6</td>\n",
       "      <td>4.46</td>\n",
       "      <td>0.856523</td>\n",
       "      <td>STNWG</td>\n",
       "      <td>1</td>\n",
       "      <td>M</td>\n",
       "      <td>A</td>\n",
       "      <td>3</td>\n",
       "      <td>0</td>\n",
       "      <td>0</td>\n",
       "      <td>0.000000</td>\n",
       "      <td>0.000000</td>\n",
       "      <td>0.000000</td>\n",
       "      <td>0.000000</td>\n",
       "      <td>19.8916</td>\n",
       "    </tr>\n",
       "    <tr>\n",
       "      <th>2</th>\n",
       "      <td>20</td>\n",
       "      <td>1.70</td>\n",
       "      <td>0.417517</td>\n",
       "      <td>HBACK</td>\n",
       "      <td>1</td>\n",
       "      <td>M</td>\n",
       "      <td>A</td>\n",
       "      <td>4</td>\n",
       "      <td>0</td>\n",
       "      <td>0</td>\n",
       "      <td>0.000000</td>\n",
       "      <td>0.000000</td>\n",
       "      <td>0.000000</td>\n",
       "      <td>0.000000</td>\n",
       "      <td>2.8900</td>\n",
       "    </tr>\n",
       "    <tr>\n",
       "      <th>3</th>\n",
       "      <td>21</td>\n",
       "      <td>0.48</td>\n",
       "      <td>0.626975</td>\n",
       "      <td>SEDAN</td>\n",
       "      <td>4</td>\n",
       "      <td>F</td>\n",
       "      <td>A</td>\n",
       "      <td>6</td>\n",
       "      <td>0</td>\n",
       "      <td>0</td>\n",
       "      <td>0.000000</td>\n",
       "      <td>0.000000</td>\n",
       "      <td>0.000000</td>\n",
       "      <td>0.000000</td>\n",
       "      <td>0.2304</td>\n",
       "    </tr>\n",
       "    <tr>\n",
       "      <th>4</th>\n",
       "      <td>28</td>\n",
       "      <td>1.96</td>\n",
       "      <td>0.089770</td>\n",
       "      <td>HBACK</td>\n",
       "      <td>1</td>\n",
       "      <td>F</td>\n",
       "      <td>A</td>\n",
       "      <td>2</td>\n",
       "      <td>0</td>\n",
       "      <td>0</td>\n",
       "      <td>0.000000</td>\n",
       "      <td>0.000000</td>\n",
       "      <td>0.000000</td>\n",
       "      <td>0.000000</td>\n",
       "      <td>3.8416</td>\n",
       "    </tr>\n",
       "    <tr>\n",
       "      <th>...</th>\n",
       "      <td>...</td>\n",
       "      <td>...</td>\n",
       "      <td>...</td>\n",
       "      <td>...</td>\n",
       "      <td>...</td>\n",
       "      <td>...</td>\n",
       "      <td>...</td>\n",
       "      <td>...</td>\n",
       "      <td>...</td>\n",
       "      <td>...</td>\n",
       "      <td>...</td>\n",
       "      <td>...</td>\n",
       "      <td>...</td>\n",
       "      <td>...</td>\n",
       "      <td>...</td>\n",
       "    </tr>\n",
       "    <tr>\n",
       "      <th>22605</th>\n",
       "      <td>67847</td>\n",
       "      <td>2.30</td>\n",
       "      <td>0.909445</td>\n",
       "      <td>UTE</td>\n",
       "      <td>3</td>\n",
       "      <td>F</td>\n",
       "      <td>F</td>\n",
       "      <td>2</td>\n",
       "      <td>1</td>\n",
       "      <td>2</td>\n",
       "      <td>5163.224416</td>\n",
       "      <td>5677.335448</td>\n",
       "      <td>2581.612208</td>\n",
       "      <td>2.199143</td>\n",
       "      <td>5.2900</td>\n",
       "    </tr>\n",
       "    <tr>\n",
       "      <th>22606</th>\n",
       "      <td>67848</td>\n",
       "      <td>1.49</td>\n",
       "      <td>0.999321</td>\n",
       "      <td>SEDAN</td>\n",
       "      <td>2</td>\n",
       "      <td>F</td>\n",
       "      <td>F</td>\n",
       "      <td>2</td>\n",
       "      <td>1</td>\n",
       "      <td>2</td>\n",
       "      <td>5230.467325</td>\n",
       "      <td>5234.019785</td>\n",
       "      <td>2615.233662</td>\n",
       "      <td>2.001358</td>\n",
       "      <td>2.2201</td>\n",
       "    </tr>\n",
       "    <tr>\n",
       "      <th>22607</th>\n",
       "      <td>67849</td>\n",
       "      <td>1.65</td>\n",
       "      <td>0.783724</td>\n",
       "      <td>SEDAN</td>\n",
       "      <td>2</td>\n",
       "      <td>F</td>\n",
       "      <td>F</td>\n",
       "      <td>3</td>\n",
       "      <td>1</td>\n",
       "      <td>2</td>\n",
       "      <td>1502.970766</td>\n",
       "      <td>1917.729413</td>\n",
       "      <td>751.485383</td>\n",
       "      <td>2.551918</td>\n",
       "      <td>2.7225</td>\n",
       "    </tr>\n",
       "    <tr>\n",
       "      <th>22608</th>\n",
       "      <td>67851</td>\n",
       "      <td>2.39</td>\n",
       "      <td>0.841333</td>\n",
       "      <td>SEDAN</td>\n",
       "      <td>1</td>\n",
       "      <td>F</td>\n",
       "      <td>F</td>\n",
       "      <td>4</td>\n",
       "      <td>1</td>\n",
       "      <td>2</td>\n",
       "      <td>1169.773526</td>\n",
       "      <td>1390.381147</td>\n",
       "      <td>584.886763</td>\n",
       "      <td>2.377180</td>\n",
       "      <td>5.7121</td>\n",
       "    </tr>\n",
       "    <tr>\n",
       "      <th>22609</th>\n",
       "      <td>67852</td>\n",
       "      <td>1.38</td>\n",
       "      <td>0.808868</td>\n",
       "      <td>UTE</td>\n",
       "      <td>3</td>\n",
       "      <td>M</td>\n",
       "      <td>F</td>\n",
       "      <td>5</td>\n",
       "      <td>1</td>\n",
       "      <td>2</td>\n",
       "      <td>7754.455571</td>\n",
       "      <td>9586.805406</td>\n",
       "      <td>3877.227785</td>\n",
       "      <td>2.472593</td>\n",
       "      <td>1.9044</td>\n",
       "    </tr>\n",
       "  </tbody>\n",
       "</table>\n",
       "<p>22610 rows × 15 columns</p>\n",
       "</div>"
      ],
      "text/plain": [
       "          id  veh_value  exposure veh_body veh_age gender area dr_age  \\\n",
       "0          3       6.43  0.241898    STNWG       1      M    A      3   \n",
       "1          6       4.46  0.856523    STNWG       1      M    A      3   \n",
       "2         20       1.70  0.417517    HBACK       1      M    A      4   \n",
       "3         21       0.48  0.626975    SEDAN       4      F    A      6   \n",
       "4         28       1.96  0.089770    HBACK       1      F    A      2   \n",
       "...      ...        ...       ...      ...     ...    ...  ...    ...   \n",
       "22605  67847       2.30  0.909445      UTE       3      F    F      2   \n",
       "22606  67848       1.49  0.999321    SEDAN       2      F    F      2   \n",
       "22607  67849       1.65  0.783724    SEDAN       2      F    F      3   \n",
       "22608  67851       2.39  0.841333    SEDAN       1      F    F      4   \n",
       "22609  67852       1.38  0.808868      UTE       3      M    F      5   \n",
       "\n",
       "       claim_ind  claim_count   claim_cost  pure_premium     avg_cost  \\\n",
       "0              0            0     0.000000      0.000000     0.000000   \n",
       "1              0            0     0.000000      0.000000     0.000000   \n",
       "2              0            0     0.000000      0.000000     0.000000   \n",
       "3              0            0     0.000000      0.000000     0.000000   \n",
       "4              0            0     0.000000      0.000000     0.000000   \n",
       "...          ...          ...          ...           ...          ...   \n",
       "22605          1            2  5163.224416   5677.335448  2581.612208   \n",
       "22606          1            2  5230.467325   5234.019785  2615.233662   \n",
       "22607          1            2  1502.970766   1917.729413   751.485383   \n",
       "22608          1            2  1169.773526   1390.381147   584.886763   \n",
       "22609          1            2  7754.455571   9586.805406  3877.227785   \n",
       "\n",
       "       frequency  veh_value2  \n",
       "0       0.000000     41.3449  \n",
       "1       0.000000     19.8916  \n",
       "2       0.000000      2.8900  \n",
       "3       0.000000      0.2304  \n",
       "4       0.000000      3.8416  \n",
       "...          ...         ...  \n",
       "22605   2.199143      5.2900  \n",
       "22606   2.001358      2.2201  \n",
       "22607   2.551918      2.7225  \n",
       "22608   2.377180      5.7121  \n",
       "22609   2.472593      1.9044  \n",
       "\n",
       "[22610 rows x 15 columns]"
      ]
     },
     "execution_count": 75,
     "metadata": {},
     "output_type": "execute_result"
    }
   ],
   "source": [
    "df#take a look at tthe data"
   ]
  },
  {
   "cell_type": "code",
   "execution_count": 50,
   "metadata": {},
   "outputs": [
    {
     "data": {
      "text/plain": [
       "(array([5.08892472e-04, 4.65233830e-06, 1.58133666e-06, 9.16716906e-07,\n",
       "        8.70881060e-07, 2.52097149e-07, 2.29179226e-07, 1.83343381e-07,\n",
       "        1.37507536e-07, 1.14589613e-07, 1.14589613e-07, 4.58358453e-08,\n",
       "        6.87537679e-08, 0.00000000e+00, 0.00000000e+00, 4.58358453e-08,\n",
       "        0.00000000e+00, 2.29179226e-08, 0.00000000e+00, 2.29179226e-08,\n",
       "        0.00000000e+00, 0.00000000e+00, 0.00000000e+00, 0.00000000e+00,\n",
       "        0.00000000e+00, 0.00000000e+00, 0.00000000e+00, 0.00000000e+00,\n",
       "        0.00000000e+00, 2.29179226e-08]),\n",
       " array([    0.        ,  1929.85281867,  3859.70563733,  5789.558456  ,\n",
       "         7719.41127467,  9649.26409333, 11579.116912  , 13508.96973067,\n",
       "        15438.82254933, 17368.675368  , 19298.52818667, 21228.38100533,\n",
       "        23158.233824  , 25088.08664267, 27017.93946133, 28947.79228   ,\n",
       "        30877.64509867, 32807.49791733, 34737.350736  , 36667.20355467,\n",
       "        38597.05637333, 40526.909192  , 42456.76201067, 44386.61482933,\n",
       "        46316.467648  , 48246.32046667, 50176.17328533, 52106.026104  ,\n",
       "        54035.87892267, 55965.73174133, 57895.58456   ]),\n",
       " <a list of 30 Patch objects>)"
      ]
     },
     "execution_count": 50,
     "metadata": {},
     "output_type": "execute_result"
    },
    {
     "data": {
      "image/png": "[encoded data removed]",
      "text/plain": [
       "<Figure size 432x288 with 1 Axes>"
      ]
     },
     "metadata": {
      "needs_background": "light"
     },
     "output_type": "display_data"
    }
   ],
   "source": [
    "#histogram of all claim cost\n",
    "plt.hist(df[\"claim_cost\"], density=True, bins=30)"
   ]
  },
  {
   "cell_type": "code",
   "execution_count": 64,
   "metadata": {},
   "outputs": [
    {
     "data": {
      "text/plain": [
       "(array([3.94214901e-04, 6.03355567e-05, 2.27105747e-05, 1.25416607e-05,\n",
       "        1.18637331e-05, 4.40652942e-06, 2.37274661e-06, 2.71171041e-06,\n",
       "        2.03378281e-06, 1.69481901e-06, 1.69481901e-06, 6.77927603e-07,\n",
       "        1.01689140e-06, 0.00000000e+00, 0.00000000e+00, 6.77927603e-07,\n",
       "        0.00000000e+00, 3.38963802e-07, 0.00000000e+00, 3.38963802e-07,\n",
       "        0.00000000e+00, 0.00000000e+00, 0.00000000e+00, 0.00000000e+00,\n",
       "        0.00000000e+00, 0.00000000e+00, 0.00000000e+00, 0.00000000e+00,\n",
       "        0.00000000e+00, 3.38963802e-07]),\n",
       " array([  200.0006035 ,  2123.18673538,  4046.37286727,  5969.55899915,\n",
       "         7892.74513103,  9815.93126292, 11739.1173948 , 13662.30352668,\n",
       "        15585.48965857, 17508.67579045, 19431.86192233, 21355.04805422,\n",
       "        23278.2341861 , 25201.42031798, 27124.60644987, 29047.79258175,\n",
       "        30970.97871363, 32894.16484552, 34817.3509774 , 36740.53710928,\n",
       "        38663.72324117, 40586.90937305, 42510.09550493, 44433.28163682,\n",
       "        46356.4677687 , 48279.65390058, 50202.84003247, 52126.02616435,\n",
       "        54049.21229623, 55972.39842812, 57895.58456   ]),\n",
       " <a list of 30 Patch objects>)"
      ]
     },
     "execution_count": 64,
     "metadata": {},
     "output_type": "execute_result"
    },
    {
     "data": {
      "image/png": "[encoded data removed]",
      "text/plain": [
       "<Figure size 432x288 with 1 Axes>"
      ]
     },
     "metadata": {
      "needs_background": "light"
     },
     "output_type": "display_data"
    }
   ],
   "source": [
    "#histogram of non0zero claim cost\n",
    "nonzero = df[\"claim_cost\"] > 0\n",
    "nonzero.df = df[nonzero]\n",
    "plt.hist(nonzero.df[\"claim_cost\"], density=True, bins=30)"
   ]
  },
  {
   "cell_type": "code",
   "execution_count": 73,
   "metadata": {},
   "outputs": [
    {
     "name": "stdout",
     "output_type": "stream",
     "text": [
      "Total observations: 22610\n",
      "Number of non-zero claim-cost observations: 1534\n"
     ]
    }
   ],
   "source": [
    "print(\"Total observations:\",len(df))\n",
    "print(\"Number of non-zero claim-cost observations:\",len(nonzero.df))"
   ]
  },
  {
   "cell_type": "code",
   "execution_count": 65,
   "metadata": {},
   "outputs": [
    {
     "data": {
      "text/html": [
       "<div>\n",
       "<style scoped>\n",
       "    .dataframe tbody tr th:only-of-type {\n",
       "        vertical-align: middle;\n",
       "    }\n",
       "\n",
       "    .dataframe tbody tr th {\n",
       "        vertical-align: top;\n",
       "    }\n",
       "\n",
       "    .dataframe thead th {\n",
       "        text-align: right;\n",
       "    }\n",
       "</style>\n",
       "<table border=\"1\" class=\"dataframe\">\n",
       "  <thead>\n",
       "    <tr style=\"text-align: right;\">\n",
       "      <th></th>\n",
       "      <th>veh_value</th>\n",
       "      <th>exposure</th>\n",
       "      <th>claim_count</th>\n",
       "      <th>claim_cost</th>\n",
       "      <th>pure_premium</th>\n",
       "      <th>avg_cost</th>\n",
       "      <th>frequency</th>\n",
       "      <th>veh_value2</th>\n",
       "    </tr>\n",
       "  </thead>\n",
       "  <tbody>\n",
       "    <tr>\n",
       "      <th>veh_value</th>\n",
       "      <td>1.000000</td>\n",
       "      <td>0.057004</td>\n",
       "      <td>-0.033000</td>\n",
       "      <td>0.007717</td>\n",
       "      <td>-0.029368</td>\n",
       "      <td>0.010561</td>\n",
       "      <td>-0.062412</td>\n",
       "      <td>0.912970</td>\n",
       "    </tr>\n",
       "    <tr>\n",
       "      <th>exposure</th>\n",
       "      <td>0.057004</td>\n",
       "      <td>1.000000</td>\n",
       "      <td>0.091385</td>\n",
       "      <td>-0.138055</td>\n",
       "      <td>-0.177786</td>\n",
       "      <td>-0.148792</td>\n",
       "      <td>-0.321405</td>\n",
       "      <td>0.044020</td>\n",
       "    </tr>\n",
       "    <tr>\n",
       "      <th>claim_count</th>\n",
       "      <td>-0.033000</td>\n",
       "      <td>0.091385</td>\n",
       "      <td>1.000000</td>\n",
       "      <td>0.066965</td>\n",
       "      <td>-0.013581</td>\n",
       "      <td>-0.029258</td>\n",
       "      <td>0.015687</td>\n",
       "      <td>-0.029686</td>\n",
       "    </tr>\n",
       "    <tr>\n",
       "      <th>claim_cost</th>\n",
       "      <td>0.007717</td>\n",
       "      <td>-0.138055</td>\n",
       "      <td>0.066965</td>\n",
       "      <td>1.000000</td>\n",
       "      <td>0.282296</td>\n",
       "      <td>0.988374</td>\n",
       "      <td>0.114599</td>\n",
       "      <td>0.028109</td>\n",
       "    </tr>\n",
       "    <tr>\n",
       "      <th>pure_premium</th>\n",
       "      <td>-0.029368</td>\n",
       "      <td>-0.177786</td>\n",
       "      <td>-0.013581</td>\n",
       "      <td>0.282296</td>\n",
       "      <td>1.000000</td>\n",
       "      <td>0.287870</td>\n",
       "      <td>0.917884</td>\n",
       "      <td>-0.016104</td>\n",
       "    </tr>\n",
       "    <tr>\n",
       "      <th>avg_cost</th>\n",
       "      <td>0.010561</td>\n",
       "      <td>-0.148792</td>\n",
       "      <td>-0.029258</td>\n",
       "      <td>0.988374</td>\n",
       "      <td>0.287870</td>\n",
       "      <td>1.000000</td>\n",
       "      <td>0.116234</td>\n",
       "      <td>0.031916</td>\n",
       "    </tr>\n",
       "    <tr>\n",
       "      <th>frequency</th>\n",
       "      <td>-0.062412</td>\n",
       "      <td>-0.321405</td>\n",
       "      <td>0.015687</td>\n",
       "      <td>0.114599</td>\n",
       "      <td>0.917884</td>\n",
       "      <td>0.116234</td>\n",
       "      <td>1.000000</td>\n",
       "      <td>-0.041719</td>\n",
       "    </tr>\n",
       "    <tr>\n",
       "      <th>veh_value2</th>\n",
       "      <td>0.912970</td>\n",
       "      <td>0.044020</td>\n",
       "      <td>-0.029686</td>\n",
       "      <td>0.028109</td>\n",
       "      <td>-0.016104</td>\n",
       "      <td>0.031916</td>\n",
       "      <td>-0.041719</td>\n",
       "      <td>1.000000</td>\n",
       "    </tr>\n",
       "  </tbody>\n",
       "</table>\n",
       "</div>"
      ],
      "text/plain": [
       "              veh_value  exposure  claim_count  claim_cost  pure_premium  \\\n",
       "veh_value      1.000000  0.057004    -0.033000    0.007717     -0.029368   \n",
       "exposure       0.057004  1.000000     0.091385   -0.138055     -0.177786   \n",
       "claim_count   -0.033000  0.091385     1.000000    0.066965     -0.013581   \n",
       "claim_cost     0.007717 -0.138055     0.066965    1.000000      0.282296   \n",
       "pure_premium  -0.029368 -0.177786    -0.013581    0.282296      1.000000   \n",
       "avg_cost       0.010561 -0.148792    -0.029258    0.988374      0.287870   \n",
       "frequency     -0.062412 -0.321405     0.015687    0.114599      0.917884   \n",
       "veh_value2     0.912970  0.044020    -0.029686    0.028109     -0.016104   \n",
       "\n",
       "              avg_cost  frequency  veh_value2  \n",
       "veh_value     0.010561  -0.062412    0.912970  \n",
       "exposure     -0.148792  -0.321405    0.044020  \n",
       "claim_count  -0.029258   0.015687   -0.029686  \n",
       "claim_cost    0.988374   0.114599    0.028109  \n",
       "pure_premium  0.287870   0.917884   -0.016104  \n",
       "avg_cost      1.000000   0.116234    0.031916  \n",
       "frequency     0.116234   1.000000   -0.041719  \n",
       "veh_value2    0.031916  -0.041719    1.000000  "
      ]
     },
     "execution_count": 65,
     "metadata": {},
     "output_type": "execute_result"
    }
   ],
   "source": [
    "#correaltion matrix\n",
    "df_losses = df[df['claim_ind'] == 1].drop(['id', 'claim_ind'], axis=1)\n",
    "df_losses.corr()"
   ]
  }
 ],
 "metadata": {
  "kernelspec": {
   "display_name": "Python 3",
   "language": "python",
   "name": "python3"
  },
  "language_info": {
   "codemirror_mode": {
    "name": "ipython",
    "version": 3
   },
   "file_extension": ".py",
   "mimetype": "text/x-python",
   "name": "python",
   "nbconvert_exporter": "python",
   "pygments_lexer": "ipython3",
   "version": "3.8.3"
  }
 },
 "nbformat": 4,
 "nbformat_minor": 4
}
