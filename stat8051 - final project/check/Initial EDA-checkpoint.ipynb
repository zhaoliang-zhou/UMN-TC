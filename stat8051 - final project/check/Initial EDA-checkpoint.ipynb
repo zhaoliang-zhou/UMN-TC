{
 "cells": [
  {
   "cell_type": "code",
   "execution_count": 2,
   "metadata": {
    "id": "3ZEBGL6MGogD"
   },
   "outputs": [],
   "source": [
    "# Importing packages\n",
    "import numpy as np\n",
    "import pandas as pd\n",
    "import statsmodels.api as sm"
   ]
  },
  {
   "cell_type": "code",
   "execution_count": 3,
   "metadata": {
    "id": "6Iz2_IpOGogE",
    "outputId": "d2d75902-cbef-4415-8f0e-9ecd6dbeb59d"
   },
   "outputs": [
    {
     "name": "stdout",
     "output_type": "stream",
     "text": [
      "(22610, 12) (22629, 8)\n"
     ]
    },
    {
     "name": "stderr",
     "output_type": "stream",
     "text": [
      "C:\\Users\\gursk\\anaconda3\\envs\\travelers\\lib\\site-packages\\pandas\\core\\series.py:726: RuntimeWarning: divide by zero encountered in log\n",
      "  result = getattr(ufunc, method)(*inputs, **kwargs)\n"
     ]
    }
   ],
   "source": [
    "# Importing data\n",
    "df_train = pd.read_csv('InsNova_train.csv')\n",
    "df_test = pd.read_csv('InsNova_test.csv')\n",
    "df_train['log_veh_value'] = np.log(df_train['veh_value'])\n",
    "print(df_train.shape, df_test.shape)"
   ]
  },
  {
   "cell_type": "code",
   "execution_count": 4,
   "metadata": {
    "id": "Y5wm7kXiGogH",
    "outputId": "c08b601c-cc11-4527-ca16-68d89e5643d4"
   },
   "outputs": [
    {
     "data": {
      "text/plain": [
       "id               0.0\n",
       "veh_value        0.0\n",
       "exposure         0.0\n",
       "veh_body         0.0\n",
       "veh_age          0.0\n",
       "gender           0.0\n",
       "area             0.0\n",
       "dr_age           0.0\n",
       "claim_ind        0.0\n",
       "claim_count      0.0\n",
       "claim_cost       0.0\n",
       "log_veh_value    0.0\n",
       "dtype: float64"
      ]
     },
     "execution_count": 4,
     "metadata": {},
     "output_type": "execute_result"
    }
   ],
   "source": [
    "# Training data EDA\n",
    "df_train.isna().mean()"
   ]
  },
  {
   "cell_type": "code",
   "execution_count": 5,
   "metadata": {
    "id": "A6bPjyXfGogI",
    "outputId": "2d66713f-bf15-46e6-cf39-a849ab0bd701"
   },
   "outputs": [
    {
     "data": {
      "text/plain": [
       "32768    1\n",
       "50356    1\n",
       "59421    1\n",
       "22555    1\n",
       "26685    1\n",
       "        ..\n",
       "53083    1\n",
       "53238    1\n",
       "49144    1\n",
       "14329    1\n",
       "2047     1\n",
       "Name: id, Length: 22610, dtype: int64"
      ]
     },
     "execution_count": 5,
     "metadata": {},
     "output_type": "execute_result"
    }
   ],
   "source": [
    "# Do we have multiple records per id?\n",
    "df_train['id'].value_counts().sort_values(ascending=False)"
   ]
  },
  {
   "cell_type": "code",
   "execution_count": 6,
   "metadata": {
    "id": "eE2Ku3wDGogJ",
    "outputId": "5b57dd6e-be9b-402d-e011-3184cd06c0db"
   },
   "outputs": [
    {
     "data": {
      "text/plain": [
       "0    21076\n",
       "1     1534\n",
       "Name: claim_ind, dtype: int64"
      ]
     },
     "execution_count": 6,
     "metadata": {},
     "output_type": "execute_result"
    }
   ],
   "source": [
    "# Looking at responses\n",
    "df_train['claim_ind'].value_counts()"
   ]
  },
  {
   "cell_type": "code",
   "execution_count": 7,
   "metadata": {
    "id": "83hBjpABGogJ",
    "outputId": "d8e94a62-dc11-4b8f-86a8-2202268774f4"
   },
   "outputs": [
    {
     "name": "stdout",
     "output_type": "stream",
     "text": [
      "0    21076\n",
      "1     1443\n",
      "2       88\n",
      "3        3\n",
      "Name: claim_count, dtype: int64\n",
      "0.07200353825740823\n",
      "0.07540263787504708\n"
     ]
    }
   ],
   "source": [
    "print(df_train['claim_count'].value_counts())\n",
    "print(df_train['claim_count'].mean())\n",
    "print(df_train['claim_count'].var())"
   ]
  },
  {
   "cell_type": "code",
   "execution_count": 8,
   "metadata": {
    "id": "X8Sfgw0cGogJ",
    "outputId": "dbb7e74e-dc88-4fd7-bb0a-5c6d4de514c0"
   },
   "outputs": [
    {
     "name": "stdout",
     "output_type": "stream",
     "text": [
      "count    22610.000000\n",
      "mean       140.007568\n",
      "std       1123.338125\n",
      "min          0.000000\n",
      "25%          0.000000\n",
      "50%          0.000000\n",
      "75%          0.000000\n",
      "max      57895.584560\n",
      "Name: claim_cost, dtype: float64\n",
      "AxesSubplot(0.125,0.125;0.775x0.755)\n"
     ]
    },
    {
     "data": {
      "image/png": "[encoded data removed]",
      "text/plain": [
       "<Figure size 432x288 with 1 Axes>"
      ]
     },
     "metadata": {
      "needs_background": "light"
     },
     "output_type": "display_data"
    }
   ],
   "source": [
    "print(df_train['claim_cost'].describe())\n",
    "print(df_train['claim_cost'].hist(bins=25))"
   ]
  },
  {
   "cell_type": "code",
   "execution_count": 9,
   "metadata": {
    "id": "3kN6EWOnGogK",
    "outputId": "ef35e651-faa8-415b-d129-572ab2c29466"
   },
   "outputs": [
    {
     "data": {
      "text/html": [
       "<div>\n",
       "<style scoped>\n",
       "    .dataframe tbody tr th:only-of-type {\n",
       "        vertical-align: middle;\n",
       "    }\n",
       "\n",
       "    .dataframe tbody tr th {\n",
       "        vertical-align: top;\n",
       "    }\n",
       "\n",
       "    .dataframe thead th {\n",
       "        text-align: right;\n",
       "    }\n",
       "</style>\n",
       "<table border=\"1\" class=\"dataframe\">\n",
       "  <thead>\n",
       "    <tr style=\"text-align: right;\">\n",
       "      <th></th>\n",
       "      <th>veh_value</th>\n",
       "      <th>exposure</th>\n",
       "      <th>veh_age</th>\n",
       "      <th>dr_age</th>\n",
       "      <th>claim_count</th>\n",
       "      <th>claim_cost</th>\n",
       "      <th>log_veh_value</th>\n",
       "    </tr>\n",
       "  </thead>\n",
       "  <tbody>\n",
       "    <tr>\n",
       "      <th>veh_value</th>\n",
       "      <td>1.000000</td>\n",
       "      <td>0.057004</td>\n",
       "      <td>-0.551289</td>\n",
       "      <td>-0.037981</td>\n",
       "      <td>-0.033000</td>\n",
       "      <td>0.007717</td>\n",
       "      <td>0.913880</td>\n",
       "    </tr>\n",
       "    <tr>\n",
       "      <th>exposure</th>\n",
       "      <td>0.057004</td>\n",
       "      <td>1.000000</td>\n",
       "      <td>-0.003200</td>\n",
       "      <td>0.045346</td>\n",
       "      <td>0.091385</td>\n",
       "      <td>-0.138055</td>\n",
       "      <td>0.084378</td>\n",
       "    </tr>\n",
       "    <tr>\n",
       "      <th>veh_age</th>\n",
       "      <td>-0.551289</td>\n",
       "      <td>-0.003200</td>\n",
       "      <td>1.000000</td>\n",
       "      <td>0.008633</td>\n",
       "      <td>0.014590</td>\n",
       "      <td>0.061662</td>\n",
       "      <td>-0.625483</td>\n",
       "    </tr>\n",
       "    <tr>\n",
       "      <th>dr_age</th>\n",
       "      <td>-0.037981</td>\n",
       "      <td>0.045346</td>\n",
       "      <td>0.008633</td>\n",
       "      <td>1.000000</td>\n",
       "      <td>0.026972</td>\n",
       "      <td>-0.072284</td>\n",
       "      <td>-0.062846</td>\n",
       "    </tr>\n",
       "    <tr>\n",
       "      <th>claim_count</th>\n",
       "      <td>-0.033000</td>\n",
       "      <td>0.091385</td>\n",
       "      <td>0.014590</td>\n",
       "      <td>0.026972</td>\n",
       "      <td>1.000000</td>\n",
       "      <td>0.066965</td>\n",
       "      <td>-0.021701</td>\n",
       "    </tr>\n",
       "    <tr>\n",
       "      <th>claim_cost</th>\n",
       "      <td>0.007717</td>\n",
       "      <td>-0.138055</td>\n",
       "      <td>0.061662</td>\n",
       "      <td>-0.072284</td>\n",
       "      <td>0.066965</td>\n",
       "      <td>1.000000</td>\n",
       "      <td>-0.003612</td>\n",
       "    </tr>\n",
       "    <tr>\n",
       "      <th>log_veh_value</th>\n",
       "      <td>0.913880</td>\n",
       "      <td>0.084378</td>\n",
       "      <td>-0.625483</td>\n",
       "      <td>-0.062846</td>\n",
       "      <td>-0.021701</td>\n",
       "      <td>-0.003612</td>\n",
       "      <td>1.000000</td>\n",
       "    </tr>\n",
       "  </tbody>\n",
       "</table>\n",
       "</div>"
      ],
      "text/plain": [
       "               veh_value  exposure   veh_age    dr_age  claim_count  \\\n",
       "veh_value       1.000000  0.057004 -0.551289 -0.037981    -0.033000   \n",
       "exposure        0.057004  1.000000 -0.003200  0.045346     0.091385   \n",
       "veh_age        -0.551289 -0.003200  1.000000  0.008633     0.014590   \n",
       "dr_age         -0.037981  0.045346  0.008633  1.000000     0.026972   \n",
       "claim_count    -0.033000  0.091385  0.014590  0.026972     1.000000   \n",
       "claim_cost      0.007717 -0.138055  0.061662 -0.072284     0.066965   \n",
       "log_veh_value   0.913880  0.084378 -0.625483 -0.062846    -0.021701   \n",
       "\n",
       "               claim_cost  log_veh_value  \n",
       "veh_value        0.007717       0.913880  \n",
       "exposure        -0.138055       0.084378  \n",
       "veh_age          0.061662      -0.625483  \n",
       "dr_age          -0.072284      -0.062846  \n",
       "claim_count      0.066965      -0.021701  \n",
       "claim_cost       1.000000      -0.003612  \n",
       "log_veh_value   -0.003612       1.000000  "
      ]
     },
     "execution_count": 9,
     "metadata": {},
     "output_type": "execute_result"
    }
   ],
   "source": [
    "df_train_losses = df_train[df_train['claim_ind'] == 1].drop(['id', 'claim_ind'], axis=1)\n",
    "df_train_losses.corr()\n",
    "# Notable finds\n",
    "# veh_value : veh_age negative\n",
    "# exposure: claim_cost negative\n",
    "# Note that much else for strong relationships"
   ]
  },
  {
   "cell_type": "code",
   "execution_count": 10,
   "metadata": {},
   "outputs": [
    {
     "data": {
      "text/plain": [
       "<AxesSubplot:>"
      ]
     },
     "execution_count": 10,
     "metadata": {},
     "output_type": "execute_result"
    },
    {
     "data": {
      "image/png": "[encoded data removed]",
      "text/plain": [
       "<Figure size 432x288 with 1 Axes>"
      ]
     },
     "metadata": {
      "needs_background": "light"
     },
     "output_type": "display_data"
    }
   ],
   "source": [
    "df_train_losses['veh_value'].hist()"
   ]
  },
  {
   "cell_type": "code",
   "execution_count": 18,
   "metadata": {},
   "outputs": [
    {
     "data": {
      "text/plain": [
       "<AxesSubplot:title={'center':'veh_value'}, xlabel='veh_age'>"
      ]
     },
     "execution_count": 18,
     "metadata": {},
     "output_type": "execute_result"
    },
    {
     "data": {
      "image/png": "[encoded data removed]",
      "text/plain": [
       "<Figure size 432x288 with 1 Axes>"
      ]
     },
     "metadata": {
      "needs_background": "light"
     },
     "output_type": "display_data"
    }
   ],
   "source": [
    "df_train.boxplot('veh_value', by='veh_age')\n",
    "# Looks like there is a strong relationship here"
   ]
  },
  {
   "cell_type": "code",
   "execution_count": 19,
   "metadata": {},
   "outputs": [
    {
     "data": {
      "text/plain": [
       "<AxesSubplot:title={'center':'veh_value'}, xlabel='area'>"
      ]
     },
     "execution_count": 19,
     "metadata": {},
     "output_type": "execute_result"
    },
    {
     "data": {
      "image/png": "[encoded data removed]",
      "text/plain": [
       "<Figure size 432x288 with 1 Axes>"
      ]
     },
     "metadata": {
      "needs_background": "light"
     },
     "output_type": "display_data"
    }
   ],
   "source": [
    "df_train.boxplot('veh_value', by='area')\n",
    "# E and F look like more expensive areas"
   ]
  },
  {
   "cell_type": "code",
   "execution_count": 20,
   "metadata": {},
   "outputs": [
    {
     "data": {
      "text/plain": [
       "<AxesSubplot:title={'center':'veh_age'}, xlabel='area'>"
      ]
     },
     "execution_count": 20,
     "metadata": {},
     "output_type": "execute_result"
    },
    {
     "data": {
      "image/png": "[encoded data removed]",
      "text/plain": [
       "<Figure size 432x288 with 1 Axes>"
      ]
     },
     "metadata": {
      "needs_background": "light"
     },
     "output_type": "display_data"
    }
   ],
   "source": [
    "df_train.boxplot('veh_age', by='area')"
   ]
  },
  {
   "cell_type": "code",
   "execution_count": 25,
   "metadata": {},
   "outputs": [
    {
     "data": {
      "text/plain": [
       "<AxesSubplot:title={'center':'dr_age'}, xlabel='area'>"
      ]
     },
     "execution_count": 25,
     "metadata": {},
     "output_type": "execute_result"
    },
    {
     "data": {
      "image/png": "[encoded data removed]",
      "text/plain": [
       "<Figure size 432x288 with 1 Axes>"
      ]
     },
     "metadata": {
      "needs_background": "light"
     },
     "output_type": "display_data"
    }
   ],
   "source": [
    "df_train.boxplot('dr_age', by='area')"
   ]
  },
  {
   "cell_type": "code",
   "execution_count": 24,
   "metadata": {},
   "outputs": [
    {
     "data": {
      "text/html": [
       "<div>\n",
       "<style scoped>\n",
       "    .dataframe tbody tr th:only-of-type {\n",
       "        vertical-align: middle;\n",
       "    }\n",
       "\n",
       "    .dataframe tbody tr th {\n",
       "        vertical-align: top;\n",
       "    }\n",
       "\n",
       "    .dataframe thead th {\n",
       "        text-align: right;\n",
       "    }\n",
       "</style>\n",
       "<table border=\"1\" class=\"dataframe\">\n",
       "  <thead>\n",
       "    <tr style=\"text-align: right;\">\n",
       "      <th>dr_age</th>\n",
       "      <th>1</th>\n",
       "      <th>2</th>\n",
       "      <th>3</th>\n",
       "      <th>4</th>\n",
       "      <th>5</th>\n",
       "      <th>6</th>\n",
       "    </tr>\n",
       "    <tr>\n",
       "      <th>area</th>\n",
       "      <th></th>\n",
       "      <th></th>\n",
       "      <th></th>\n",
       "      <th></th>\n",
       "      <th></th>\n",
       "      <th></th>\n",
       "    </tr>\n",
       "  </thead>\n",
       "  <tbody>\n",
       "    <tr>\n",
       "      <th>A</th>\n",
       "      <td>0.078182</td>\n",
       "      <td>0.189110</td>\n",
       "      <td>0.219279</td>\n",
       "      <td>0.250736</td>\n",
       "      <td>0.157837</td>\n",
       "      <td>0.104857</td>\n",
       "    </tr>\n",
       "    <tr>\n",
       "      <th>B</th>\n",
       "      <td>0.077165</td>\n",
       "      <td>0.190776</td>\n",
       "      <td>0.243195</td>\n",
       "      <td>0.225422</td>\n",
       "      <td>0.169179</td>\n",
       "      <td>0.094263</td>\n",
       "    </tr>\n",
       "    <tr>\n",
       "      <th>C</th>\n",
       "      <td>0.087935</td>\n",
       "      <td>0.186386</td>\n",
       "      <td>0.222320</td>\n",
       "      <td>0.249051</td>\n",
       "      <td>0.158341</td>\n",
       "      <td>0.095968</td>\n",
       "    </tr>\n",
       "    <tr>\n",
       "      <th>D</th>\n",
       "      <td>0.084098</td>\n",
       "      <td>0.160485</td>\n",
       "      <td>0.238340</td>\n",
       "      <td>0.227323</td>\n",
       "      <td>0.169666</td>\n",
       "      <td>0.120088</td>\n",
       "    </tr>\n",
       "    <tr>\n",
       "      <th>E</th>\n",
       "      <td>0.075165</td>\n",
       "      <td>0.187913</td>\n",
       "      <td>0.252412</td>\n",
       "      <td>0.222448</td>\n",
       "      <td>0.150838</td>\n",
       "      <td>0.111224</td>\n",
       "    </tr>\n",
       "    <tr>\n",
       "      <th>F</th>\n",
       "      <td>0.117548</td>\n",
       "      <td>0.300588</td>\n",
       "      <td>0.272880</td>\n",
       "      <td>0.202351</td>\n",
       "      <td>0.086482</td>\n",
       "      <td>0.020151</td>\n",
       "    </tr>\n",
       "  </tbody>\n",
       "</table>\n",
       "</div>"
      ],
      "text/plain": [
       "dr_age         1         2         3         4         5         6\n",
       "area                                                              \n",
       "A       0.078182  0.189110  0.219279  0.250736  0.157837  0.104857\n",
       "B       0.077165  0.190776  0.243195  0.225422  0.169179  0.094263\n",
       "C       0.087935  0.186386  0.222320  0.249051  0.158341  0.095968\n",
       "D       0.084098  0.160485  0.238340  0.227323  0.169666  0.120088\n",
       "E       0.075165  0.187913  0.252412  0.222448  0.150838  0.111224\n",
       "F       0.117548  0.300588  0.272880  0.202351  0.086482  0.020151"
      ]
     },
     "execution_count": 24,
     "metadata": {},
     "output_type": "execute_result"
    }
   ],
   "source": [
    "pd.crosstab(df_train['area'], df_train['dr_age'], normalize='index')\n",
    "# F looks a bit younger than the other areas"
   ]
  },
  {
   "cell_type": "code",
   "execution_count": 46,
   "metadata": {},
   "outputs": [
    {
     "data": {
      "text/plain": [
       "3.4"
      ]
     },
     "execution_count": 46,
     "metadata": {},
     "output_type": "execute_result"
    }
   ],
   "source": [
    "df_train['veh_value'].quantile(0.9)"
   ]
  },
  {
   "cell_type": "code",
   "execution_count": 44,
   "metadata": {},
   "outputs": [
    {
     "data": {
      "text/plain": [
       "<AxesSubplot:title={'center':'veh_value'}, xlabel='dr_age'>"
      ]
     },
     "execution_count": 44,
     "metadata": {},
     "output_type": "execute_result"
    },
    {
     "data": {
      "image/png": "[encoded data removed]",
      "text/plain": [
       "<Figure size 432x288 with 1 Axes>"
      ]
     },
     "metadata": {
      "needs_background": "light"
     },
     "output_type": "display_data"
    }
   ],
   "source": [
    "df_train.boxplot('veh_value', by='dr_age')\n",
    "# This looks pretty uniform\n"
   ]
  },
  {
   "cell_type": "code",
   "execution_count": 28,
   "metadata": {},
   "outputs": [
    {
     "data": {
      "text/html": [
       "<div>\n",
       "<style scoped>\n",
       "    .dataframe tbody tr th:only-of-type {\n",
       "        vertical-align: middle;\n",
       "    }\n",
       "\n",
       "    .dataframe tbody tr th {\n",
       "        vertical-align: top;\n",
       "    }\n",
       "\n",
       "    .dataframe thead th {\n",
       "        text-align: right;\n",
       "    }\n",
       "</style>\n",
       "<table border=\"1\" class=\"dataframe\">\n",
       "  <thead>\n",
       "    <tr style=\"text-align: right;\">\n",
       "      <th>dr_age</th>\n",
       "      <th>1</th>\n",
       "      <th>2</th>\n",
       "      <th>3</th>\n",
       "      <th>4</th>\n",
       "      <th>5</th>\n",
       "      <th>6</th>\n",
       "    </tr>\n",
       "    <tr>\n",
       "      <th>claim_ind</th>\n",
       "      <th></th>\n",
       "      <th></th>\n",
       "      <th></th>\n",
       "      <th></th>\n",
       "      <th></th>\n",
       "      <th></th>\n",
       "    </tr>\n",
       "  </thead>\n",
       "  <tbody>\n",
       "    <tr>\n",
       "      <th>0</th>\n",
       "      <td>0.90991</td>\n",
       "      <td>0.927496</td>\n",
       "      <td>0.927459</td>\n",
       "      <td>0.934613</td>\n",
       "      <td>0.94685</td>\n",
       "      <td>0.941787</td>\n",
       "    </tr>\n",
       "    <tr>\n",
       "      <th>1</th>\n",
       "      <td>0.09009</td>\n",
       "      <td>0.072504</td>\n",
       "      <td>0.072541</td>\n",
       "      <td>0.065387</td>\n",
       "      <td>0.05315</td>\n",
       "      <td>0.058213</td>\n",
       "    </tr>\n",
       "  </tbody>\n",
       "</table>\n",
       "</div>"
      ],
      "text/plain": [
       "dr_age           1         2         3         4        5         6\n",
       "claim_ind                                                          \n",
       "0          0.90991  0.927496  0.927459  0.934613  0.94685  0.941787\n",
       "1          0.09009  0.072504  0.072541  0.065387  0.05315  0.058213"
      ]
     },
     "execution_count": 28,
     "metadata": {},
     "output_type": "execute_result"
    }
   ],
   "source": [
    "pd.crosstab(df_train['claim_ind'], df_train['dr_age'], normalize='columns')"
   ]
  },
  {
   "cell_type": "code",
   "execution_count": 30,
   "metadata": {},
   "outputs": [
    {
     "data": {
      "text/html": [
       "<div>\n",
       "<style scoped>\n",
       "    .dataframe tbody tr th:only-of-type {\n",
       "        vertical-align: middle;\n",
       "    }\n",
       "\n",
       "    .dataframe tbody tr th {\n",
       "        vertical-align: top;\n",
       "    }\n",
       "\n",
       "    .dataframe thead th {\n",
       "        text-align: right;\n",
       "    }\n",
       "</style>\n",
       "<table border=\"1\" class=\"dataframe\">\n",
       "  <thead>\n",
       "    <tr style=\"text-align: right;\">\n",
       "      <th>gender</th>\n",
       "      <th>F</th>\n",
       "      <th>M</th>\n",
       "    </tr>\n",
       "    <tr>\n",
       "      <th>claim_ind</th>\n",
       "      <th></th>\n",
       "      <th></th>\n",
       "    </tr>\n",
       "  </thead>\n",
       "  <tbody>\n",
       "    <tr>\n",
       "      <th>0</th>\n",
       "      <td>0.931984</td>\n",
       "      <td>0.932377</td>\n",
       "    </tr>\n",
       "    <tr>\n",
       "      <th>1</th>\n",
       "      <td>0.068016</td>\n",
       "      <td>0.067623</td>\n",
       "    </tr>\n",
       "  </tbody>\n",
       "</table>\n",
       "</div>"
      ],
      "text/plain": [
       "gender            F         M\n",
       "claim_ind                    \n",
       "0          0.931984  0.932377\n",
       "1          0.068016  0.067623"
      ]
     },
     "execution_count": 30,
     "metadata": {},
     "output_type": "execute_result"
    }
   ],
   "source": [
    "pd.crosstab(df_train['claim_ind'], df_train['gender'], normalize='columns')"
   ]
  },
  {
   "cell_type": "code",
   "execution_count": 32,
   "metadata": {},
   "outputs": [
    {
     "data": {
      "text/plain": [
       "<AxesSubplot:title={'center':'log_claim_cost'}, xlabel='gender'>"
      ]
     },
     "execution_count": 32,
     "metadata": {},
     "output_type": "execute_result"
    },
    {
     "data": {
      "image/png": "[encoded data removed]",
      "text/plain": [
       "<Figure size 432x288 with 1 Axes>"
      ]
     },
     "metadata": {
      "needs_background": "light"
     },
     "output_type": "display_data"
    }
   ],
   "source": [
    "df_train_losses['log_claim_cost'] = np.log(df_train_losses['claim_cost'])\n",
    "df_train_losses.boxplot('log_claim_cost', by='gender')\n",
    "# Men seem to be a slightly higher severity risk"
   ]
  },
  {
   "cell_type": "code",
   "execution_count": 38,
   "metadata": {},
   "outputs": [
    {
     "data": {
      "text/plain": [
       "<AxesSubplot:title={'center':'log_claim_cost'}, xlabel='veh_body'>"
      ]
     },
     "execution_count": 38,
     "metadata": {},
     "output_type": "execute_result"
    },
    {
     "data": {
      "image/png": "[encoded data removed]",
      "text/plain": [
       "<Figure size 936x648 with 1 Axes>"
      ]
     },
     "metadata": {
      "needs_background": "light"
     },
     "output_type": "display_data"
    }
   ],
   "source": [
    "df_train_losses.boxplot('log_claim_cost', by='veh_body', figsize=(13, 9))\n",
    "# We should make an indicator for BUS, MCARA, MIBUS"
   ]
  },
  {
   "cell_type": "code",
   "execution_count": 43,
   "metadata": {},
   "outputs": [
    {
     "data": {
      "text/html": [
       "<div>\n",
       "<style scoped>\n",
       "    .dataframe tbody tr th:only-of-type {\n",
       "        vertical-align: middle;\n",
       "    }\n",
       "\n",
       "    .dataframe tbody tr th {\n",
       "        vertical-align: top;\n",
       "    }\n",
       "\n",
       "    .dataframe thead th {\n",
       "        text-align: right;\n",
       "    }\n",
       "</style>\n",
       "<table border=\"1\" class=\"dataframe\">\n",
       "  <thead>\n",
       "    <tr style=\"text-align: right;\">\n",
       "      <th>veh_body</th>\n",
       "      <th>BUS</th>\n",
       "      <th>CONVT</th>\n",
       "      <th>COUPE</th>\n",
       "      <th>HBACK</th>\n",
       "      <th>HDTOP</th>\n",
       "      <th>MCARA</th>\n",
       "      <th>MIBUS</th>\n",
       "      <th>PANVN</th>\n",
       "      <th>RDSTR</th>\n",
       "      <th>SEDAN</th>\n",
       "      <th>STNWG</th>\n",
       "      <th>TRUCK</th>\n",
       "      <th>UTE</th>\n",
       "    </tr>\n",
       "    <tr>\n",
       "      <th>area</th>\n",
       "      <th></th>\n",
       "      <th></th>\n",
       "      <th></th>\n",
       "      <th></th>\n",
       "      <th></th>\n",
       "      <th></th>\n",
       "      <th></th>\n",
       "      <th></th>\n",
       "      <th></th>\n",
       "      <th></th>\n",
       "      <th></th>\n",
       "      <th></th>\n",
       "      <th></th>\n",
       "    </tr>\n",
       "  </thead>\n",
       "  <tbody>\n",
       "    <tr>\n",
       "      <th>A</th>\n",
       "      <td>0.000184</td>\n",
       "      <td>0.003127</td>\n",
       "      <td>0.015453</td>\n",
       "      <td>0.325791</td>\n",
       "      <td>0.018212</td>\n",
       "      <td>0.001472</td>\n",
       "      <td>0.009750</td>\n",
       "      <td>0.011221</td>\n",
       "      <td>0.000920</td>\n",
       "      <td>0.342531</td>\n",
       "      <td>0.213208</td>\n",
       "      <td>0.016556</td>\n",
       "      <td>0.041575</td>\n",
       "    </tr>\n",
       "    <tr>\n",
       "      <th>B</th>\n",
       "      <td>0.000450</td>\n",
       "      <td>0.001350</td>\n",
       "      <td>0.011924</td>\n",
       "      <td>0.315186</td>\n",
       "      <td>0.020472</td>\n",
       "      <td>0.000675</td>\n",
       "      <td>0.012148</td>\n",
       "      <td>0.015298</td>\n",
       "      <td>0.000450</td>\n",
       "      <td>0.363330</td>\n",
       "      <td>0.182902</td>\n",
       "      <td>0.018673</td>\n",
       "      <td>0.057143</td>\n",
       "    </tr>\n",
       "    <tr>\n",
       "      <th>C</th>\n",
       "      <td>0.000730</td>\n",
       "      <td>0.001022</td>\n",
       "      <td>0.011832</td>\n",
       "      <td>0.314344</td>\n",
       "      <td>0.018405</td>\n",
       "      <td>0.001899</td>\n",
       "      <td>0.015045</td>\n",
       "      <td>0.012124</td>\n",
       "      <td>0.000146</td>\n",
       "      <td>0.355682</td>\n",
       "      <td>0.202892</td>\n",
       "      <td>0.016068</td>\n",
       "      <td>0.049810</td>\n",
       "    </tr>\n",
       "    <tr>\n",
       "      <th>D</th>\n",
       "      <td>0.000367</td>\n",
       "      <td>0.000367</td>\n",
       "      <td>0.007345</td>\n",
       "      <td>0.213368</td>\n",
       "      <td>0.025707</td>\n",
       "      <td>0.002938</td>\n",
       "      <td>0.005141</td>\n",
       "      <td>0.006610</td>\n",
       "      <td>0.000367</td>\n",
       "      <td>0.300037</td>\n",
       "      <td>0.290121</td>\n",
       "      <td>0.048476</td>\n",
       "      <td>0.099155</td>\n",
       "    </tr>\n",
       "    <tr>\n",
       "      <th>E</th>\n",
       "      <td>0.003047</td>\n",
       "      <td>0.000000</td>\n",
       "      <td>0.002031</td>\n",
       "      <td>0.171661</td>\n",
       "      <td>0.029964</td>\n",
       "      <td>0.003555</td>\n",
       "      <td>0.010665</td>\n",
       "      <td>0.006602</td>\n",
       "      <td>0.000000</td>\n",
       "      <td>0.267649</td>\n",
       "      <td>0.308278</td>\n",
       "      <td>0.062468</td>\n",
       "      <td>0.134078</td>\n",
       "    </tr>\n",
       "    <tr>\n",
       "      <th>F</th>\n",
       "      <td>0.003359</td>\n",
       "      <td>0.000000</td>\n",
       "      <td>0.001679</td>\n",
       "      <td>0.087322</td>\n",
       "      <td>0.066331</td>\n",
       "      <td>0.000000</td>\n",
       "      <td>0.005877</td>\n",
       "      <td>0.001679</td>\n",
       "      <td>0.000000</td>\n",
       "      <td>0.129303</td>\n",
       "      <td>0.495382</td>\n",
       "      <td>0.062972</td>\n",
       "      <td>0.146096</td>\n",
       "    </tr>\n",
       "  </tbody>\n",
       "</table>\n",
       "</div>"
      ],
      "text/plain": [
       "veh_body       BUS     CONVT     COUPE     HBACK     HDTOP     MCARA  \\\n",
       "area                                                                   \n",
       "A         0.000184  0.003127  0.015453  0.325791  0.018212  0.001472   \n",
       "B         0.000450  0.001350  0.011924  0.315186  0.020472  0.000675   \n",
       "C         0.000730  0.001022  0.011832  0.314344  0.018405  0.001899   \n",
       "D         0.000367  0.000367  0.007345  0.213368  0.025707  0.002938   \n",
       "E         0.003047  0.000000  0.002031  0.171661  0.029964  0.003555   \n",
       "F         0.003359  0.000000  0.001679  0.087322  0.066331  0.000000   \n",
       "\n",
       "veh_body     MIBUS     PANVN     RDSTR     SEDAN     STNWG     TRUCK       UTE  \n",
       "area                                                                            \n",
       "A         0.009750  0.011221  0.000920  0.342531  0.213208  0.016556  0.041575  \n",
       "B         0.012148  0.015298  0.000450  0.363330  0.182902  0.018673  0.057143  \n",
       "C         0.015045  0.012124  0.000146  0.355682  0.202892  0.016068  0.049810  \n",
       "D         0.005141  0.006610  0.000367  0.300037  0.290121  0.048476  0.099155  \n",
       "E         0.010665  0.006602  0.000000  0.267649  0.308278  0.062468  0.134078  \n",
       "F         0.005877  0.001679  0.000000  0.129303  0.495382  0.062972  0.146096  "
      ]
     },
     "execution_count": 43,
     "metadata": {},
     "output_type": "execute_result"
    }
   ],
   "source": [
    "pd.crosstab(df_train['area'], df_train['veh_body'], normalize='index')"
   ]
  },
  {
   "cell_type": "code",
   "execution_count": 50,
   "metadata": {},
   "outputs": [
    {
     "data": {
      "text/plain": [
       "<AxesSubplot:>"
      ]
     },
     "execution_count": 50,
     "metadata": {},
     "output_type": "execute_result"
    },
    {
     "data": {
      "image/png": "[encoded data removed]",
      "text/plain": [
       "<Figure size 936x648 with 1 Axes>"
      ]
     },
     "metadata": {
      "needs_background": "light"
     },
     "output_type": "display_data"
    }
   ],
   "source": [
    "df_train_losses['claim_cost'].hist(figsize=(13, 9), bins=100)"
   ]
  },
  {
   "cell_type": "code",
   "execution_count": 36,
   "metadata": {
    "scrolled": true
   },
   "outputs": [
    {
     "data": {
      "text/html": [
       "<div>\n",
       "<style scoped>\n",
       "    .dataframe tbody tr th:only-of-type {\n",
       "        vertical-align: middle;\n",
       "    }\n",
       "\n",
       "    .dataframe tbody tr th {\n",
       "        vertical-align: top;\n",
       "    }\n",
       "\n",
       "    .dataframe thead th {\n",
       "        text-align: right;\n",
       "    }\n",
       "</style>\n",
       "<table border=\"1\" class=\"dataframe\">\n",
       "  <thead>\n",
       "    <tr style=\"text-align: right;\">\n",
       "      <th></th>\n",
       "      <th>veh_value</th>\n",
       "      <th>exposure</th>\n",
       "      <th>veh_body</th>\n",
       "      <th>veh_age</th>\n",
       "      <th>gender</th>\n",
       "      <th>area</th>\n",
       "      <th>dr_age</th>\n",
       "      <th>claim_count</th>\n",
       "      <th>claim_cost</th>\n",
       "      <th>log_veh_value</th>\n",
       "      <th>log_claim_cost</th>\n",
       "    </tr>\n",
       "  </thead>\n",
       "  <tbody>\n",
       "    <tr>\n",
       "      <th>5158</th>\n",
       "      <td>5.28</td>\n",
       "      <td>0.173134</td>\n",
       "      <td>STNWG</td>\n",
       "      <td>2</td>\n",
       "      <td>M</td>\n",
       "      <td>A</td>\n",
       "      <td>2</td>\n",
       "      <td>1</td>\n",
       "      <td>57895.58456</td>\n",
       "      <td>1.663926</td>\n",
       "      <td>10.966396</td>\n",
       "    </tr>\n",
       "    <tr>\n",
       "      <th>22538</th>\n",
       "      <td>4.90</td>\n",
       "      <td>0.092339</td>\n",
       "      <td>STNWG</td>\n",
       "      <td>1</td>\n",
       "      <td>F</td>\n",
       "      <td>F</td>\n",
       "      <td>2</td>\n",
       "      <td>1</td>\n",
       "      <td>37785.26165</td>\n",
       "      <td>1.589235</td>\n",
       "      <td>10.539674</td>\n",
       "    </tr>\n",
       "    <tr>\n",
       "      <th>22562</th>\n",
       "      <td>3.78</td>\n",
       "      <td>0.333892</td>\n",
       "      <td>HDTOP</td>\n",
       "      <td>2</td>\n",
       "      <td>M</td>\n",
       "      <td>F</td>\n",
       "      <td>1</td>\n",
       "      <td>1</td>\n",
       "      <td>34460.83751</td>\n",
       "      <td>1.329724</td>\n",
       "      <td>10.447579</td>\n",
       "    </tr>\n",
       "    <tr>\n",
       "      <th>5092</th>\n",
       "      <td>2.34</td>\n",
       "      <td>0.977423</td>\n",
       "      <td>SEDAN</td>\n",
       "      <td>2</td>\n",
       "      <td>M</td>\n",
       "      <td>A</td>\n",
       "      <td>4</td>\n",
       "      <td>1</td>\n",
       "      <td>29661.34782</td>\n",
       "      <td>0.850151</td>\n",
       "      <td>10.297600</td>\n",
       "    </tr>\n",
       "    <tr>\n",
       "      <th>16626</th>\n",
       "      <td>1.18</td>\n",
       "      <td>0.538212</td>\n",
       "      <td>SEDAN</td>\n",
       "      <td>3</td>\n",
       "      <td>F</td>\n",
       "      <td>C</td>\n",
       "      <td>2</td>\n",
       "      <td>1</td>\n",
       "      <td>29614.53557</td>\n",
       "      <td>0.165514</td>\n",
       "      <td>10.296021</td>\n",
       "    </tr>\n",
       "    <tr>\n",
       "      <th>5299</th>\n",
       "      <td>2.14</td>\n",
       "      <td>0.439395</td>\n",
       "      <td>UTE</td>\n",
       "      <td>3</td>\n",
       "      <td>M</td>\n",
       "      <td>A</td>\n",
       "      <td>2</td>\n",
       "      <td>1</td>\n",
       "      <td>24544.75533</td>\n",
       "      <td>0.760806</td>\n",
       "      <td>10.108253</td>\n",
       "    </tr>\n",
       "    <tr>\n",
       "      <th>19383</th>\n",
       "      <td>0.97</td>\n",
       "      <td>0.469352</td>\n",
       "      <td>TRUCK</td>\n",
       "      <td>4</td>\n",
       "      <td>M</td>\n",
       "      <td>D</td>\n",
       "      <td>6</td>\n",
       "      <td>1</td>\n",
       "      <td>23942.69883</td>\n",
       "      <td>-0.030459</td>\n",
       "      <td>10.083419</td>\n",
       "    </tr>\n",
       "    <tr>\n",
       "      <th>19353</th>\n",
       "      <td>0.81</td>\n",
       "      <td>0.307876</td>\n",
       "      <td>SEDAN</td>\n",
       "      <td>4</td>\n",
       "      <td>F</td>\n",
       "      <td>D</td>\n",
       "      <td>3</td>\n",
       "      <td>1</td>\n",
       "      <td>23488.52221</td>\n",
       "      <td>-0.210721</td>\n",
       "      <td>10.064267</td>\n",
       "    </tr>\n",
       "    <tr>\n",
       "      <th>16635</th>\n",
       "      <td>2.27</td>\n",
       "      <td>0.382731</td>\n",
       "      <td>TRUCK</td>\n",
       "      <td>4</td>\n",
       "      <td>M</td>\n",
       "      <td>C</td>\n",
       "      <td>2</td>\n",
       "      <td>1</td>\n",
       "      <td>22587.59574</td>\n",
       "      <td>0.819780</td>\n",
       "      <td>10.025156</td>\n",
       "    </tr>\n",
       "    <tr>\n",
       "      <th>22519</th>\n",
       "      <td>2.92</td>\n",
       "      <td>0.277963</td>\n",
       "      <td>STNWG</td>\n",
       "      <td>2</td>\n",
       "      <td>M</td>\n",
       "      <td>F</td>\n",
       "      <td>5</td>\n",
       "      <td>1</td>\n",
       "      <td>22581.76273</td>\n",
       "      <td>1.071584</td>\n",
       "      <td>10.024898</td>\n",
       "    </tr>\n",
       "    <tr>\n",
       "      <th>21395</th>\n",
       "      <td>2.78</td>\n",
       "      <td>0.516710</td>\n",
       "      <td>HDTOP</td>\n",
       "      <td>3</td>\n",
       "      <td>M</td>\n",
       "      <td>E</td>\n",
       "      <td>5</td>\n",
       "      <td>1</td>\n",
       "      <td>21102.13947</td>\n",
       "      <td>1.022451</td>\n",
       "      <td>9.957130</td>\n",
       "    </tr>\n",
       "    <tr>\n",
       "      <th>21381</th>\n",
       "      <td>1.23</td>\n",
       "      <td>0.237705</td>\n",
       "      <td>STNWG</td>\n",
       "      <td>4</td>\n",
       "      <td>M</td>\n",
       "      <td>E</td>\n",
       "      <td>2</td>\n",
       "      <td>1</td>\n",
       "      <td>21080.12566</td>\n",
       "      <td>0.207014</td>\n",
       "      <td>9.956086</td>\n",
       "    </tr>\n",
       "    <tr>\n",
       "      <th>9872</th>\n",
       "      <td>2.38</td>\n",
       "      <td>0.388588</td>\n",
       "      <td>COUPE</td>\n",
       "      <td>2</td>\n",
       "      <td>M</td>\n",
       "      <td>B</td>\n",
       "      <td>2</td>\n",
       "      <td>2</td>\n",
       "      <td>20559.07929</td>\n",
       "      <td>0.867100</td>\n",
       "      <td>9.931058</td>\n",
       "    </tr>\n",
       "    <tr>\n",
       "      <th>9748</th>\n",
       "      <td>1.18</td>\n",
       "      <td>0.038929</td>\n",
       "      <td>HBACK</td>\n",
       "      <td>2</td>\n",
       "      <td>M</td>\n",
       "      <td>B</td>\n",
       "      <td>3</td>\n",
       "      <td>1</td>\n",
       "      <td>20258.99091</td>\n",
       "      <td>0.165514</td>\n",
       "      <td>9.916354</td>\n",
       "    </tr>\n",
       "    <tr>\n",
       "      <th>16585</th>\n",
       "      <td>1.36</td>\n",
       "      <td>0.097090</td>\n",
       "      <td>HBACK</td>\n",
       "      <td>2</td>\n",
       "      <td>M</td>\n",
       "      <td>C</td>\n",
       "      <td>2</td>\n",
       "      <td>1</td>\n",
       "      <td>20105.23359</td>\n",
       "      <td>0.307485</td>\n",
       "      <td>9.908735</td>\n",
       "    </tr>\n",
       "    <tr>\n",
       "      <th>9567</th>\n",
       "      <td>2.07</td>\n",
       "      <td>0.554703</td>\n",
       "      <td>STNWG</td>\n",
       "      <td>3</td>\n",
       "      <td>M</td>\n",
       "      <td>B</td>\n",
       "      <td>4</td>\n",
       "      <td>1</td>\n",
       "      <td>19240.98103</td>\n",
       "      <td>0.727549</td>\n",
       "      <td>9.864798</td>\n",
       "    </tr>\n",
       "    <tr>\n",
       "      <th>19338</th>\n",
       "      <td>4.26</td>\n",
       "      <td>0.636227</td>\n",
       "      <td>STNWG</td>\n",
       "      <td>2</td>\n",
       "      <td>F</td>\n",
       "      <td>D</td>\n",
       "      <td>2</td>\n",
       "      <td>1</td>\n",
       "      <td>18980.37108</td>\n",
       "      <td>1.449269</td>\n",
       "      <td>9.851161</td>\n",
       "    </tr>\n",
       "    <tr>\n",
       "      <th>19370</th>\n",
       "      <td>2.49</td>\n",
       "      <td>0.314902</td>\n",
       "      <td>UTE</td>\n",
       "      <td>3</td>\n",
       "      <td>M</td>\n",
       "      <td>D</td>\n",
       "      <td>3</td>\n",
       "      <td>1</td>\n",
       "      <td>18806.60870</td>\n",
       "      <td>0.912283</td>\n",
       "      <td>9.841964</td>\n",
       "    </tr>\n",
       "    <tr>\n",
       "      <th>9841</th>\n",
       "      <td>2.22</td>\n",
       "      <td>0.344439</td>\n",
       "      <td>HBACK</td>\n",
       "      <td>2</td>\n",
       "      <td>F</td>\n",
       "      <td>B</td>\n",
       "      <td>3</td>\n",
       "      <td>1</td>\n",
       "      <td>18415.06550</td>\n",
       "      <td>0.797507</td>\n",
       "      <td>9.820924</td>\n",
       "    </tr>\n",
       "    <tr>\n",
       "      <th>5317</th>\n",
       "      <td>0.79</td>\n",
       "      <td>0.999333</td>\n",
       "      <td>MIBUS</td>\n",
       "      <td>4</td>\n",
       "      <td>F</td>\n",
       "      <td>A</td>\n",
       "      <td>5</td>\n",
       "      <td>1</td>\n",
       "      <td>18074.77099</td>\n",
       "      <td>-0.235722</td>\n",
       "      <td>9.802272</td>\n",
       "    </tr>\n",
       "    <tr>\n",
       "      <th>16726</th>\n",
       "      <td>2.41</td>\n",
       "      <td>0.575309</td>\n",
       "      <td>SEDAN</td>\n",
       "      <td>1</td>\n",
       "      <td>M</td>\n",
       "      <td>C</td>\n",
       "      <td>3</td>\n",
       "      <td>2</td>\n",
       "      <td>17353.76844</td>\n",
       "      <td>0.879627</td>\n",
       "      <td>9.761565</td>\n",
       "    </tr>\n",
       "    <tr>\n",
       "      <th>16521</th>\n",
       "      <td>0.94</td>\n",
       "      <td>0.613817</td>\n",
       "      <td>HBACK</td>\n",
       "      <td>3</td>\n",
       "      <td>F</td>\n",
       "      <td>C</td>\n",
       "      <td>4</td>\n",
       "      <td>1</td>\n",
       "      <td>17217.59862</td>\n",
       "      <td>-0.061875</td>\n",
       "      <td>9.753687</td>\n",
       "    </tr>\n",
       "    <tr>\n",
       "      <th>9615</th>\n",
       "      <td>2.25</td>\n",
       "      <td>0.381814</td>\n",
       "      <td>STNWG</td>\n",
       "      <td>4</td>\n",
       "      <td>M</td>\n",
       "      <td>B</td>\n",
       "      <td>6</td>\n",
       "      <td>1</td>\n",
       "      <td>17118.71773</td>\n",
       "      <td>0.810930</td>\n",
       "      <td>9.747928</td>\n",
       "    </tr>\n",
       "    <tr>\n",
       "      <th>5275</th>\n",
       "      <td>0.45</td>\n",
       "      <td>0.831639</td>\n",
       "      <td>HBACK</td>\n",
       "      <td>4</td>\n",
       "      <td>F</td>\n",
       "      <td>A</td>\n",
       "      <td>2</td>\n",
       "      <td>1</td>\n",
       "      <td>16505.14980</td>\n",
       "      <td>-0.798508</td>\n",
       "      <td>9.711428</td>\n",
       "    </tr>\n",
       "    <tr>\n",
       "      <th>22564</th>\n",
       "      <td>1.54</td>\n",
       "      <td>0.660096</td>\n",
       "      <td>UTE</td>\n",
       "      <td>4</td>\n",
       "      <td>F</td>\n",
       "      <td>F</td>\n",
       "      <td>2</td>\n",
       "      <td>1</td>\n",
       "      <td>16470.50171</td>\n",
       "      <td>0.431782</td>\n",
       "      <td>9.709326</td>\n",
       "    </tr>\n",
       "    <tr>\n",
       "      <th>16363</th>\n",
       "      <td>1.36</td>\n",
       "      <td>0.073877</td>\n",
       "      <td>SEDAN</td>\n",
       "      <td>3</td>\n",
       "      <td>M</td>\n",
       "      <td>C</td>\n",
       "      <td>1</td>\n",
       "      <td>1</td>\n",
       "      <td>15883.85208</td>\n",
       "      <td>0.307485</td>\n",
       "      <td>9.673058</td>\n",
       "    </tr>\n",
       "    <tr>\n",
       "      <th>16278</th>\n",
       "      <td>1.75</td>\n",
       "      <td>0.361030</td>\n",
       "      <td>HBACK</td>\n",
       "      <td>3</td>\n",
       "      <td>F</td>\n",
       "      <td>C</td>\n",
       "      <td>4</td>\n",
       "      <td>1</td>\n",
       "      <td>14827.59565</td>\n",
       "      <td>0.559616</td>\n",
       "      <td>9.604245</td>\n",
       "    </tr>\n",
       "    <tr>\n",
       "      <th>16405</th>\n",
       "      <td>2.39</td>\n",
       "      <td>0.811569</td>\n",
       "      <td>HDTOP</td>\n",
       "      <td>3</td>\n",
       "      <td>M</td>\n",
       "      <td>C</td>\n",
       "      <td>2</td>\n",
       "      <td>1</td>\n",
       "      <td>14604.54076</td>\n",
       "      <td>0.871293</td>\n",
       "      <td>9.589088</td>\n",
       "    </tr>\n",
       "    <tr>\n",
       "      <th>21340</th>\n",
       "      <td>1.64</td>\n",
       "      <td>0.669007</td>\n",
       "      <td>SEDAN</td>\n",
       "      <td>1</td>\n",
       "      <td>F</td>\n",
       "      <td>E</td>\n",
       "      <td>4</td>\n",
       "      <td>1</td>\n",
       "      <td>14601.59904</td>\n",
       "      <td>0.494696</td>\n",
       "      <td>9.588886</td>\n",
       "    </tr>\n",
       "    <tr>\n",
       "      <th>19333</th>\n",
       "      <td>1.16</td>\n",
       "      <td>0.008647</td>\n",
       "      <td>SEDAN</td>\n",
       "      <td>3</td>\n",
       "      <td>F</td>\n",
       "      <td>D</td>\n",
       "      <td>4</td>\n",
       "      <td>1</td>\n",
       "      <td>14515.27382</td>\n",
       "      <td>0.148420</td>\n",
       "      <td>9.582957</td>\n",
       "    </tr>\n",
       "    <tr>\n",
       "      <th>9707</th>\n",
       "      <td>1.36</td>\n",
       "      <td>0.325921</td>\n",
       "      <td>HBACK</td>\n",
       "      <td>4</td>\n",
       "      <td>F</td>\n",
       "      <td>B</td>\n",
       "      <td>1</td>\n",
       "      <td>1</td>\n",
       "      <td>14270.95330</td>\n",
       "      <td>0.307485</td>\n",
       "      <td>9.565982</td>\n",
       "    </tr>\n",
       "    <tr>\n",
       "      <th>21353</th>\n",
       "      <td>1.50</td>\n",
       "      <td>0.777525</td>\n",
       "      <td>HDTOP</td>\n",
       "      <td>3</td>\n",
       "      <td>M</td>\n",
       "      <td>E</td>\n",
       "      <td>4</td>\n",
       "      <td>1</td>\n",
       "      <td>14189.71051</td>\n",
       "      <td>0.405465</td>\n",
       "      <td>9.560272</td>\n",
       "    </tr>\n",
       "    <tr>\n",
       "      <th>5166</th>\n",
       "      <td>1.91</td>\n",
       "      <td>0.421517</td>\n",
       "      <td>HBACK</td>\n",
       "      <td>1</td>\n",
       "      <td>F</td>\n",
       "      <td>A</td>\n",
       "      <td>2</td>\n",
       "      <td>1</td>\n",
       "      <td>13975.83421</td>\n",
       "      <td>0.647103</td>\n",
       "      <td>9.545085</td>\n",
       "    </tr>\n",
       "    <tr>\n",
       "      <th>22555</th>\n",
       "      <td>1.87</td>\n",
       "      <td>0.146822</td>\n",
       "      <td>UTE</td>\n",
       "      <td>3</td>\n",
       "      <td>M</td>\n",
       "      <td>F</td>\n",
       "      <td>2</td>\n",
       "      <td>1</td>\n",
       "      <td>13770.15457</td>\n",
       "      <td>0.625938</td>\n",
       "      <td>9.530259</td>\n",
       "    </tr>\n",
       "    <tr>\n",
       "      <th>21306</th>\n",
       "      <td>1.97</td>\n",
       "      <td>0.610785</td>\n",
       "      <td>SEDAN</td>\n",
       "      <td>2</td>\n",
       "      <td>F</td>\n",
       "      <td>E</td>\n",
       "      <td>3</td>\n",
       "      <td>1</td>\n",
       "      <td>13450.71143</td>\n",
       "      <td>0.678034</td>\n",
       "      <td>9.506787</td>\n",
       "    </tr>\n",
       "    <tr>\n",
       "      <th>9821</th>\n",
       "      <td>1.31</td>\n",
       "      <td>0.305317</td>\n",
       "      <td>HDTOP</td>\n",
       "      <td>4</td>\n",
       "      <td>M</td>\n",
       "      <td>B</td>\n",
       "      <td>3</td>\n",
       "      <td>1</td>\n",
       "      <td>13081.24815</td>\n",
       "      <td>0.270027</td>\n",
       "      <td>9.478935</td>\n",
       "    </tr>\n",
       "    <tr>\n",
       "      <th>16406</th>\n",
       "      <td>0.76</td>\n",
       "      <td>0.291676</td>\n",
       "      <td>HBACK</td>\n",
       "      <td>4</td>\n",
       "      <td>M</td>\n",
       "      <td>C</td>\n",
       "      <td>2</td>\n",
       "      <td>1</td>\n",
       "      <td>12938.50196</td>\n",
       "      <td>-0.274437</td>\n",
       "      <td>9.467963</td>\n",
       "    </tr>\n",
       "    <tr>\n",
       "      <th>22565</th>\n",
       "      <td>2.67</td>\n",
       "      <td>0.662268</td>\n",
       "      <td>UTE</td>\n",
       "      <td>3</td>\n",
       "      <td>M</td>\n",
       "      <td>F</td>\n",
       "      <td>1</td>\n",
       "      <td>1</td>\n",
       "      <td>12695.40119</td>\n",
       "      <td>0.982078</td>\n",
       "      <td>9.448995</td>\n",
       "    </tr>\n",
       "    <tr>\n",
       "      <th>16709</th>\n",
       "      <td>1.78</td>\n",
       "      <td>0.560839</td>\n",
       "      <td>STNWG</td>\n",
       "      <td>4</td>\n",
       "      <td>M</td>\n",
       "      <td>C</td>\n",
       "      <td>3</td>\n",
       "      <td>2</td>\n",
       "      <td>12622.49333</td>\n",
       "      <td>0.576613</td>\n",
       "      <td>9.443236</td>\n",
       "    </tr>\n",
       "    <tr>\n",
       "      <th>16582</th>\n",
       "      <td>1.44</td>\n",
       "      <td>0.999316</td>\n",
       "      <td>SEDAN</td>\n",
       "      <td>2</td>\n",
       "      <td>F</td>\n",
       "      <td>C</td>\n",
       "      <td>5</td>\n",
       "      <td>1</td>\n",
       "      <td>12160.92123</td>\n",
       "      <td>0.364643</td>\n",
       "      <td>9.405983</td>\n",
       "    </tr>\n",
       "  </tbody>\n",
       "</table>\n",
       "</div>"
      ],
      "text/plain": [
       "       veh_value  exposure veh_body  veh_age gender area  dr_age  claim_count  \\\n",
       "5158        5.28  0.173134    STNWG        2      M    A       2            1   \n",
       "22538       4.90  0.092339    STNWG        1      F    F       2            1   \n",
       "22562       3.78  0.333892    HDTOP        2      M    F       1            1   \n",
       "5092        2.34  0.977423    SEDAN        2      M    A       4            1   \n",
       "16626       1.18  0.538212    SEDAN        3      F    C       2            1   \n",
       "5299        2.14  0.439395      UTE        3      M    A       2            1   \n",
       "19383       0.97  0.469352    TRUCK        4      M    D       6            1   \n",
       "19353       0.81  0.307876    SEDAN        4      F    D       3            1   \n",
       "16635       2.27  0.382731    TRUCK        4      M    C       2            1   \n",
       "22519       2.92  0.277963    STNWG        2      M    F       5            1   \n",
       "21395       2.78  0.516710    HDTOP        3      M    E       5            1   \n",
       "21381       1.23  0.237705    STNWG        4      M    E       2            1   \n",
       "9872        2.38  0.388588    COUPE        2      M    B       2            2   \n",
       "9748        1.18  0.038929    HBACK        2      M    B       3            1   \n",
       "16585       1.36  0.097090    HBACK        2      M    C       2            1   \n",
       "9567        2.07  0.554703    STNWG        3      M    B       4            1   \n",
       "19338       4.26  0.636227    STNWG        2      F    D       2            1   \n",
       "19370       2.49  0.314902      UTE        3      M    D       3            1   \n",
       "9841        2.22  0.344439    HBACK        2      F    B       3            1   \n",
       "5317        0.79  0.999333    MIBUS        4      F    A       5            1   \n",
       "16726       2.41  0.575309    SEDAN        1      M    C       3            2   \n",
       "16521       0.94  0.613817    HBACK        3      F    C       4            1   \n",
       "9615        2.25  0.381814    STNWG        4      M    B       6            1   \n",
       "5275        0.45  0.831639    HBACK        4      F    A       2            1   \n",
       "22564       1.54  0.660096      UTE        4      F    F       2            1   \n",
       "16363       1.36  0.073877    SEDAN        3      M    C       1            1   \n",
       "16278       1.75  0.361030    HBACK        3      F    C       4            1   \n",
       "16405       2.39  0.811569    HDTOP        3      M    C       2            1   \n",
       "21340       1.64  0.669007    SEDAN        1      F    E       4            1   \n",
       "19333       1.16  0.008647    SEDAN        3      F    D       4            1   \n",
       "9707        1.36  0.325921    HBACK        4      F    B       1            1   \n",
       "21353       1.50  0.777525    HDTOP        3      M    E       4            1   \n",
       "5166        1.91  0.421517    HBACK        1      F    A       2            1   \n",
       "22555       1.87  0.146822      UTE        3      M    F       2            1   \n",
       "21306       1.97  0.610785    SEDAN        2      F    E       3            1   \n",
       "9821        1.31  0.305317    HDTOP        4      M    B       3            1   \n",
       "16406       0.76  0.291676    HBACK        4      M    C       2            1   \n",
       "22565       2.67  0.662268      UTE        3      M    F       1            1   \n",
       "16709       1.78  0.560839    STNWG        4      M    C       3            2   \n",
       "16582       1.44  0.999316    SEDAN        2      F    C       5            1   \n",
       "\n",
       "        claim_cost  log_veh_value  log_claim_cost  \n",
       "5158   57895.58456       1.663926       10.966396  \n",
       "22538  37785.26165       1.589235       10.539674  \n",
       "22562  34460.83751       1.329724       10.447579  \n",
       "5092   29661.34782       0.850151       10.297600  \n",
       "16626  29614.53557       0.165514       10.296021  \n",
       "5299   24544.75533       0.760806       10.108253  \n",
       "19383  23942.69883      -0.030459       10.083419  \n",
       "19353  23488.52221      -0.210721       10.064267  \n",
       "16635  22587.59574       0.819780       10.025156  \n",
       "22519  22581.76273       1.071584       10.024898  \n",
       "21395  21102.13947       1.022451        9.957130  \n",
       "21381  21080.12566       0.207014        9.956086  \n",
       "9872   20559.07929       0.867100        9.931058  \n",
       "9748   20258.99091       0.165514        9.916354  \n",
       "16585  20105.23359       0.307485        9.908735  \n",
       "9567   19240.98103       0.727549        9.864798  \n",
       "19338  18980.37108       1.449269        9.851161  \n",
       "19370  18806.60870       0.912283        9.841964  \n",
       "9841   18415.06550       0.797507        9.820924  \n",
       "5317   18074.77099      -0.235722        9.802272  \n",
       "16726  17353.76844       0.879627        9.761565  \n",
       "16521  17217.59862      -0.061875        9.753687  \n",
       "9615   17118.71773       0.810930        9.747928  \n",
       "5275   16505.14980      -0.798508        9.711428  \n",
       "22564  16470.50171       0.431782        9.709326  \n",
       "16363  15883.85208       0.307485        9.673058  \n",
       "16278  14827.59565       0.559616        9.604245  \n",
       "16405  14604.54076       0.871293        9.589088  \n",
       "21340  14601.59904       0.494696        9.588886  \n",
       "19333  14515.27382       0.148420        9.582957  \n",
       "9707   14270.95330       0.307485        9.565982  \n",
       "21353  14189.71051       0.405465        9.560272  \n",
       "5166   13975.83421       0.647103        9.545085  \n",
       "22555  13770.15457       0.625938        9.530259  \n",
       "21306  13450.71143       0.678034        9.506787  \n",
       "9821   13081.24815       0.270027        9.478935  \n",
       "16406  12938.50196      -0.274437        9.467963  \n",
       "22565  12695.40119       0.982078        9.448995  \n",
       "16709  12622.49333       0.576613        9.443236  \n",
       "16582  12160.92123       0.364643        9.405983  "
      ]
     },
     "execution_count": 36,
     "metadata": {},
     "output_type": "execute_result"
    }
   ],
   "source": [
    "df_train_losses.sort_values('claim_cost', ascending=False).head(40)"
   ]
  },
  {
   "cell_type": "code",
   "execution_count": 59,
   "metadata": {},
   "outputs": [],
   "source": [
    "df_train['severe_loss'] = df_train['claim_cost'] > 8500"
   ]
  },
  {
   "cell_type": "code",
   "execution_count": 63,
   "metadata": {},
   "outputs": [
    {
     "data": {
      "text/plain": [
       "<AxesSubplot:title={'center':'veh_value'}, xlabel='severe_loss'>"
      ]
     },
     "execution_count": 63,
     "metadata": {},
     "output_type": "execute_result"
    },
    {
     "data": {
      "image/png": "[encoded data removed]",
      "text/plain": [
       "<Figure size 936x648 with 1 Axes>"
      ]
     },
     "metadata": {
      "needs_background": "light"
     },
     "output_type": "display_data"
    }
   ],
   "source": [
    "df_train.boxplot('veh_value', by='severe_loss', figsize=(13, 9))"
   ]
  },
  {
   "cell_type": "code",
   "execution_count": 66,
   "metadata": {},
   "outputs": [
    {
     "data": {
      "text/html": [
       "<div>\n",
       "<style scoped>\n",
       "    .dataframe tbody tr th:only-of-type {\n",
       "        vertical-align: middle;\n",
       "    }\n",
       "\n",
       "    .dataframe tbody tr th {\n",
       "        vertical-align: top;\n",
       "    }\n",
       "\n",
       "    .dataframe thead th {\n",
       "        text-align: right;\n",
       "    }\n",
       "</style>\n",
       "<table border=\"1\" class=\"dataframe\">\n",
       "  <thead>\n",
       "    <tr style=\"text-align: right;\">\n",
       "      <th>gender</th>\n",
       "      <th>F</th>\n",
       "      <th>M</th>\n",
       "    </tr>\n",
       "    <tr>\n",
       "      <th>severe_loss</th>\n",
       "      <th></th>\n",
       "      <th></th>\n",
       "    </tr>\n",
       "  </thead>\n",
       "  <tbody>\n",
       "    <tr>\n",
       "      <th>False</th>\n",
       "      <td>0.997276</td>\n",
       "      <td>0.996004</td>\n",
       "    </tr>\n",
       "    <tr>\n",
       "      <th>True</th>\n",
       "      <td>0.002724</td>\n",
       "      <td>0.003996</td>\n",
       "    </tr>\n",
       "  </tbody>\n",
       "</table>\n",
       "</div>"
      ],
      "text/plain": [
       "gender              F         M\n",
       "severe_loss                    \n",
       "False        0.997276  0.996004\n",
       "True         0.002724  0.003996"
      ]
     },
     "execution_count": 66,
     "metadata": {},
     "output_type": "execute_result"
    }
   ],
   "source": [
    "pd.crosstab(df_train['severe_loss'], df_train['gender'], normalize='columns')"
   ]
  },
  {
   "cell_type": "code",
   "execution_count": 67,
   "metadata": {},
   "outputs": [
    {
     "data": {
      "text/html": [
       "<div>\n",
       "<style scoped>\n",
       "    .dataframe tbody tr th:only-of-type {\n",
       "        vertical-align: middle;\n",
       "    }\n",
       "\n",
       "    .dataframe tbody tr th {\n",
       "        vertical-align: top;\n",
       "    }\n",
       "\n",
       "    .dataframe thead th {\n",
       "        text-align: right;\n",
       "    }\n",
       "</style>\n",
       "<table border=\"1\" class=\"dataframe\">\n",
       "  <thead>\n",
       "    <tr style=\"text-align: right;\">\n",
       "      <th>veh_body</th>\n",
       "      <th>BUS</th>\n",
       "      <th>CONVT</th>\n",
       "      <th>COUPE</th>\n",
       "      <th>HBACK</th>\n",
       "      <th>HDTOP</th>\n",
       "      <th>MCARA</th>\n",
       "      <th>MIBUS</th>\n",
       "      <th>PANVN</th>\n",
       "      <th>RDSTR</th>\n",
       "      <th>SEDAN</th>\n",
       "      <th>STNWG</th>\n",
       "      <th>TRUCK</th>\n",
       "      <th>UTE</th>\n",
       "    </tr>\n",
       "    <tr>\n",
       "      <th>severe_loss</th>\n",
       "      <th></th>\n",
       "      <th></th>\n",
       "      <th></th>\n",
       "      <th></th>\n",
       "      <th></th>\n",
       "      <th></th>\n",
       "      <th></th>\n",
       "      <th></th>\n",
       "      <th></th>\n",
       "      <th></th>\n",
       "      <th></th>\n",
       "      <th></th>\n",
       "      <th></th>\n",
       "    </tr>\n",
       "  </thead>\n",
       "  <tbody>\n",
       "    <tr>\n",
       "      <th>False</th>\n",
       "      <td>1.0</td>\n",
       "      <td>1.0</td>\n",
       "      <td>0.995902</td>\n",
       "      <td>0.997637</td>\n",
       "      <td>0.990458</td>\n",
       "      <td>1.0</td>\n",
       "      <td>0.996032</td>\n",
       "      <td>0.995918</td>\n",
       "      <td>1.0</td>\n",
       "      <td>0.996896</td>\n",
       "      <td>0.997195</td>\n",
       "      <td>0.995106</td>\n",
       "      <td>0.99346</td>\n",
       "    </tr>\n",
       "    <tr>\n",
       "      <th>True</th>\n",
       "      <td>0.0</td>\n",
       "      <td>0.0</td>\n",
       "      <td>0.004098</td>\n",
       "      <td>0.002363</td>\n",
       "      <td>0.009542</td>\n",
       "      <td>0.0</td>\n",
       "      <td>0.003968</td>\n",
       "      <td>0.004082</td>\n",
       "      <td>0.0</td>\n",
       "      <td>0.003104</td>\n",
       "      <td>0.002805</td>\n",
       "      <td>0.004894</td>\n",
       "      <td>0.00654</td>\n",
       "    </tr>\n",
       "  </tbody>\n",
       "</table>\n",
       "</div>"
      ],
      "text/plain": [
       "veh_body     BUS  CONVT     COUPE     HBACK     HDTOP  MCARA     MIBUS  \\\n",
       "severe_loss                                                              \n",
       "False        1.0    1.0  0.995902  0.997637  0.990458    1.0  0.996032   \n",
       "True         0.0    0.0  0.004098  0.002363  0.009542    0.0  0.003968   \n",
       "\n",
       "veh_body        PANVN  RDSTR     SEDAN     STNWG     TRUCK      UTE  \n",
       "severe_loss                                                          \n",
       "False        0.995918    1.0  0.996896  0.997195  0.995106  0.99346  \n",
       "True         0.004082    0.0  0.003104  0.002805  0.004894  0.00654  "
      ]
     },
     "execution_count": 67,
     "metadata": {},
     "output_type": "execute_result"
    }
   ],
   "source": [
    "pd.crosstab(df_train['severe_loss'], df_train['veh_body'], normalize='columns')"
   ]
  },
  {
   "cell_type": "code",
   "execution_count": 68,
   "metadata": {},
   "outputs": [
    {
     "data": {
      "text/html": [
       "<div>\n",
       "<style scoped>\n",
       "    .dataframe tbody tr th:only-of-type {\n",
       "        vertical-align: middle;\n",
       "    }\n",
       "\n",
       "    .dataframe tbody tr th {\n",
       "        vertical-align: top;\n",
       "    }\n",
       "\n",
       "    .dataframe thead th {\n",
       "        text-align: right;\n",
       "    }\n",
       "</style>\n",
       "<table border=\"1\" class=\"dataframe\">\n",
       "  <thead>\n",
       "    <tr style=\"text-align: right;\">\n",
       "      <th>veh_body</th>\n",
       "      <th>BUS</th>\n",
       "      <th>CONVT</th>\n",
       "      <th>COUPE</th>\n",
       "      <th>HBACK</th>\n",
       "      <th>HDTOP</th>\n",
       "      <th>MCARA</th>\n",
       "      <th>MIBUS</th>\n",
       "      <th>PANVN</th>\n",
       "      <th>RDSTR</th>\n",
       "      <th>SEDAN</th>\n",
       "      <th>STNWG</th>\n",
       "      <th>TRUCK</th>\n",
       "      <th>UTE</th>\n",
       "    </tr>\n",
       "    <tr>\n",
       "      <th>severe_loss</th>\n",
       "      <th></th>\n",
       "      <th></th>\n",
       "      <th></th>\n",
       "      <th></th>\n",
       "      <th></th>\n",
       "      <th></th>\n",
       "      <th></th>\n",
       "      <th></th>\n",
       "      <th></th>\n",
       "      <th></th>\n",
       "      <th></th>\n",
       "      <th></th>\n",
       "      <th></th>\n",
       "    </tr>\n",
       "  </thead>\n",
       "  <tbody>\n",
       "    <tr>\n",
       "      <th>False</th>\n",
       "      <td>0.000843</td>\n",
       "      <td>0.001376</td>\n",
       "      <td>0.010783</td>\n",
       "      <td>0.280973</td>\n",
       "      <td>0.023030</td>\n",
       "      <td>0.001731</td>\n",
       "      <td>0.011138</td>\n",
       "      <td>0.010827</td>\n",
       "      <td>0.000399</td>\n",
       "      <td>0.327787</td>\n",
       "      <td>0.236644</td>\n",
       "      <td>0.027068</td>\n",
       "      <td>0.067403</td>\n",
       "    </tr>\n",
       "    <tr>\n",
       "      <th>True</th>\n",
       "      <td>0.000000</td>\n",
       "      <td>0.000000</td>\n",
       "      <td>0.013514</td>\n",
       "      <td>0.202703</td>\n",
       "      <td>0.067568</td>\n",
       "      <td>0.000000</td>\n",
       "      <td>0.013514</td>\n",
       "      <td>0.013514</td>\n",
       "      <td>0.000000</td>\n",
       "      <td>0.310811</td>\n",
       "      <td>0.202703</td>\n",
       "      <td>0.040541</td>\n",
       "      <td>0.135135</td>\n",
       "    </tr>\n",
       "  </tbody>\n",
       "</table>\n",
       "</div>"
      ],
      "text/plain": [
       "veh_body          BUS     CONVT     COUPE     HBACK     HDTOP     MCARA  \\\n",
       "severe_loss                                                               \n",
       "False        0.000843  0.001376  0.010783  0.280973  0.023030  0.001731   \n",
       "True         0.000000  0.000000  0.013514  0.202703  0.067568  0.000000   \n",
       "\n",
       "veh_body        MIBUS     PANVN     RDSTR     SEDAN     STNWG     TRUCK  \\\n",
       "severe_loss                                                               \n",
       "False        0.011138  0.010827  0.000399  0.327787  0.236644  0.027068   \n",
       "True         0.013514  0.013514  0.000000  0.310811  0.202703  0.040541   \n",
       "\n",
       "veh_body          UTE  \n",
       "severe_loss            \n",
       "False        0.067403  \n",
       "True         0.135135  "
      ]
     },
     "execution_count": 68,
     "metadata": {},
     "output_type": "execute_result"
    }
   ],
   "source": [
    "pd.crosstab(df_train['severe_loss'], df_train['veh_body'], normalize='index')"
   ]
  },
  {
   "cell_type": "code",
   "execution_count": 74,
   "metadata": {},
   "outputs": [
    {
     "data": {
      "text/html": [
       "<div>\n",
       "<style scoped>\n",
       "    .dataframe tbody tr th:only-of-type {\n",
       "        vertical-align: middle;\n",
       "    }\n",
       "\n",
       "    .dataframe tbody tr th {\n",
       "        vertical-align: top;\n",
       "    }\n",
       "\n",
       "    .dataframe thead th {\n",
       "        text-align: right;\n",
       "    }\n",
       "</style>\n",
       "<table border=\"1\" class=\"dataframe\">\n",
       "  <thead>\n",
       "    <tr style=\"text-align: right;\">\n",
       "      <th>area</th>\n",
       "      <th>A</th>\n",
       "      <th>B</th>\n",
       "      <th>C</th>\n",
       "      <th>D</th>\n",
       "      <th>E</th>\n",
       "      <th>F</th>\n",
       "    </tr>\n",
       "    <tr>\n",
       "      <th>severe_loss</th>\n",
       "      <th></th>\n",
       "      <th></th>\n",
       "      <th></th>\n",
       "      <th></th>\n",
       "      <th></th>\n",
       "      <th></th>\n",
       "    </tr>\n",
       "  </thead>\n",
       "  <tbody>\n",
       "    <tr>\n",
       "      <th>False</th>\n",
       "      <td>0.997057</td>\n",
       "      <td>0.997075</td>\n",
       "      <td>0.996933</td>\n",
       "      <td>0.996328</td>\n",
       "      <td>0.995937</td>\n",
       "      <td>0.994962</td>\n",
       "    </tr>\n",
       "    <tr>\n",
       "      <th>True</th>\n",
       "      <td>0.002943</td>\n",
       "      <td>0.002925</td>\n",
       "      <td>0.003067</td>\n",
       "      <td>0.003672</td>\n",
       "      <td>0.004063</td>\n",
       "      <td>0.005038</td>\n",
       "    </tr>\n",
       "  </tbody>\n",
       "</table>\n",
       "</div>"
      ],
      "text/plain": [
       "area                A         B         C         D         E         F\n",
       "severe_loss                                                            \n",
       "False        0.997057  0.997075  0.996933  0.996328  0.995937  0.994962\n",
       "True         0.002943  0.002925  0.003067  0.003672  0.004063  0.005038"
      ]
     },
     "execution_count": 74,
     "metadata": {},
     "output_type": "execute_result"
    }
   ],
   "source": [
    "pd.crosstab(df_train['severe_loss'], df_train['area'], normalize='columns')\n",
    "# E and F tend to be over represented in severe losses"
   ]
  },
  {
   "cell_type": "code",
   "execution_count": 72,
   "metadata": {},
   "outputs": [
    {
     "data": {
      "text/html": [
       "<div>\n",
       "<style scoped>\n",
       "    .dataframe tbody tr th:only-of-type {\n",
       "        vertical-align: middle;\n",
       "    }\n",
       "\n",
       "    .dataframe tbody tr th {\n",
       "        vertical-align: top;\n",
       "    }\n",
       "\n",
       "    .dataframe thead th {\n",
       "        text-align: right;\n",
       "    }\n",
       "</style>\n",
       "<table border=\"1\" class=\"dataframe\">\n",
       "  <thead>\n",
       "    <tr style=\"text-align: right;\">\n",
       "      <th>area</th>\n",
       "      <th>A</th>\n",
       "      <th>B</th>\n",
       "      <th>C</th>\n",
       "      <th>D</th>\n",
       "      <th>E</th>\n",
       "      <th>F</th>\n",
       "    </tr>\n",
       "    <tr>\n",
       "      <th>claim_count</th>\n",
       "      <th></th>\n",
       "      <th></th>\n",
       "      <th></th>\n",
       "      <th></th>\n",
       "      <th></th>\n",
       "      <th></th>\n",
       "    </tr>\n",
       "  </thead>\n",
       "  <tbody>\n",
       "    <tr>\n",
       "      <th>0</th>\n",
       "      <td>0.933591</td>\n",
       "      <td>0.928009</td>\n",
       "      <td>0.931347</td>\n",
       "      <td>0.939772</td>\n",
       "      <td>0.935500</td>\n",
       "      <td>0.922754</td>\n",
       "    </tr>\n",
       "    <tr>\n",
       "      <th>1</th>\n",
       "      <td>0.061074</td>\n",
       "      <td>0.068616</td>\n",
       "      <td>0.064855</td>\n",
       "      <td>0.057290</td>\n",
       "      <td>0.061453</td>\n",
       "      <td>0.071369</td>\n",
       "    </tr>\n",
       "    <tr>\n",
       "      <th>2</th>\n",
       "      <td>0.004967</td>\n",
       "      <td>0.003150</td>\n",
       "      <td>0.003798</td>\n",
       "      <td>0.002938</td>\n",
       "      <td>0.003047</td>\n",
       "      <td>0.005877</td>\n",
       "    </tr>\n",
       "    <tr>\n",
       "      <th>3</th>\n",
       "      <td>0.000368</td>\n",
       "      <td>0.000225</td>\n",
       "      <td>0.000000</td>\n",
       "      <td>0.000000</td>\n",
       "      <td>0.000000</td>\n",
       "      <td>0.000000</td>\n",
       "    </tr>\n",
       "  </tbody>\n",
       "</table>\n",
       "</div>"
      ],
      "text/plain": [
       "area                A         B         C         D         E         F\n",
       "claim_count                                                            \n",
       "0            0.933591  0.928009  0.931347  0.939772  0.935500  0.922754\n",
       "1            0.061074  0.068616  0.064855  0.057290  0.061453  0.071369\n",
       "2            0.004967  0.003150  0.003798  0.002938  0.003047  0.005877\n",
       "3            0.000368  0.000225  0.000000  0.000000  0.000000  0.000000"
      ]
     },
     "execution_count": 72,
     "metadata": {},
     "output_type": "execute_result"
    }
   ],
   "source": [
    "pd.crosstab(df_train['claim_count'], df_train['area'], normalize='columns')\n"
   ]
  },
  {
   "cell_type": "code",
   "execution_count": 29,
   "metadata": {},
   "outputs": [
    {
     "data": {
      "text/plain": [
       "Index(['id', 'veh_value', 'exposure', 'veh_body', 'veh_age', 'gender', 'area',\n",
       "       'dr_age', 'claim_ind', 'claim_count', 'claim_cost', 'log_veh_value'],\n",
       "      dtype='object')"
      ]
     },
     "execution_count": 29,
     "metadata": {},
     "output_type": "execute_result"
    }
   ],
   "source": [
    "df_train.columns"
   ]
  },
  {
   "cell_type": "code",
   "execution_count": 10,
   "metadata": {
    "id": "WMuI40SyGogL",
    "outputId": "e56d7ea0-eb61-4d83-c271-057d3f901390"
   },
   "outputs": [
    {
     "data": {
      "text/plain": [
       "<AxesSubplot:title={'center':'claim_cost'}, xlabel='dr_age'>"
      ]
     },
     "execution_count": 10,
     "metadata": {},
     "output_type": "execute_result"
    },
    {
     "data": {
      "image/png": "[encoded data removed]",
      "text/plain": [
       "<Figure size 432x288 with 1 Axes>"
      ]
     },
     "metadata": {
      "needs_background": "light"
     },
     "output_type": "display_data"
    },
    {
     "data": {
      "image/png": "[encoded data removed]",
      "text/plain": [
       "<Figure size 432x288 with 1 Axes>"
      ]
     },
     "metadata": {
      "needs_background": "light"
     },
     "output_type": "display_data"
    },
    {
     "data": {
      "image/png": "[encoded data removed]",
      "text/plain": [
       "<Figure size 432x288 with 1 Axes>"
      ]
     },
     "metadata": {
      "needs_background": "light"
     },
     "output_type": "display_data"
    },
    {
     "data": {
      "image/png": "[encoded data removed]",
      "text/plain": [
       "<Figure size 432x288 with 1 Axes>"
      ]
     },
     "metadata": {
      "needs_background": "light"
     },
     "output_type": "display_data"
    },
    {
     "data": {
      "image/png": "[encoded data removed]",
      "text/plain": [
       "<Figure size 432x288 with 1 Axes>"
      ]
     },
     "metadata": {
      "needs_background": "light"
     },
     "output_type": "display_data"
    }
   ],
   "source": [
    "# Analyzing univariate relationships\n",
    "df_train_losses.plot.scatter('veh_value', 'claim_cost')\n",
    "df_train_losses.plot.scatter('log_veh_value', 'claim_cost')\n",
    "df_train_losses.plot.scatter('exposure', 'claim_cost')\n",
    "df_train_losses.boxplot('claim_cost', by='veh_age')\n",
    "df_train_losses.boxplot('claim_cost', by='dr_age')"
   ]
  },
  {
   "cell_type": "code",
   "execution_count": 11,
   "metadata": {},
   "outputs": [
    {
     "data": {
      "text/plain": [
       "<AxesSubplot:xlabel='exposure', ylabel='avg_cost'>"
      ]
     },
     "execution_count": 11,
     "metadata": {},
     "output_type": "execute_result"
    },
    {
     "data": {
      "image/png": "[encoded data removed]",
      "text/plain": [
       "<Figure size 432x288 with 1 Axes>"
      ]
     },
     "metadata": {
      "needs_background": "light"
     },
     "output_type": "display_data"
    },
    {
     "data": {
      "image/png": "[encoded data removed]",
      "text/plain": [
       "<Figure size 432x288 with 1 Axes>"
      ]
     },
     "metadata": {
      "needs_background": "light"
     },
     "output_type": "display_data"
    },
    {
     "data": {
      "image/png": "[encoded data removed]",
      "text/plain": [
       "<Figure size 432x288 with 1 Axes>"
      ]
     },
     "metadata": {
      "needs_background": "light"
     },
     "output_type": "display_data"
    }
   ],
   "source": [
    "# Analyzing exposure by different loss variables\n",
    "df_train.boxplot('exposure', 'claim_ind')\n",
    "df_train.boxplot('exposure', 'claim_count')\n",
    "df_train_losses['avg_cost'] = df_train_losses['claim_cost'] / df_train_losses['claim_count']\n",
    "df_train_losses.plot.scatter('exposure', 'avg_cost')\n",
    "# Looks like there is a positive relationship between exposure and claim variables\n",
    "# Let's confirm the severity portion with a gamma regression"
   ]
  },
  {
   "cell_type": "code",
   "execution_count": 12,
   "metadata": {},
   "outputs": [
    {
     "name": "stdout",
     "output_type": "stream",
     "text": [
      "                 Generalized Linear Model Regression Results                  \n",
      "==============================================================================\n",
      "Dep. Variable:               avg_cost   No. Observations:                 1534\n",
      "Model:                            GLM   Df Residuals:                     1532\n",
      "Model Family:                   Gamma   Df Model:                            1\n",
      "Link Function:                    log   Scale:                          3.0152\n",
      "Method:                          IRLS   Log-Likelihood:                -13376.\n",
      "Date:                Sun, 22 Nov 2020   Deviance:                       2380.1\n",
      "Time:                        10:42:37   Pearson chi2:                 4.62e+03\n",
      "No. Iterations:                    12                                         \n",
      "Covariance Type:            nonrobust                                         \n",
      "==============================================================================\n",
      "                 coef    std err          z      P>|z|      [0.025      0.975]\n",
      "------------------------------------------------------------------------------\n",
      "exposure      -0.9738      0.169     -5.770      0.000      -1.305      -0.643\n",
      "const          8.1545      0.114     71.697      0.000       7.932       8.377\n",
      "==============================================================================\n"
     ]
    }
   ],
   "source": [
    "# Training a statsmodel\n",
    "X = sm.add_constant(df_train_losses[['exposure']].copy(), prepend=False)\n",
    "model = sm.GLM(df_train_losses['avg_cost'], X, family=sm.families.Gamma(link=sm.families.links.log()))\n",
    "results = model.fit(maxiter=200)\n",
    "print(results.summary())\n",
    "# Looks like exposure has a large negative effect on losses\n",
    "# How does this work with frequency?"
   ]
  },
  {
   "cell_type": "code",
   "execution_count": 13,
   "metadata": {},
   "outputs": [
    {
     "name": "stdout",
     "output_type": "stream",
     "text": [
      "                 Generalized Linear Model Regression Results                  \n",
      "==============================================================================\n",
      "Dep. Variable:            claim_count   No. Observations:                 1534\n",
      "Model:                            GLM   Df Residuals:                     1532\n",
      "Model Family:                 Poisson   Df Model:                            1\n",
      "Link Function:                    log   Scale:                          1.0000\n",
      "Method:                          IRLS   Log-Likelihood:                -1597.2\n",
      "Date:                Sun, 22 Nov 2020   Deviance:                       69.373\n",
      "Time:                        10:42:39   Pearson chi2:                     87.4\n",
      "No. Iterations:                     4                                         \n",
      "Covariance Type:            nonrobust                                         \n",
      "==============================================================================\n",
      "                 coef    std err          z      P>|z|      [0.025      0.975]\n",
      "------------------------------------------------------------------------------\n",
      "exposure       0.0816      0.095      0.861      0.389      -0.104       0.267\n",
      "const          0.0086      0.064      0.134      0.894      -0.117       0.135\n",
      "==============================================================================\n"
     ]
    }
   ],
   "source": [
    "# Frequency\n",
    "X = sm.add_constant(df_train_losses[['exposure']].copy(), prepend=False)\n",
    "model = sm.GLM(df_train_losses['claim_count'], X, family=sm.families.Poisson())\n",
    "results = model.fit(maxiter=200)\n",
    "print(results.summary())\n",
    "# Not strongly linked with claim count"
   ]
  },
  {
   "cell_type": "code",
   "execution_count": 14,
   "metadata": {},
   "outputs": [
    {
     "name": "stdout",
     "output_type": "stream",
     "text": [
      "                 Generalized Linear Model Regression Results                  \n",
      "==============================================================================\n",
      "Dep. Variable:              claim_ind   No. Observations:                22610\n",
      "Model:                            GLM   Df Residuals:                    22608\n",
      "Model Family:                Binomial   Df Model:                            1\n",
      "Link Function:                  logit   Scale:                          1.0000\n",
      "Method:                          IRLS   Log-Likelihood:                -5401.0\n",
      "Date:                Sun, 22 Nov 2020   Deviance:                       10802.\n",
      "Time:                        10:42:43   Pearson chi2:                 2.23e+04\n",
      "No. Iterations:                     6                                         \n",
      "Covariance Type:            nonrobust                                         \n",
      "==============================================================================\n",
      "                 coef    std err          z      P>|z|      [0.025      0.975]\n",
      "------------------------------------------------------------------------------\n",
      "exposure       1.9173      0.097     19.799      0.000       1.728       2.107\n",
      "const         -3.6647      0.065    -56.549      0.000      -3.792      -3.538\n",
      "==============================================================================\n"
     ]
    }
   ],
   "source": [
    "# Claim ind\n",
    "X = sm.add_constant(df_train[['exposure']].copy(), prepend=False)\n",
    "model = sm.GLM(df_train['claim_ind'], X, family=sm.families.Binomial())\n",
    "results = model.fit(maxiter=200)\n",
    "print(results.summary())\n",
    "# Positive relationship between exposure and making a claim"
   ]
  },
  {
   "cell_type": "code",
   "execution_count": 15,
   "metadata": {},
   "outputs": [
    {
     "name": "stdout",
     "output_type": "stream",
     "text": [
      "                 Generalized Linear Model Regression Results                  \n",
      "==============================================================================\n",
      "Dep. Variable:              claim_ind   No. Observations:                22610\n",
      "Model:                            GLM   Df Residuals:                    22608\n",
      "Model Family:                 Tweedie   Df Model:                            1\n",
      "Link Function:                    log   Scale:                          3.9498\n",
      "Method:                          IRLS   Log-Likelihood:                    nan\n",
      "Date:                Sun, 22 Nov 2020   Deviance:                       33296.\n",
      "Time:                        10:42:51   Pearson chi2:                 8.93e+04\n",
      "No. Iterations:                    13                                         \n",
      "Covariance Type:            nonrobust                                         \n",
      "==============================================================================\n",
      "                 coef    std err          z      P>|z|      [0.025      0.975]\n",
      "------------------------------------------------------------------------------\n",
      "exposure       1.8601      0.092     20.146      0.000       1.679       2.041\n",
      "const         -3.7168      0.058    -64.616      0.000      -3.830      -3.604\n",
      "==============================================================================\n"
     ]
    }
   ],
   "source": [
    "# Avg cost with tweedie\n",
    "model = sm.GLM(df_train['claim_ind'], X, family=sm.families.Tweedie(var_power=1.5))\n",
    "results = model.fit(maxiter=200)\n",
    "print(results.summary())\n",
    "# Look's like exposure is quite a strong effect"
   ]
  },
  {
   "cell_type": "code",
   "execution_count": 19,
   "metadata": {},
   "outputs": [
    {
     "name": "stdout",
     "output_type": "stream",
     "text": [
      "5.419509977881314\n",
      "5.707527094871664\n",
      "24.902909180575932\n"
     ]
    }
   ],
   "source": [
    "# How do claim cost and claim cost / exposure compare in skew\n",
    "print(df_train_losses['claim_cost'].skew())\n",
    "print(df_train_losses['avg_cost'].skew())\n",
    "# Avg cost is not that much more skewed\n",
    "print((df_train_losses['claim_cost'] / df_train_losses['exposure']).skew())\n",
    "# Pure premium is significantly more skewed..."
   ]
  }
 ],
 "metadata": {
  "colab": {
   "name": "Initial EDA.ipynb",
   "provenance": []
  },
  "kernelspec": {
   "display_name": "Python 3",
   "language": "python",
   "name": "python3"
  },
  "language_info": {
   "codemirror_mode": {
    "name": "ipython",
    "version": 3
   },
   "file_extension": ".py",
   "mimetype": "text/x-python",
   "name": "python",
   "nbconvert_exporter": "python",
   "pygments_lexer": "ipython3",
   "version": "3.8.5"
  }
 },
 "nbformat": 4,
 "nbformat_minor": 1
}
