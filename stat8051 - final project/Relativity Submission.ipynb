{
 "cells": [
  {
   "cell_type": "code",
   "execution_count": 3,
   "metadata": {},
   "outputs": [],
   "source": [
    "# Importing packages\n",
    "import numpy as np\n",
    "import pandas as pd\n",
    "import matplotlib.pyplot as plt\n",
    "from sklearn.base import BaseEstimator, TransformerMixin, RegressorMixin\n",
    "from sklearn.model_selection import StratifiedKFold, cross_val_predict, KFold\n",
    "from sklearn.pipeline import make_pipeline\n",
    "from sklearn.compose import ColumnTransformer, make_column_selector\n",
    "from sklearn.preprocessing import StandardScaler, minmax_scale\n",
    "from sklearn.linear_model import LogisticRegression, PoissonRegressor, GammaRegressor "
   ]
  },
  {
   "cell_type": "markdown",
   "metadata": {},
   "source": [
    "# Data Preprocessing and Feature Extraction\n",
    "\n",
    "Below we are importing our training and test data, shuffling to create randomness, creating our response variables, and creating features that may be interesting, as well as setting up our cross-validation loops."
   ]
  },
  {
   "cell_type": "code",
   "execution_count": 5,
   "metadata": {},
   "outputs": [],
   "source": [
    "# Importing data\n",
    "df = pd.read_csv('InsNova_train.csv')\n",
    "df = df.sample(frac=1.0)\n",
    "df.loc[:, 'pure_premium'] = df['claim_cost'] / df['exposure']\n",
    "df.loc[:, 'severity'] = df['claim_cost'] / np.fmax(df['claim_count'], 1)\n",
    "df.loc[:, 'frequency'] = df['claim_count'] / df['exposure']\n",
    "\n",
    "# Getting CV inds\n",
    "n_folds = 10\n",
    "cv = StratifiedKFold(n_folds, shuffle=True, random_state=123)\n",
    "df.loc[:, 'fold'] = 0\n",
    "for fold, (_, test_inds) in enumerate(cv.split(df, df['claim_ind'])):\n",
    "    df.loc[test_inds, 'fold'] = fold\n",
    "    \n",
    "# Feature engineering\n",
    "# Is the vehicle expensive?\n",
    "df['expensive_veh'] = np.where(df['veh_value'] > 6.0, 1, 0)\n",
    "# Is the vehicle cheap?\n",
    "df['cheap_veh'] = np.where(df['veh_value'] < 0.7, 1, 0)\n",
    "# Is the driver older\n",
    "df['old_dr'] = np.where(df['dr_age'] > 4.0, 1, 0)\n",
    "# Is the area a frequent loss area?\n",
    "df['frequent_area'] = np.where(df['area'].isin(['B','F']), 1, 0)\n",
    "# Is the driver young and driving an old car?\n",
    "df['young_dr_old_car'] = np.where((df['dr_age'] == 1) & (df['veh_age'] > 1.0), 1, 0)\n",
    "# Is the driver young, male, and driving an old car?\n",
    "df['young_m_old_car'] = np.where((df['dr_age'] == 1) & (df['veh_age'] > 1.0) & (df['gender'] == 'M'), 1, 0)\n",
    "# Is the driver a young male?\n",
    "df['young_m'] = np.where((df['gender'] == 'M') & (df['dr_age'] < 3.0), 1, 0)\n",
    "\n",
    "# Changing gender to be binary\n",
    "df['gender'] = np.where(df['gender'] == 'M', 1, 0)\n",
    "\n",
    "# Covnerting variables to categorical\n",
    "df[['veh_body' ,'area']] = df[['veh_body', 'area']].astype('category')\n",
    "\n",
    "# Converting variables to float\n",
    "df['dr_age'] = df['dr_age'].astype(np.float64)\n",
    "df['veh_age'] = df['veh_age'].astype(np.float64) \n",
    "\n",
    "# Testing using id\n",
    "df['id_min'] = df.groupby('area')['id'].transform('min')\n",
    "df['id_max'] = df.groupby('area')['id'].transform('max')\n",
    "\n",
    "# Scaling ID\n",
    "df['id_scaled'] = (df['id']  - df['id_min']) / (df['id_max'] - df['id_min'])\n",
    "\n",
    "# Creating a mask for losses\n",
    "sev_mask = df['claim_cost'] > 0.0\n",
    "\n",
    "################## Test Data ########################\n",
    "# Importing test set\n",
    "df_test = pd.read_csv('InsNova_test.csv')\n",
    "# Feature engineering\n",
    "# Is the vehicle expensive?\n",
    "df_test['expensive_veh'] = np.where(df_test['veh_value'] > 6.0, 1, 0)\n",
    "# Is the vehicle cheap?\n",
    "df_test['cheap_veh'] = np.where(df_test['veh_value'] < 0.7, 1, 0)\n",
    "# Is the driver older\n",
    "df_test['old_dr'] = np.where(df_test['dr_age'] > 4.0, 1, 0)\n",
    "# Is the area a frequent loss area?\n",
    "df_test['frequent_area'] = np.where(df_test['area'].isin(['B','F']), 1, 0)\n",
    "# Is the driver young and driving an old car?\n",
    "df_test['young_dr_old_car'] = np.where((df_test['dr_age'] == 1) & (df_test['veh_age'] > 1.0), 1, 0)\n",
    "# Is the driver young, male, and driving an old car?\n",
    "df_test['young_m_old_car'] = np.where((df_test['dr_age'] == 1) & (df_test['veh_age'] > 1.0) & (df_test['gender'] == 'M'), 1, 0)\n",
    "# Is the driver a young male?\n",
    "df_test['young_m'] = np.where((df_test['gender'] == 'M') & (df_test['dr_age'] < 3.0), 1, 0)\n",
    "\n",
    "# Changing gender to be binary\n",
    "df_test['gender'] = np.where(df_test['gender'] == 'M', 1, 0)\n",
    "\n",
    "# Covnerting variables to categorical\n",
    "df_test[['veh_body' ,'area']] = df_test[['veh_body', 'area']].astype('category')\n",
    "\n",
    "# Testing using id\n",
    "df_test = pd.merge(df_test,\n",
    "                   df.groupby('area')[['id_min', 'id_max']].first().reset_index(),\n",
    "                   on='area',\n",
    "                   how='left')\n",
    "df_test['id_scaled'] = (df_test['id']  - df_test['id_min']) / (df_test['id_max'] - df_test['id_min'])\n",
    "df_test['id_scaled'] = df_test['id_scaled'].clip(0, 1)\n",
    "\n",
    "# Converting variables to float\n",
    "df_test['dr_age'] = df_test['dr_age'].astype(np.float64)\n",
    "df_test['veh_age'] = df_test['veh_age'].astype(np.float64) "
   ]
  },
  {
   "cell_type": "code",
   "execution_count": 7,
   "metadata": {},
   "outputs": [],
   "source": [
    "# Defining our gini function\n",
    "def gini(y_true, y_pred):\n",
    "    # check and get number of samples\n",
    "    assert y_true.shape == y_pred.shape\n",
    "    n_samples = y_true.shape[0]\n",
    "    \n",
    "    # sort rows on prediction column \n",
    "    # (from largest to smallest)\n",
    "    arr = np.array([y_true, y_pred]).transpose()\n",
    "    true_order = arr[arr[:,0].argsort()][::-1,0]\n",
    "    pred_order = arr[arr[:,1].argsort()][::-1,0]\n",
    "    \n",
    "    # get Lorenz curves\n",
    "    L_true = np.cumsum(true_order) / np.sum(true_order)\n",
    "    L_pred = np.cumsum(pred_order) / np.sum(pred_order)\n",
    "    L_ones = np.linspace(1/n_samples, 1, n_samples)\n",
    "    \n",
    "    # get Gini coefficients (area between curves)\n",
    "    G_true = np.sum(L_ones - L_true)\n",
    "    G_pred = np.sum(L_ones - L_pred)\n",
    "    \n",
    "    # normalize to true Gini coefficient\n",
    "    return G_pred / G_true"
   ]
  },
  {
   "cell_type": "markdown",
   "metadata": {},
   "source": [
    "# Target Encoding\n",
    "\n",
    "We found that there was better performance when using target encoding of categorical variables (area and veh_body) rather than one hot encoding, so we need to define the target encoding transformer:"
   ]
  },
  {
   "cell_type": "code",
   "execution_count": 8,
   "metadata": {},
   "outputs": [],
   "source": [
    "# Defining a target encoder\n",
    "class TargetEncoder(BaseEstimator, TransformerMixin):\n",
    "    \n",
    "    def __init__(self, use_median=True, nonzero=True, min_samples=10):\n",
    "        self.nonzero = nonzero\n",
    "        self.use_median = use_median\n",
    "        self.min_samples = min_samples\n",
    "        self.categories_ = None\n",
    "        self.medians_ = None\n",
    "        self.all_mu = None\n",
    "        \n",
    "    def fit(self, X, y=None):\n",
    "        _X, _y = np.array(X), np.array(y)\n",
    "        self.categories_ = {i: np.unique(_X[:, i]) for i in range(_X.shape[1])}\n",
    "        self.mu_ = {k:{i:[] for i in v} for k, v in self.categories_.items()}\n",
    "        mu_func = np.median if self.use_median else np.mean\n",
    "        self.all_mu = mu_func(_y[_y > 0.0]) if self.nonzero else mu_func(_y)\n",
    "        for k, v in self.categories_.items():\n",
    "            for i in v:\n",
    "                if self.nonzero:\n",
    "                    _x = _y[(_y > 0.0) & (_X[:, k] == i)]\n",
    "                    if _x.shape[0] == 0:\n",
    "                        self.mu_[k][i] = 0.0\n",
    "                    elif _x.shape[0] < self.min_samples:\n",
    "                        self.mu_[k][i] = self.all_mu\n",
    "                    else:\n",
    "                        self.mu_[k][i] = mu_func(_x)\n",
    "                else:\n",
    "                    _x = _y[_X[:, k] == i]\n",
    "                    if _x.shape[0] < self.min_samples:\n",
    "                        self.mu_[k][i] = self.all_mu\n",
    "                    else:\n",
    "                        self.mu_[k][i] = mu_func(_x)\n",
    "        return self\n",
    "    \n",
    "    def transform(self, X, y=None):\n",
    "        _X = np.array(X)\n",
    "        for i in range(_X.shape[1]):\n",
    "            _X[:, i] = [self.mu_[i][j] if j in self.mu_.keys() else self.all_mu for j in _X[:, i]]\n",
    "        return np.array(_X)"
   ]
  },
  {
   "cell_type": "markdown",
   "metadata": {},
   "source": [
    "# Non zero regressors\n",
    "\n",
    "We also need a wrapper for our freq/sev models that require non-zero responses.  This class filters out all nonzero responses from the training set so we can use the same CV loop for all models"
   ]
  },
  {
   "cell_type": "code",
   "execution_count": 9,
   "metadata": {},
   "outputs": [],
   "source": [
    "class NonZeroRegressor(BaseEstimator, RegressorMixin):\n",
    "    \n",
    "    def __init__(self, estimator, supports_sw=True):\n",
    "        self.estimator = estimator\n",
    "        self.supports_sw = supports_sw\n",
    "        \n",
    "    def fit(self, X, y, sample_weight=None):\n",
    "        non_zero = y > 0.0\n",
    "        if sample_weight is None or not self.supports_sw:\n",
    "            if isinstance(X, pd.DataFrame):\n",
    "                _X, _y = X.loc[non_zero, :], y.loc[non_zero]\n",
    "            else:\n",
    "                _X, _y  = X[non_zero, :], y[non_zero]\n",
    "            self.estimator.fit(_X, _y)\n",
    "        else:\n",
    "            if isinstance(X, pd.DataFrame):\n",
    "                _X, _y, _sample_weight  = X.loc[non_zero, :], y.loc[non_zero], sample_weight.loc[non_zero]\n",
    "            else:\n",
    "                _X, _y, _sample_weight  = X[non_zero, :], y[non_zero], sample_weight[non_zero]\n",
    "            self.estimator.fit(_X, _y, sample_weight=_sample_weight)\n",
    "        return self\n",
    "    \n",
    "    def predict(self, X, y=None):\n",
    "        return self.estimator.predict(X)"
   ]
  },
  {
   "cell_type": "markdown",
   "metadata": {},
   "source": [
    "# Categorical transformers\n",
    "\n",
    "We also need a selector for our categorical features so we only target encode those and let the rest pass through the pipeline unchanged"
   ]
  },
  {
   "cell_type": "code",
   "execution_count": 10,
   "metadata": {},
   "outputs": [],
   "source": [
    "# Defining column transformers for later steps          \n",
    "get_cats = make_column_selector(dtype_include=pd.CategoricalDtype)"
   ]
  },
  {
   "cell_type": "markdown",
   "metadata": {},
   "source": [
    "# Ind-Freq-Sev Models"
   ]
  },
  {
   "cell_type": "code",
   "execution_count": 18,
   "metadata": {},
   "outputs": [],
   "source": [
    "# Logistic regression\n",
    "# Defining our features\n",
    "\"\"\"\n",
    "cols = ['exposure',\n",
    "        'veh_value',\n",
    "        'veh_age',\n",
    "        'area',\n",
    "        'dr_age',\n",
    "        'id_scaled']\n",
    "binaries = ['young_m',\n",
    "            'gender',\n",
    "            'expensive_veh',\n",
    "            'frequent_area',\n",
    "            'old_dr',\n",
    "            'young_dr_old_car',\n",
    "            'young_m_old_car']\n",
    "X_ind = df[cols + binaries].copy()\n",
    "for i in binaries:\n",
    "    X_ind[i] = X_ind[i].astype(np.int64)\n",
    "\"\"\"\n",
    "    \n",
    "X_ind = df[['id_scaled']].copy()\n",
    "    \n",
    "# Defining our pipeline\n",
    "#ind_logit = make_pipeline(ColumnTransformer([('target_enc', TargetEncoder(True, True, 20), get_cats)], remainder='passthrough'),\n",
    "#                    StandardScaler(),\n",
    "#                    LogisticRegression(C=0.01, class_weight='balanced', max_iter=1000))\n",
    "ind_logit = LogisticRegression()\n",
    "\n",
    "# Performing cross validation\n",
    "ind_cv_preds = [cross_val_predict(ind_logit,\n",
    "                                 X_ind,\n",
    "                                 df['claim_ind'],\n",
    "                                 cv=KFold(10, shuffle=True, random_state=i),\n",
    "                                 n_jobs=-1,\n",
    "                                 method='predict_proba') for i in range(10)]\n",
    "\n",
    "# Fitting our model making test predictions\n",
    "ind_logit.fit(X_ind, df['claim_ind'])\n",
    "ind_preds = ind_logit.predict_proba(df_test[['id_scaled']])[:, 1]"
   ]
  },
  {
   "cell_type": "code",
   "execution_count": 19,
   "metadata": {},
   "outputs": [
    {
     "name": "stdout",
     "output_type": "stream",
     "text": [
      "              precision    recall  f1-score   support\n",
      "\n",
      "           0       0.99      1.00      1.00     21076\n",
      "           1       1.00      0.92      0.96      1534\n",
      "\n",
      "    accuracy                           0.99     22610\n",
      "   macro avg       0.99      0.96      0.98     22610\n",
      "weighted avg       0.99      0.99      0.99     22610\n",
      "\n"
     ]
    }
   ],
   "source": [
    "from sklearn.metrics import classification_report\n",
    "print(classification_report(df['claim_ind'], np.array([i[:, 1] for i in ind_cv_preds]).mean(axis=0) > 0.5))"
   ]
  },
  {
   "cell_type": "code",
   "execution_count": 20,
   "metadata": {},
   "outputs": [],
   "source": [
    "# Poisson\n",
    "\n",
    "# Defining our features\n",
    "cols = ['veh_value',\n",
    "        'veh_body',\n",
    "        'veh_age',\n",
    "        'area',\n",
    "        'dr_age',\n",
    "        'id_scaled'\n",
    "       ]\n",
    "binaries = ['young_m',\n",
    "            'gender',\n",
    "            'cheap_veh',\n",
    "            'expensive_veh',\n",
    "            'frequent_area',\n",
    "            'old_dr',\n",
    "            'young_dr_old_car',\n",
    "            'young_m_old_car']\n",
    "X_freq = df[cols + binaries].copy()\n",
    "for i in binaries:\n",
    "    X_freq[i] = X_freq[i].astype(np.int64)\n",
    "    \n",
    "# Defining our pipeline\n",
    "freq_poisson = make_pipeline(ColumnTransformer([('target_enc', TargetEncoder(True, True, 20), get_cats)], remainder='passthrough'),\n",
    "                                StandardScaler(),\n",
    "                                NonZeroRegressor(PoissonRegressor(alpha=1.0)))\n",
    "\n",
    "# Performing cross validation\n",
    "freq_cv_preds = [cross_val_predict(freq_poisson,\n",
    "                                   X_freq,\n",
    "                                   df['frequency'],\n",
    "                                   cv=KFold(10, shuffle=True, random_state=i),\n",
    "                                   fit_params={'nonzeroregressor__sample_weight': df['exposure']},\n",
    "                                   n_jobs=-1) for i in range(10)]\n",
    "\n",
    "# Training model and making test predictions\n",
    "freq_poisson.fit(X_freq.loc[sev_mask, :],\n",
    "                 df.loc[sev_mask, 'frequency'],\n",
    "                 nonzeroregressor__sample_weight=df.loc[sev_mask, 'exposure'])\n",
    "freq_preds = freq_poisson.predict(df_test[cols + binaries])"
   ]
  },
  {
   "cell_type": "code",
   "execution_count": 21,
   "metadata": {},
   "outputs": [],
   "source": [
    "# Gamma\n",
    "# Defining our features\n",
    "cols = ['veh_value',\n",
    "        'veh_body',\n",
    "        'veh_age',\n",
    "        'area',\n",
    "        'dr_age',\n",
    "        'id_scaled'\n",
    "       ]\n",
    "binaries = ['young_m',\n",
    "            'gender',\n",
    "            'cheap_veh',\n",
    "            'expensive_veh',\n",
    "            'frequent_area',\n",
    "            'old_dr',\n",
    "            'young_dr_old_car',\n",
    "            'young_m_old_car']\n",
    "X_sev = df[cols + binaries].copy()\n",
    "for i in binaries:\n",
    "    X_sev[i] = X_freq[i].astype(np.int64)\n",
    "\n",
    "# Creating our severity pipeline\n",
    "sev_gamma = make_pipeline(ColumnTransformer([('target_enc', TargetEncoder(True, True, 20), get_cats)], remainder='passthrough'),\n",
    "                    StandardScaler(),\n",
    "                    NonZeroRegressor(GammaRegressor(alpha=1.0)))\n",
    "sev_cv_preds = [cross_val_predict(sev_gamma,\n",
    "                                   X_sev,\n",
    "                                   df['severity'],\n",
    "                                   cv=KFold(10, shuffle=True, random_state=i),\n",
    "                                   fit_params={'nonzeroregressor__sample_weight': df['exposure']},\n",
    "                                   n_jobs=-1) for i in range(10)]\n",
    "\n",
    "# Training model and making test predictions\n",
    "sev_gamma.fit(X_sev.loc[sev_mask, cols + binaries],\n",
    "              df.loc[sev_mask, 'severity'],\n",
    "              nonzeroregressor__sample_weight=df.loc[sev_mask, 'claim_count'])\n",
    "sev_preds = sev_gamma.predict(df_test[cols + binaries])"
   ]
  },
  {
   "cell_type": "markdown",
   "metadata": {},
   "source": [
    "# Relativities\n",
    "\n",
    "We now need to apply loss or count ratio relativities to our model predictions to boost risk segmentation.  These were determined using the whole training set, with no smoothing or credibility applied. We included only those that increased our model's CV performance."
   ]
  },
  {
   "cell_type": "code",
   "execution_count": 25,
   "metadata": {},
   "outputs": [],
   "source": [
    "# Creating predictions\n",
    "preds = ind_preds * freq_preds * sev_preds * df_test['exposure']\n",
    "preds = np.where(df_test['dr_age'] == 1, preds * 1.794, preds)\n",
    "preds = np.where(df_test['dr_age'] == 5, preds * 0.569, preds)\n",
    "preds = np.where(df_test['dr_age'] == 6, preds * 0.715, preds)\n",
    "preds = np.where(df_test['gender'] == 'M', preds * 1.559, preds)\n",
    "preds = np.where(df_test['veh_age'] == 4, preds * 0.971, preds)\n",
    "preds = np.where(df_test['area'] == 'F', preds * 2.88, preds)\n",
    "preds = np.where(df_test['area'] == 'D', preds * 0.745, preds)\n",
    "preds = np.where(df_test['veh_body'] == 'STNWG', preds * 1.12, preds)\n",
    "preds = np.where(df_test['veh_body'] == 'SEDAN', preds * 0.803, preds)\n",
    "preds = np.where(df_test['expensive_veh'] == 1, preds * 0.5922, preds)\n",
    "preds = np.where(df_test['cheap_veh'] == 1, preds * 0.802, preds)"
   ]
  },
  {
   "cell_type": "markdown",
   "metadata": {},
   "source": [
    "Below is the code we used to find the loss/count ratio for a given variable and class"
   ]
  },
  {
   "cell_type": "code",
   "execution_count": 17,
   "metadata": {},
   "outputs": [
    {
     "data": {
      "text/plain": [
       "0.7443503701238103"
      ]
     },
     "execution_count": 17,
     "metadata": {},
     "output_type": "execute_result"
    }
   ],
   "source": [
    "#### loss ratio relativities\n",
    "var, val, ry = 'area', 'D', 'claim_count'\n",
    "((df[df[var] == val][ry].mean() / df[df[var] != val][ry].mean()) / \n",
    "(df[df[var] != val][ry].mean() / df[df[var] == val][ry].mean()))"
   ]
  },
  {
   "cell_type": "code",
   "execution_count": 18,
   "metadata": {},
   "outputs": [
    {
     "data": {
      "text/plain": [
       "0.7451334935577422"
      ]
     },
     "execution_count": 18,
     "metadata": {},
     "output_type": "execute_result"
    }
   ],
   "source": [
    "#### loss ratio relativities\n",
    "ry = 'claim_cost'\n",
    "((df[df[var] == val][ry].mean() / df[df[var] != val][ry].mean()) / \n",
    "(df[df[var] != val][ry].mean() / df[df[var] == val][ry].mean()))"
   ]
  },
  {
   "cell_type": "markdown",
   "metadata": {},
   "source": [
    "# Creating our test submission"
   ]
  },
  {
   "cell_type": "code",
   "execution_count": 26,
   "metadata": {},
   "outputs": [],
   "source": [
    "# Creating our submission\n",
    "submission = df_test[['id']].copy()\n",
    "submission['id'] = np.arange(submission.shape[0])\n",
    "submission['id'] = submission['id'].astype(int)\n",
    "submission['id'] += 1\n",
    "submission['claim_cost'] = preds\n",
    "submission[['id', 'claim_cost']].to_csv('area_scaled_id.csv', index=False)"
   ]
  },
  {
   "cell_type": "markdown",
   "metadata": {},
   "source": [
    "# Validation"
   ]
  },
  {
   "cell_type": "code",
   "execution_count": 22,
   "metadata": {},
   "outputs": [],
   "source": [
    "preds = np.array([i[:, 1] for i in ind_cv_preds]).mean(axis=0)\n",
    "preds *= np.array(freq_cv_preds).mean(axis=0)\n",
    "preds *= np.array(sev_cv_preds).mean(axis=0)\n",
    "preds *= df['exposure']\n",
    "raw_preds = preds.copy()\n",
    "preds = np.where(df['dr_age'] == 1, preds * 1.794, preds)\n",
    "preds = np.where(df['dr_age'] == 5, preds * 0.569, preds)\n",
    "preds = np.where(df['dr_age'] == 6, preds * 0.715, preds)\n",
    "preds = np.where(df['gender'] == 'M', preds * 1.559, preds)\n",
    "preds = np.where(df['veh_age'] == 4, preds * 0.971, preds)\n",
    "preds = np.where(df['area'] == 'F', preds * 2.88, preds)\n",
    "preds = np.where(df['area'] == 'D', preds * 0.745, preds)\n",
    "preds = np.where(df['veh_body'] == 'STNWG', preds * 1.12, preds)\n",
    "preds = np.where(df['veh_body'] == 'SEDAN', preds * 0.803, preds)\n",
    "preds = np.where(df['expensive_veh'] == 1, preds * 0.5922, preds)\n",
    "preds = np.where(df['cheap_veh'] == 1, preds * 0.802, preds)"
   ]
  },
  {
   "cell_type": "code",
   "execution_count": 23,
   "metadata": {},
   "outputs": [
    {
     "name": "stdout",
     "output_type": "stream",
     "text": [
      "0.9257538046710305\n",
      "0.9268605704010122\n"
     ]
    }
   ],
   "source": [
    "# Calculating Gini\n",
    "print(gini(df['claim_cost'], raw_preds))\n",
    "print(gini(df['claim_cost'], preds))"
   ]
  },
  {
   "cell_type": "code",
   "execution_count": 24,
   "metadata": {},
   "outputs": [
    {
     "name": "stdout",
     "output_type": "stream",
     "text": [
      "0.9257538046710305\n",
      "0.9268605704010122\n"
     ]
    }
   ],
   "source": [
    "# Calculating Gini\n",
    "print(gini(df['claim_cost'], raw_preds))\n",
    "print(gini(df['claim_cost'], preds))"
   ]
  },
  {
   "cell_type": "code",
   "execution_count": 23,
   "metadata": {},
   "outputs": [
    {
     "data": {
      "image/png": "[encoded data removed]",
      "text/plain": [
       "<Figure size 792x648 with 1 Axes>"
      ]
     },
     "metadata": {
      "needs_background": "light"
     },
     "output_type": "display_data"
    }
   ],
   "source": [
    "# Lift Chart\n",
    "df_lift = pd.DataFrame({'y': df['claim_cost'], 'pred': raw_preds}).sort_values('pred')\n",
    "df_lift['decile'] = pd.qcut(df_lift['pred'], q=10, labels=False) + 1\n",
    "df_lift = df_lift.groupby('decile').mean().reset_index()\n",
    "\n",
    "plt.figure(figsize=(11, 9))\n",
    "plt.plot(df_lift['decile'], minmax_scale(df_lift['pred']), label='Predicted Loss')\n",
    "plt.plot(df_lift['decile'], minmax_scale(df_lift['y']), label='Actual Loss')\n",
    "plt.xlabel('Predicted Loss Decile')\n",
    "plt.ylabel('Scaled Loss Amount')\n",
    "plt.title('Our Solution Segments Risk Well')\n",
    "plt.legend()\n",
    "plt.show()"
   ]
  },
  {
   "cell_type": "code",
   "execution_count": 24,
   "metadata": {},
   "outputs": [
    {
     "data": {
      "image/png": "[encoded data removed]",
      "text/plain": [
       "<Figure size 648x576 with 1 Axes>"
      ]
     },
     "metadata": {
      "needs_background": "light"
     },
     "output_type": "display_data"
    }
   ],
   "source": [
    "# Lift Chart\n",
    "df_lift = pd.DataFrame({'y': df['claim_cost'], 'pred': preds}).sort_values('pred')\n",
    "df_lift['decile'] = pd.qcut(df_lift['pred'], q=10, labels=False) + 1\n",
    "df_lift = df_lift.groupby('decile').mean().reset_index()\n",
    "\n",
    "plt.figure(figsize=(9, 8))\n",
    "plt.plot(df_lift['decile'], minmax_scale(df_lift['pred']), label='Predicted Loss')\n",
    "plt.plot(df_lift['decile'], minmax_scale(df_lift['y']), label='Actual Loss')\n",
    "plt.xlabel('Predicted Loss Decile')\n",
    "plt.ylabel('Scaled Loss Amount')\n",
    "plt.title('Lift Chart: Our Solution Seperates Low and High Risk Well')\n",
    "plt.legend()\n",
    "plt.show()"
   ]
  }
 ],
 "metadata": {
  "kernelspec": {
   "display_name": "Python 3",
   "language": "python",
   "name": "python3"
  },
  "language_info": {
   "codemirror_mode": {
    "name": "ipython",
    "version": 3
   },
   "file_extension": ".py",
   "mimetype": "text/x-python",
   "name": "python",
   "nbconvert_exporter": "python",
   "pygments_lexer": "ipython3",
   "version": "3.8.5"
  }
 },
 "nbformat": 4,
 "nbformat_minor": 4
}
